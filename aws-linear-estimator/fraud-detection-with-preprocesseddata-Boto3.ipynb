{
 "cells": [
  {
   "cell_type": "code",
   "execution_count": 1,
   "metadata": {},
   "outputs": [
    {
     "name": "stdout",
     "output_type": "stream",
     "text": [
      "Success - the MySageMakerInstance is in the us-east-1 region. You will use the 811284229777.dkr.ecr.us-east-1.amazonaws.com/xgboost:latest container for your SageMaker endpoint.\n"
     ]
    }
   ],
   "source": [
    "# import libraries test 1\n",
    "import boto3, re, sys, math, json, os, sagemaker, urllib.request\n",
    "from sagemaker import get_execution_role\n",
    "import numpy as np                                \n",
    "import pandas as pd                               \n",
    "import matplotlib.pyplot as plt                   \n",
    "from IPython.display import Image                 \n",
    "from IPython.display import display               \n",
    "from time import gmtime, strftime                 \n",
    "from sagemaker.predictor import csv_serializer   \n",
    "import io\n",
    "import time\n",
    "import json\n",
    "import sagemaker.amazon.common as smac\n",
    "%matplotlib inline\n",
    "containers = {'us-west-2': '433757028032.dkr.ecr.us-west-2.amazonaws.com/xgboost:latest',\n",
    "              'us-east-1': '811284229777.dkr.ecr.us-east-1.amazonaws.com/xgboost:latest',\n",
    "              'us-east-2': '825641698319.dkr.ecr.us-east-2.amazonaws.com/xgboost:latest',\n",
    "              'eu-west-1': '685385470294.dkr.ecr.eu-west-1.amazonaws.com/xgboost:latest'} # each region has its XGBoost container\n",
    "my_region = boto3.session.Session().region_name # set the region of the instance\n",
    "\n",
    "\n",
    "print(\"Success - the MySageMakerInstance is in the \" + my_region + \" region. You will use the \" + containers[my_region] + \" container for your SageMaker endpoint.\")"
   ]
  },
  {
   "cell_type": "code",
   "execution_count": 2,
   "metadata": {},
   "outputs": [],
   "source": [
    "# S3 prefix\n",
    "bucket_name = 'demo-saeed'\n",
    "prefix = 'fraudcredit-pipeline-boto3'\n",
    "\n",
    "import sagemaker\n",
    "from sagemaker import get_execution_role\n",
    "\n",
    "sagemaker_session = sagemaker.Session()\n",
    "\n",
    "# Get a SageMaker-compatible role used by this Notebook Instance.\n",
    "role = get_execution_role()"
   ]
  },
  {
   "cell_type": "markdown",
   "metadata": {},
   "source": [
    "## Pre-processing\n",
    "#### Pre-processing Model Training"
   ]
  },
  {
   "cell_type": "code",
   "execution_count": 3,
   "metadata": {},
   "outputs": [
    {
     "name": "stdout",
     "output_type": "stream",
     "text": [
      "sklearn_fd_featurizer.py\n",
      "s3://demo-saeed/fraudcredit-pipeline-boto3/src_path/sklearn_fd_featurizer.tar.gz\n"
     ]
    }
   ],
   "source": [
    "!tar -czvf sklearn_fd_featurizer.tar.gz sklearn_fd_featurizer.py\n",
    "\n",
    "src_path = sagemaker_session.upload_data(\n",
    "    path='{}'.format('sklearn_fd_featurizer.tar.gz'), \n",
    "    bucket=bucket_name,\n",
    "    key_prefix='{}/{}'.format(prefix, 'src_path'))\n",
    "print(src_path)"
   ]
  },
  {
   "cell_type": "code",
   "execution_count": 4,
   "metadata": {},
   "outputs": [
    {
     "data": {
      "text/plain": [
       "'fd-preprocess-model-training-job-2019-05-31-14-06-30'"
      ]
     },
     "execution_count": 4,
     "metadata": {},
     "output_type": "execute_result"
    }
   ],
   "source": [
    "import datetime\n",
    "time  = str(datetime.datetime.today()).replace(' ', '-').replace(':', '-').rsplit('.')[0]\n",
    "training_job_name = 'fd-preprocess-model-training-job-{}'.format(time)\n",
    "sm = boto3.client('sagemaker')\n",
    "resp = sm.create_training_job(\n",
    "        TrainingJobName = training_job_name, \n",
    "        AlgorithmSpecification={\n",
    "            'TrainingInputMode': 'File',\n",
    "            'TrainingImage': '683313688378.dkr.ecr.us-east-1.amazonaws.com/sagemaker-scikit-learn:0.20.0-cpu-py3',\n",
    "        }, \n",
    "        RoleArn=role,\n",
    "        InputDataConfig=[\n",
    "                            {\n",
    "                                'ChannelName': 'train',\n",
    "                                'DataSource': {\n",
    "                                    'S3DataSource': {\n",
    "                                        'S3DataType': 'S3Prefix',\n",
    "                                        'S3Uri': 's3://{}/{}/raw_train'.format(bucket_name, prefix),\n",
    "                                        'S3DataDistributionType': 'FullyReplicated',\n",
    "                                    }\n",
    "                                },\n",
    "                            },\n",
    "                        ], \n",
    "        OutputDataConfig={\n",
    "                            'S3OutputPath': 's3://{}/{}/preprocessed-model'.format(bucket_name, prefix)\n",
    "                        },\n",
    "        ResourceConfig={\n",
    "                        'InstanceType': 'ml.m4.xlarge',\n",
    "                        'InstanceCount': 1,\n",
    "                        'VolumeSizeInGB': 30,\n",
    "                    }, \n",
    "        StoppingCondition={\n",
    "                            'MaxRuntimeInSeconds': 600\n",
    "                        },\n",
    "        HyperParameters={\n",
    "            'sagemaker_program' : \"sklearn_fd_featurizer.py\",\n",
    "            'sagemaker_region': \"us-east-1\",\n",
    "            'sagemaker_job_name': training_job_name,\n",
    "            'sagemaker_submit_directory': src_path\n",
    "        },\n",
    "        Tags=[]\n",
    "\n",
    ")\n",
    "training_job_name"
   ]
  },
  {
   "cell_type": "code",
   "execution_count": 6,
   "metadata": {},
   "outputs": [],
   "source": [
    "sm = boto3.client('sagemaker')\n",
    "#container = '683313688378.dkr.ecr.us-east-1.amazonaws.com/sagemaker-scikit-learn:0.20.0-cpu-py3'\n",
    "myPreprocesssedModelName = 'fd-preprocessing-model-{}'.format(time)\n",
    "try:\n",
    "    sm.create_model(\n",
    "        ModelName= myPreprocesssedModelName,\n",
    "        PrimaryContainer={\n",
    "            'Image': sm.describe_training_job(TrainingJobName = training_job_name)['AlgorithmSpecification']['TrainingImage'],\n",
    "            'ModelDataUrl': sm.describe_training_job(TrainingJobName = training_job_name)['ModelArtifacts']['S3ModelArtifacts'],\n",
    "                'Environment': {\n",
    "                'SAGEMAKER_PROGRAM': sm.describe_training_job(TrainingJobName = training_job_name)['HyperParameters']['sagemaker_program'],\n",
    "                'SAGEMAKER_REGION':sm.describe_training_job(TrainingJobName = training_job_name)['HyperParameters']['sagemaker_region'],\n",
    "                'SAGEMAKER_SUBMIT_DIRECTORY': sm.describe_training_job(TrainingJobName = training_job_name)['HyperParameters']['sagemaker_submit_directory']\n",
    "    \n",
    "            },\n",
    "        },\n",
    "        ExecutionRoleArn=role\n",
    "    )\n",
    "except Exception as e:\n",
    "    print(e)\n",
    "    print('Unable to create model.')\n",
    "    raise(e)"
   ]
  },
  {
   "cell_type": "markdown",
   "metadata": {},
   "source": [
    "#### Pre-processing Transformation"
   ]
  },
  {
   "cell_type": "code",
   "execution_count": 7,
   "metadata": {},
   "outputs": [
    {
     "data": {
      "text/plain": [
       "'fd-preprocessing-model-2019-05-31-14-06-30'"
      ]
     },
     "execution_count": 7,
     "metadata": {},
     "output_type": "execute_result"
    }
   ],
   "source": [
    "myPreprocesssedModelName"
   ]
  },
  {
   "cell_type": "code",
   "execution_count": 9,
   "metadata": {},
   "outputs": [
    {
     "name": "stdout",
     "output_type": "stream",
     "text": [
      "fd-TransformJob-train-2019-05-31-14-06-30\n",
      "{'DataSource': {'S3DataSource': {'S3DataDistributionType': 'FullyReplicated', 'S3DataType': 'S3Prefix', 'S3Uri': 's3://demo-saeed/fraudcredit-pipeline-boto3/preprocessed_train/'}}, 'ContentType': 'text/csv'}\n"
     ]
    }
   ],
   "source": [
    "sm = boto3.client('sagemaker')\n",
    "myTransformJobName='fd-TransformJob-train-{}'.format(time)\n",
    "transformerS3OutputPath_train = 's3://{}/{}/preprocessed_train/'.format(bucket_name, prefix)\n",
    "response = sm.create_transform_job(\n",
    "    TransformJobName=myTransformJobName,\n",
    "    ModelName = myPreprocesssedModelName,\n",
    "    MaxConcurrentTransforms=1,\n",
    "    MaxPayloadInMB=6,\n",
    "    BatchStrategy='MultiRecord',\n",
    "\n",
    "    TransformInput={\n",
    "        'DataSource': {\n",
    "            'S3DataSource': {\n",
    "                'S3DataType': 'S3Prefix',\n",
    "                'S3Uri': 's3://{}/{}/raw_train'.format(bucket_name, prefix)\n",
    "            }\n",
    "        },\n",
    "        'ContentType': 'text/csv',\n",
    "        'CompressionType': 'None',\n",
    "        'SplitType': 'Line'\n",
    "    },\n",
    "    TransformOutput={\n",
    "        'S3OutputPath': transformerS3OutputPath_train,\n",
    "        'Accept': 'text/csv',\n",
    "        'AssembleWith': 'Line'\n",
    "    },\n",
    "    TransformResources={\n",
    "        'InstanceType': 'ml.m5.4xlarge',\n",
    "        'InstanceCount': 1\n",
    "    },\n",
    "    Tags=[]\n",
    ")\n",
    "print(myTransformJobName)\n",
    "s3_input_processed_train = sagemaker.session.s3_input(\n",
    "    transformerS3OutputPath_train, \n",
    "    distribution='FullyReplicated',\n",
    "    content_type='text/csv', \n",
    "    s3_data_type='S3Prefix')\n",
    "print(s3_input_processed_train.config)"
   ]
  },
  {
   "cell_type": "code",
   "execution_count": null,
   "metadata": {},
   "outputs": [],
   "source": [
    "data_location = 's3://{}/{}/preprocessed_train/{}'.format(bucket_name, prefix,'train.csv.out')\n",
    "data_location"
   ]
  },
  {
   "cell_type": "code",
   "execution_count": null,
   "metadata": {},
   "outputs": [],
   "source": [
    "data = pd.read_csv(data_location, header=None)\n",
    "data.head()"
   ]
  },
  {
   "cell_type": "code",
   "execution_count": 10,
   "metadata": {},
   "outputs": [
    {
     "name": "stdout",
     "output_type": "stream",
     "text": [
      "fd-TransformJob-validation-2019-05-31-14-06-30\n",
      "{'DataSource': {'S3DataSource': {'S3DataDistributionType': 'FullyReplicated', 'S3DataType': 'S3Prefix', 'S3Uri': 's3://demo-saeed/fraudcredit-pipeline-boto3/preprocessed_validation/'}}, 'ContentType': 'text/csv'}\n"
     ]
    }
   ],
   "source": [
    "sm = boto3.client('sagemaker')\n",
    "myTransformJobName='fd-TransformJob-validation-{}'.format(time)\n",
    "transformerS3OutputPath_validation = 's3://{}/{}/preprocessed_validation/'.format(bucket_name, prefix)\n",
    "response = sm.create_transform_job(\n",
    "    TransformJobName=myTransformJobName,\n",
    "    ModelName = myPreprocesssedModelName,\n",
    "    MaxConcurrentTransforms=1,\n",
    "    MaxPayloadInMB=6,\n",
    "    BatchStrategy='MultiRecord',\n",
    "\n",
    "    TransformInput={\n",
    "        'DataSource': {\n",
    "            'S3DataSource': {\n",
    "                'S3DataType': 'S3Prefix',\n",
    "                'S3Uri': 's3://{}/{}/raw_validation'.format(bucket_name, prefix)\n",
    "            }\n",
    "        },\n",
    "        'ContentType': 'text/csv',\n",
    "        'CompressionType': 'None',\n",
    "        'SplitType': 'Line'\n",
    "    },\n",
    "    TransformOutput={\n",
    "        'S3OutputPath': transformerS3OutputPath_validation,\n",
    "        'Accept': 'text/csv',\n",
    "        'AssembleWith': 'Line'\n",
    "    },\n",
    "    TransformResources={\n",
    "        'InstanceType': 'ml.m5.4xlarge',\n",
    "        'InstanceCount': 1\n",
    "    },\n",
    "    Tags=[]\n",
    ")\n",
    "print(myTransformJobName)\n",
    "s3_input_processed_validation = sagemaker.session.s3_input(\n",
    "    transformerS3OutputPath_validation, \n",
    "    distribution='FullyReplicated',\n",
    "    content_type='text/csv', \n",
    "    s3_data_type='S3Prefix')\n",
    "print(s3_input_processed_validation.config)"
   ]
  },
  {
   "cell_type": "code",
   "execution_count": 11,
   "metadata": {},
   "outputs": [
    {
     "name": "stdout",
     "output_type": "stream",
     "text": [
      "fd-TransformJob-test-2019-05-31-14-06-30\n",
      "{'DataSource': {'S3DataSource': {'S3DataDistributionType': 'FullyReplicated', 'S3DataType': 'S3Prefix', 'S3Uri': 's3://demo-saeed/fraudcredit-pipeline-boto3/preprocessed_test/'}}, 'ContentType': 'text/csv'}\n"
     ]
    }
   ],
   "source": [
    "sm = boto3.client('sagemaker')\n",
    "myTransformJobName='fd-TransformJob-test-{}'.format(time)\n",
    "transformerS3OutputPath_test = 's3://{}/{}/preprocessed_test/'.format(bucket_name, prefix)\n",
    "response = sm.create_transform_job(\n",
    "    TransformJobName=myTransformJobName,\n",
    "    ModelName = myPreprocesssedModelName,\n",
    "    MaxConcurrentTransforms=1,\n",
    "    MaxPayloadInMB=6,\n",
    "    BatchStrategy='MultiRecord',\n",
    "\n",
    "    TransformInput={\n",
    "        'DataSource': {\n",
    "            'S3DataSource': {\n",
    "                'S3DataType': 'S3Prefix',\n",
    "                'S3Uri': 's3://{}/{}/raw_test'.format(bucket_name, prefix)\n",
    "            }\n",
    "        },\n",
    "        'ContentType': 'text/csv',\n",
    "        'CompressionType': 'None',\n",
    "        'SplitType': 'Line'\n",
    "    },\n",
    "    TransformOutput={\n",
    "        'S3OutputPath': transformerS3OutputPath_test,\n",
    "        'Accept': 'text/csv',\n",
    "        'AssembleWith': 'Line'\n",
    "    },\n",
    "    TransformResources={\n",
    "        'InstanceType': 'ml.m5.4xlarge',\n",
    "        'InstanceCount': 1\n",
    "    },\n",
    "    Tags=[]\n",
    ")\n",
    "\n",
    "print(myTransformJobName)\n",
    "s3_input_processed_test = sagemaker.session.s3_input(\n",
    "    transformerS3OutputPath_test, \n",
    "    distribution='FullyReplicated',\n",
    "    content_type='text/csv', \n",
    "    s3_data_type='S3Prefix')\n",
    "print(s3_input_processed_test.config)"
   ]
  },
  {
   "cell_type": "markdown",
   "metadata": {},
   "source": [
    "# linear learner Model"
   ]
  },
  {
   "cell_type": "code",
   "execution_count": 12,
   "metadata": {},
   "outputs": [
    {
     "data": {
      "text/plain": [
       "'382416733822.dkr.ecr.us-east-1.amazonaws.com/linear-learner:1'"
      ]
     },
     "execution_count": 12,
     "metadata": {},
     "output_type": "execute_result"
    }
   ],
   "source": [
    "from sagemaker.amazon.amazon_estimator import get_image_uri\n",
    "container = get_image_uri(boto3.Session().region_name, 'linear-learner')\n",
    "container"
   ]
  },
  {
   "cell_type": "code",
   "execution_count": 13,
   "metadata": {},
   "outputs": [
    {
     "name": "stdout",
     "output_type": "stream",
     "text": [
      "training artifacts will be uploaded to: s3://demo-saeed/fraudcredit-pipeline-boto3/model-output\n"
     ]
    }
   ],
   "source": [
    "output_location = 's3://{}/{}/model-output'.format(bucket_name, prefix)\n",
    "print('training artifacts will be uploaded to: {}'.format(output_location))"
   ]
  },
  {
   "cell_type": "code",
   "execution_count": 14,
   "metadata": {},
   "outputs": [
    {
     "data": {
      "text/plain": [
       "'s3://demo-saeed/fraudcredit-pipeline-boto3/preprocessed_train/'"
      ]
     },
     "execution_count": 14,
     "metadata": {},
     "output_type": "execute_result"
    }
   ],
   "source": [
    "transformerS3OutputPath_train"
   ]
  },
  {
   "cell_type": "code",
   "execution_count": 15,
   "metadata": {},
   "outputs": [],
   "source": [
    "myModelTrainingJobName='fd-linear-TrainingJob-{}'.format(time)\n",
    "try:\n",
    "    response = sm.create_training_job(\n",
    "        TrainingJobName=myModelTrainingJobName,\n",
    "        HyperParameters={\n",
    "            'feature_dim': '30',\n",
    "            'predictor_type': 'binary_classifier',\n",
    "            'mini_batch_size': '200'\n",
    "        },\n",
    "        AlgorithmSpecification={\n",
    "            'TrainingImage': container,\n",
    "            'TrainingInputMode': 'File'\n",
    "        },\n",
    "        RoleArn=role,\n",
    "        InputDataConfig=[\n",
    "            {\n",
    "                'ChannelName': 'train',\n",
    "                'ContentType':'text/csv',\n",
    "                'DataSource': {\n",
    "                    'S3DataSource': {\n",
    "                        'S3DataType': 'S3Prefix',\n",
    "                        'S3Uri': transformerS3OutputPath_train,\n",
    "                        'S3DataDistributionType': 'FullyReplicated'\n",
    "                    }\n",
    "                },\n",
    "\n",
    "                'CompressionType': 'None'\n",
    "            },\n",
    "            {\n",
    "                'ChannelName': 'validation',\n",
    "                'ContentType':'text/csv',\n",
    "                'DataSource': {\n",
    "                    'S3DataSource': {\n",
    "                        'S3DataType': 'S3Prefix',\n",
    "                        'S3Uri': transformerS3OutputPath_validation,\n",
    "                        'S3DataDistributionType': 'FullyReplicated'\n",
    "                        \n",
    "                    }\n",
    "                },\n",
    "\n",
    "                'CompressionType': 'None'\n",
    "            },\n",
    "            {\n",
    "                'ChannelName': 'test',\n",
    "                'ContentType':'text/csv',\n",
    "                'DataSource': {\n",
    "                    'S3DataSource': {\n",
    "                        'S3DataType': 'S3Prefix',\n",
    "                        'S3Uri': transformerS3OutputPath_test,\n",
    "                        'S3DataDistributionType': 'FullyReplicated'\n",
    "                        \n",
    "                    }\n",
    "                },\n",
    "\n",
    "                'CompressionType': 'None'\n",
    "            }\n",
    "        ],\n",
    "        OutputDataConfig={\n",
    "            'S3OutputPath': output_location\n",
    "        },\n",
    "        ResourceConfig={\n",
    "            'InstanceType': 'ml.m4.2xlarge',\n",
    "            'InstanceCount': 4,\n",
    "            'VolumeSizeInGB': 50\n",
    "        },\n",
    "        StoppingCondition={\n",
    "            'MaxRuntimeInSeconds': 86400\n",
    "        }\n",
    "    )\n",
    "except Exception as e:\n",
    "    print(e)\n",
    "    print('Unable to create training job.')\n",
    "    raise(e)"
   ]
  },
  {
   "cell_type": "code",
   "execution_count": 17,
   "metadata": {},
   "outputs": [],
   "source": [
    "sm = boto3.client('sagemaker')\n",
    "try:\n",
    "    sm.create_model(\n",
    "        ModelName='fd-linear-model-{}'.format(time),\n",
    "        PrimaryContainer={\n",
    "            'Image': container,\n",
    "            'ModelDataUrl': sm.describe_training_job( TrainingJobName=myModelTrainingJobName )['ModelArtifacts']['S3ModelArtifacts']\n",
    "        },\n",
    "        ExecutionRoleArn=role\n",
    "    )\n",
    "except Exception as e:\n",
    "    print(e)\n",
    "    print('Unable to create model.')\n",
    "    raise(e)"
   ]
  },
  {
   "cell_type": "markdown",
   "metadata": {},
   "source": [
    "# Model Pipline"
   ]
  },
  {
   "cell_type": "code",
   "execution_count": 18,
   "metadata": {},
   "outputs": [
    {
     "data": {
      "text/plain": [
       "{'ModelArn': 'arn:aws:sagemaker:us-east-1:079329190341:model/fd-pipline-model-2019-05-31-14-06-30',\n",
       " 'ResponseMetadata': {'RequestId': 'b91c43c4-4320-44f5-a430-e87214aa1354',\n",
       "  'HTTPStatusCode': 200,\n",
       "  'HTTPHeaders': {'x-amzn-requestid': 'b91c43c4-4320-44f5-a430-e87214aa1354',\n",
       "   'content-type': 'application/x-amz-json-1.1',\n",
       "   'content-length': '98',\n",
       "   'date': 'Fri, 31 May 2019 14:21:26 GMT'},\n",
       "  'RetryAttempts': 0}}"
      ]
     },
     "execution_count": 18,
     "metadata": {},
     "output_type": "execute_result"
    }
   ],
   "source": [
    "sm = boto3.client('sagemaker')\n",
    "pipline_model_name = 'fd-pipline-model-{}'.format(time)\n",
    "response = sm.create_model(\n",
    "    ModelName= pipline_model_name,\n",
    "    Containers=[\n",
    "         {\n",
    "            'Image': sm.describe_training_job(TrainingJobName = training_job_name)['AlgorithmSpecification']['TrainingImage'],\n",
    "            'ModelDataUrl': sm.describe_training_job(TrainingJobName = training_job_name)['ModelArtifacts']['S3ModelArtifacts'],\n",
    "                'Environment': {\n",
    "                'SAGEMAKER_PROGRAM': sm.describe_training_job(TrainingJobName = training_job_name)['HyperParameters']['sagemaker_program'],\n",
    "                'SAGEMAKER_REGION':sm.describe_training_job(TrainingJobName = training_job_name)['HyperParameters']['sagemaker_region'],\n",
    "                'SAGEMAKER_SUBMIT_DIRECTORY': sm.describe_training_job(TrainingJobName = training_job_name)['HyperParameters']['sagemaker_submit_directory']\n",
    "    \n",
    "            },\n",
    "        },\n",
    "        {\n",
    "            'Image': sm.describe_training_job( TrainingJobName=myModelTrainingJobName )['AlgorithmSpecification']['TrainingImage'],\n",
    "            'ModelDataUrl': sm.describe_training_job( TrainingJobName=myModelTrainingJobName )['ModelArtifacts']['S3ModelArtifacts']\n",
    "        }\n",
    "    ],\n",
    "    ExecutionRoleArn=role\n",
    ")\n",
    "response"
   ]
  },
  {
   "cell_type": "code",
   "execution_count": 19,
   "metadata": {},
   "outputs": [
    {
     "data": {
      "text/plain": [
       "'fd-pipline-model-2019-05-31-14-06-30'"
      ]
     },
     "execution_count": 19,
     "metadata": {},
     "output_type": "execute_result"
    }
   ],
   "source": [
    "pipline_model_name"
   ]
  },
  {
   "cell_type": "code",
   "execution_count": 20,
   "metadata": {},
   "outputs": [],
   "source": [
    "myEndpointConfigName='fd-endpoint-conf-pipline-{}'.format(time)\n",
    "try:\n",
    "    sm.create_endpoint_config(\n",
    "            EndpointConfigName=myEndpointConfigName,\n",
    "            ProductionVariants=[\n",
    "                {\n",
    "                    'VariantName': 'prod',\n",
    "                    'ModelName': pipline_model_name,\n",
    "                    'InitialInstanceCount': 1,\n",
    "                    'InstanceType': 'ml.c4.xlarge'\n",
    "                }\n",
    "            ]\n",
    "        )\n",
    "except Exception as e:\n",
    "        print(e)\n",
    "        print('Unable to create endpoint configuration.')\n",
    "        raise(e)"
   ]
  },
  {
   "cell_type": "code",
   "execution_count": 21,
   "metadata": {},
   "outputs": [
    {
     "data": {
      "text/plain": [
       "'fd-endpoint-conf-pipline-2019-05-31-14-06-30'"
      ]
     },
     "execution_count": 21,
     "metadata": {},
     "output_type": "execute_result"
    }
   ],
   "source": [
    "myEndpointConfigName"
   ]
  },
  {
   "cell_type": "code",
   "execution_count": 22,
   "metadata": {},
   "outputs": [],
   "source": [
    "myEndpointName = 'fd-scikit-est-model-pipe-inference'\n",
    "try:\n",
    "        sm.update_endpoint(\n",
    "            EndpointName=myEndpointName,\n",
    "            EndpointConfigName=myEndpointConfigName\n",
    "        )\n",
    "except Exception as e:\n",
    "        print(e)\n",
    "        print('Unable to create endpoint.')\n",
    "        raise(e)"
   ]
  },
  {
   "cell_type": "markdown",
   "metadata": {},
   "source": [
    "# Pipline Inference"
   ]
  },
  {
   "cell_type": "code",
   "execution_count": null,
   "metadata": {},
   "outputs": [],
   "source": [
    "data_location = 's3://{}/{}/{}/{}'.format(bucket_name, prefix,'preprocessed_train','train.csv.out')\n",
    "df = pd.read_csv(data_location,header = None)\n",
    "df.head(5)"
   ]
  },
  {
   "cell_type": "code",
   "execution_count": null,
   "metadata": {},
   "outputs": [],
   "source": [
    "X_test = df.iloc[0:1, 1:]\n",
    "# X_test.columns =['Time', 'V1', 'V2', 'V3', 'V4', 'V5', 'V6', 'V7', 'V8', 'V9', 'V10',\n",
    "#        'V11', 'V12', 'V13', 'V14', 'V15', 'V16', 'V17', 'V18', 'V19', 'V20',\n",
    "#        'V21', 'V22', 'V23', 'V24', 'V25', 'V26', 'V27', 'V28', 'Amount']\n",
    "X_test"
   ]
  },
  {
   "cell_type": "code",
   "execution_count": null,
   "metadata": {},
   "outputs": [],
   "source": [
    "# input_Data = \",\".join( map( str, X_test.iloc[0] ) )\n",
    "# input_Data "
   ]
  },
  {
   "cell_type": "code",
   "execution_count": null,
   "metadata": {},
   "outputs": [],
   "source": [
    "sess = sagemaker.Session()\n",
    "from sagemaker.predictor import json_serializer, csv_serializer, json_deserializer, RealTimePredictor\n",
    "from sagemaker.content_types import CONTENT_TYPE_CSV, CONTENT_TYPE_JSON\n",
    "payload = X_test.values\n",
    "actual_rings = 10\n",
    "predictor = RealTimePredictor(\n",
    "    endpoint=myEndpointName,\n",
    "    sagemaker_session=sess,\n",
    "    serializer=csv_serializer,\n",
    "    content_type=CONTENT_TYPE_CSV,\n",
    "    accept=CONTENT_TYPE_JSON)\n",
    "\n",
    "print(predictor.predict(payload))\n"
   ]
  }
 ],
 "metadata": {
  "kernelspec": {
   "display_name": "conda_python3",
   "language": "python",
   "name": "conda_python3"
  },
  "language_info": {
   "codemirror_mode": {
    "name": "ipython",
    "version": 3
   },
   "file_extension": ".py",
   "mimetype": "text/x-python",
   "name": "python",
   "nbconvert_exporter": "python",
   "pygments_lexer": "ipython3",
   "version": "3.6.5"
  }
 },
 "nbformat": 4,
 "nbformat_minor": 2
}
