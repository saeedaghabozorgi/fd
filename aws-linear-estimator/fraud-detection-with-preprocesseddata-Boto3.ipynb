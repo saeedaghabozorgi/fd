{
 "cells": [
  {
   "cell_type": "code",
   "execution_count": 126,
   "metadata": {},
   "outputs": [
    {
     "name": "stdout",
     "output_type": "stream",
     "text": [
      "Success - the MySageMakerInstance is in the us-east-1 region. You will use the 811284229777.dkr.ecr.us-east-1.amazonaws.com/xgboost:latest container for your SageMaker endpoint.\n"
     ]
    }
   ],
   "source": [
    "# import libraries test 1\n",
    "import boto3, re, sys, math, json, os, sagemaker, urllib.request\n",
    "from sagemaker import get_execution_role\n",
    "import numpy as np                                \n",
    "import pandas as pd                               \n",
    "import matplotlib.pyplot as plt                   \n",
    "from IPython.display import Image                 \n",
    "from IPython.display import display               \n",
    "from time import gmtime, strftime                 \n",
    "from sagemaker.predictor import csv_serializer   \n",
    "import io\n",
    "import time\n",
    "import json\n",
    "import sagemaker.amazon.common as smac\n",
    "%matplotlib inline\n",
    "containers = {'us-west-2': '433757028032.dkr.ecr.us-west-2.amazonaws.com/xgboost:latest',\n",
    "              'us-east-1': '811284229777.dkr.ecr.us-east-1.amazonaws.com/xgboost:latest',\n",
    "              'us-east-2': '825641698319.dkr.ecr.us-east-2.amazonaws.com/xgboost:latest',\n",
    "              'eu-west-1': '685385470294.dkr.ecr.eu-west-1.amazonaws.com/xgboost:latest'} # each region has its XGBoost container\n",
    "my_region = boto3.session.Session().region_name # set the region of the instance\n",
    "\n",
    "\n",
    "print(\"Success - the MySageMakerInstance is in the \" + my_region + \" region. You will use the \" + containers[my_region] + \" container for your SageMaker endpoint.\")"
   ]
  },
  {
   "cell_type": "code",
   "execution_count": null,
   "metadata": {},
   "outputs": [],
   "source": []
  },
  {
   "cell_type": "code",
   "execution_count": 127,
   "metadata": {},
   "outputs": [],
   "source": [
    "# S3 prefix\n",
    "bucket_name = 'demo-saeed'\n",
    "prefix = 'fraudcredit-pipeline-boto3'\n",
    "\n",
    "import sagemaker\n",
    "from sagemaker import get_execution_role\n",
    "\n",
    "sagemaker_session = sagemaker.Session()\n",
    "\n",
    "# Get a SageMaker-compatible role used by this Notebook Instance.\n",
    "role = get_execution_role()"
   ]
  },
  {
   "cell_type": "code",
   "execution_count": 128,
   "metadata": {},
   "outputs": [
    {
     "name": "stdout",
     "output_type": "stream",
     "text": [
      "sklearn_fd_featurizer.py\n",
      "s3://demo-saeed/fraudcredit-pipeline-boto3/src_path/sklearn_fd_featurizer.tar.gz\n"
     ]
    }
   ],
   "source": [
    "!tar -czvf sklearn_fd_featurizer.tar.gz sklearn_fd_featurizer.py\n",
    "\n",
    "src_path = sagemaker_session.upload_data(\n",
    "    path='{}'.format('sklearn_fd_featurizer.tar.gz'), \n",
    "    bucket=bucket_name,\n",
    "    key_prefix='{}/{}'.format(prefix, 'src_path'))\n",
    "print(src_path)"
   ]
  },
  {
   "cell_type": "code",
   "execution_count": 129,
   "metadata": {},
   "outputs": [],
   "source": [
    "import datetime\n",
    "time  = str(datetime.datetime.today()).replace(' ', '-').replace(':', '-').rsplit('.')[0]\n",
    "training_job_name = 'fd-preprocess-model-job-{}'.format(time)\n",
    "sm = boto3.client('sagemaker')\n",
    "resp = sm.create_training_job(\n",
    "        TrainingJobName = training_job_name, \n",
    "        AlgorithmSpecification={\n",
    "            'TrainingInputMode': 'File',\n",
    "            'TrainingImage': '683313688378.dkr.ecr.us-east-1.amazonaws.com/sagemaker-scikit-learn:0.20.0-cpu-py3',\n",
    "        }, \n",
    "        RoleArn=role,\n",
    "        InputDataConfig=[\n",
    "                            {\n",
    "                                'ChannelName': 'train',\n",
    "                                'DataSource': {\n",
    "                                    'S3DataSource': {\n",
    "                                        'S3DataType': 'S3Prefix',\n",
    "                                        'S3Uri': 's3://{}/{}/raw'.format(bucket_name, prefix),\n",
    "                                        'S3DataDistributionType': 'FullyReplicated',\n",
    "                                    }\n",
    "                                },\n",
    "                            },\n",
    "                        ], \n",
    "        OutputDataConfig={\n",
    "                            'S3OutputPath': 's3://{}/{}/preprocessed-model'.format(bucket_name, prefix)\n",
    "                        },\n",
    "        ResourceConfig={\n",
    "                        'InstanceType': 'ml.m4.xlarge',\n",
    "                        'InstanceCount': 1,\n",
    "                        'VolumeSizeInGB': 30,\n",
    "                    }, \n",
    "        StoppingCondition={\n",
    "                            'MaxRuntimeInSeconds': 600\n",
    "                        },\n",
    "        HyperParameters={\n",
    "            'sagemaker_program' : \"sklearn_fd_featurizer.py\",\n",
    "            'sagemaker_region': \"us-east-1\",\n",
    "            'sagemaker_job_name': training_job_name,\n",
    "            'sagemaker_submit_directory': src_path\n",
    "        },\n",
    "        Tags=[]\n",
    "\n",
    ")"
   ]
  },
  {
   "cell_type": "code",
   "execution_count": 130,
   "metadata": {},
   "outputs": [
    {
     "data": {
      "text/plain": [
       "'fd-preprocess-model-job-2019-05-29-17-51-58'"
      ]
     },
     "execution_count": 130,
     "metadata": {},
     "output_type": "execute_result"
    }
   ],
   "source": [
    "training_job_name"
   ]
  },
  {
   "cell_type": "code",
   "execution_count": 131,
   "metadata": {},
   "outputs": [],
   "source": [
    "# s3_model_dir = sagemaker.s3_input(s3_data='s3://{}/{}/preprocessed-output/'.format(bucket_name, prefix))\n",
    "# s3_model_dir.config"
   ]
  },
  {
   "cell_type": "code",
   "execution_count": 132,
   "metadata": {},
   "outputs": [],
   "source": [
    "sm = boto3.client('sagemaker')\n",
    "container = '683313688378.dkr.ecr.us-east-1.amazonaws.com/sagemaker-scikit-learn:0.20.0-cpu-py3'\n",
    "myModelName = 'fd-preprocessing-model-{}'.format(time)\n",
    "try:\n",
    "    sm.create_model(\n",
    "        ModelName= myModelName,\n",
    "        PrimaryContainer={\n",
    "            'Image': container,\n",
    "            'ModelDataUrl': 's3://{}/{}/preprocessed-model/{}/output/model.tar.gz'.format(bucket_name, prefix,training_job_name),\n",
    "                'Environment': {\n",
    "                'SAGEMAKER_PROGRAM': 'sklearn_fd_featurizer.py',\n",
    "                'SAGEMAKER_REGION':'us-east-1',\n",
    "                'SAGEMAKER_SUBMIT_DIRECTORY': 's3://{}/{}/src_path/sklearn_fd_featurizer.tar.gz'.format(bucket_name, prefix)\n",
    "    \n",
    "            },\n",
    "        },\n",
    "        ExecutionRoleArn=role\n",
    "    )\n",
    "except Exception as e:\n",
    "    print(e)\n",
    "    print('Unable to create model.')\n",
    "    raise(e)"
   ]
  },
  {
   "cell_type": "code",
   "execution_count": 133,
   "metadata": {},
   "outputs": [
    {
     "data": {
      "text/plain": [
       "'fd-preprocessing-model-2019-05-29-17-51-58'"
      ]
     },
     "execution_count": 133,
     "metadata": {},
     "output_type": "execute_result"
    }
   ],
   "source": [
    "myModelName"
   ]
  },
  {
   "cell_type": "code",
   "execution_count": 134,
   "metadata": {},
   "outputs": [],
   "source": [
    "sm = boto3.client('sagemaker')\n",
    "response = sm.create_transform_job(\n",
    "    TransformJobName='fd-TransformJobName2-{}'.format(time),\n",
    "    ModelName = myModelName,\n",
    "    MaxConcurrentTransforms=1,\n",
    "    MaxPayloadInMB=6,\n",
    "    BatchStrategy='MultiRecord',\n",
    "\n",
    "    TransformInput={\n",
    "        'DataSource': {\n",
    "            'S3DataSource': {\n",
    "                'S3DataType': 'S3Prefix',\n",
    "                'S3Uri': 's3://{}/{}/raw'.format(bucket_name, prefix)\n",
    "            }\n",
    "        },\n",
    "        'ContentType': 'text/csv',\n",
    "        'CompressionType': 'None',\n",
    "        'SplitType': 'Line'\n",
    "    },\n",
    "    TransformOutput={\n",
    "        'S3OutputPath': 's3://{}/{}/transformer_output/'.format(bucket_name, prefix),\n",
    "        'Accept': 'text/csv',\n",
    "        'AssembleWith': 'Line'\n",
    "    },\n",
    "    TransformResources={\n",
    "        'InstanceType': 'ml.m5.4xlarge',\n",
    "        'InstanceCount': 1\n",
    "    },\n",
    "    Tags=[]\n",
    ")"
   ]
  },
  {
   "cell_type": "code",
   "execution_count": 137,
   "metadata": {},
   "outputs": [
    {
     "data": {
      "text/plain": [
       "'s3://demo-saeed/fraudcredit-pipeline-boto3/transformer_output/creditcard_noheader.csv.out'"
      ]
     },
     "execution_count": 137,
     "metadata": {},
     "output_type": "execute_result"
    }
   ],
   "source": [
    "data_location = 's3://{}/{}/transformer_output/{}'.format(bucket_name, prefix,'creditcard_noheader.csv.out')\n",
    "data_location"
   ]
  },
  {
   "cell_type": "code",
   "execution_count": 138,
   "metadata": {},
   "outputs": [
    {
     "data": {
      "text/html": [
       "<div>\n",
       "<style scoped>\n",
       "    .dataframe tbody tr th:only-of-type {\n",
       "        vertical-align: middle;\n",
       "    }\n",
       "\n",
       "    .dataframe tbody tr th {\n",
       "        vertical-align: top;\n",
       "    }\n",
       "\n",
       "    .dataframe thead th {\n",
       "        text-align: right;\n",
       "    }\n",
       "</style>\n",
       "<table border=\"1\" class=\"dataframe\">\n",
       "  <thead>\n",
       "    <tr style=\"text-align: right;\">\n",
       "      <th></th>\n",
       "      <th>0</th>\n",
       "      <th>1</th>\n",
       "      <th>2</th>\n",
       "      <th>3</th>\n",
       "      <th>4</th>\n",
       "      <th>5</th>\n",
       "      <th>6</th>\n",
       "      <th>7</th>\n",
       "      <th>8</th>\n",
       "      <th>9</th>\n",
       "      <th>...</th>\n",
       "      <th>21</th>\n",
       "      <th>22</th>\n",
       "      <th>23</th>\n",
       "      <th>24</th>\n",
       "      <th>25</th>\n",
       "      <th>26</th>\n",
       "      <th>27</th>\n",
       "      <th>28</th>\n",
       "      <th>29</th>\n",
       "      <th>30</th>\n",
       "    </tr>\n",
       "  </thead>\n",
       "  <tbody>\n",
       "    <tr>\n",
       "      <th>0</th>\n",
       "      <td>0.0</td>\n",
       "      <td>-1.996583</td>\n",
       "      <td>-0.694242</td>\n",
       "      <td>-0.044075</td>\n",
       "      <td>1.672773</td>\n",
       "      <td>0.973366</td>\n",
       "      <td>-0.245117</td>\n",
       "      <td>0.347068</td>\n",
       "      <td>0.193679</td>\n",
       "      <td>0.082637</td>\n",
       "      <td>...</td>\n",
       "      <td>0.326118</td>\n",
       "      <td>-0.024923</td>\n",
       "      <td>0.382854</td>\n",
       "      <td>-0.176911</td>\n",
       "      <td>0.110507</td>\n",
       "      <td>0.246585</td>\n",
       "      <td>-0.392170</td>\n",
       "      <td>0.330892</td>\n",
       "      <td>-0.063781</td>\n",
       "      <td>0.244964</td>\n",
       "    </tr>\n",
       "    <tr>\n",
       "      <th>1</th>\n",
       "      <td>0.0</td>\n",
       "      <td>-1.996583</td>\n",
       "      <td>0.608496</td>\n",
       "      <td>0.161176</td>\n",
       "      <td>0.109797</td>\n",
       "      <td>0.316523</td>\n",
       "      <td>0.043483</td>\n",
       "      <td>-0.061820</td>\n",
       "      <td>-0.063700</td>\n",
       "      <td>0.071253</td>\n",
       "      <td>...</td>\n",
       "      <td>-0.089611</td>\n",
       "      <td>-0.307377</td>\n",
       "      <td>-0.880077</td>\n",
       "      <td>0.162201</td>\n",
       "      <td>-0.561131</td>\n",
       "      <td>0.320694</td>\n",
       "      <td>0.261069</td>\n",
       "      <td>-0.022256</td>\n",
       "      <td>0.044608</td>\n",
       "      <td>-0.342475</td>\n",
       "    </tr>\n",
       "    <tr>\n",
       "      <th>2</th>\n",
       "      <td>0.0</td>\n",
       "      <td>-1.996562</td>\n",
       "      <td>-0.693500</td>\n",
       "      <td>-0.811578</td>\n",
       "      <td>1.169468</td>\n",
       "      <td>0.268231</td>\n",
       "      <td>-0.364572</td>\n",
       "      <td>1.351454</td>\n",
       "      <td>0.639776</td>\n",
       "      <td>0.207373</td>\n",
       "      <td>...</td>\n",
       "      <td>0.680975</td>\n",
       "      <td>0.337632</td>\n",
       "      <td>1.063358</td>\n",
       "      <td>1.456320</td>\n",
       "      <td>-1.138092</td>\n",
       "      <td>-0.628537</td>\n",
       "      <td>-0.288447</td>\n",
       "      <td>-0.137137</td>\n",
       "      <td>-0.181021</td>\n",
       "      <td>1.160686</td>\n",
       "    </tr>\n",
       "    <tr>\n",
       "      <th>3</th>\n",
       "      <td>0.0</td>\n",
       "      <td>-1.996562</td>\n",
       "      <td>-0.493325</td>\n",
       "      <td>-0.112169</td>\n",
       "      <td>1.182516</td>\n",
       "      <td>-0.609727</td>\n",
       "      <td>-0.007469</td>\n",
       "      <td>0.936150</td>\n",
       "      <td>0.192071</td>\n",
       "      <td>0.316018</td>\n",
       "      <td>...</td>\n",
       "      <td>-0.269855</td>\n",
       "      <td>-0.147443</td>\n",
       "      <td>0.007267</td>\n",
       "      <td>-0.304777</td>\n",
       "      <td>-1.941027</td>\n",
       "      <td>1.241904</td>\n",
       "      <td>-0.460217</td>\n",
       "      <td>0.155396</td>\n",
       "      <td>0.186189</td>\n",
       "      <td>0.140534</td>\n",
       "    </tr>\n",
       "    <tr>\n",
       "      <th>4</th>\n",
       "      <td>0.0</td>\n",
       "      <td>-1.996541</td>\n",
       "      <td>-0.591330</td>\n",
       "      <td>0.531541</td>\n",
       "      <td>1.021412</td>\n",
       "      <td>0.284655</td>\n",
       "      <td>-0.295015</td>\n",
       "      <td>0.071999</td>\n",
       "      <td>0.479302</td>\n",
       "      <td>-0.226510</td>\n",
       "      <td>...</td>\n",
       "      <td>0.529939</td>\n",
       "      <td>-0.012839</td>\n",
       "      <td>1.100011</td>\n",
       "      <td>-0.220123</td>\n",
       "      <td>0.233250</td>\n",
       "      <td>-0.395202</td>\n",
       "      <td>1.041611</td>\n",
       "      <td>0.543620</td>\n",
       "      <td>0.651816</td>\n",
       "      <td>-0.073403</td>\n",
       "    </tr>\n",
       "  </tbody>\n",
       "</table>\n",
       "<p>5 rows × 31 columns</p>\n",
       "</div>"
      ],
      "text/plain": [
       "    0         1         2         3         4         5         6         7   \\\n",
       "0  0.0 -1.996583 -0.694242 -0.044075  1.672773  0.973366 -0.245117  0.347068   \n",
       "1  0.0 -1.996583  0.608496  0.161176  0.109797  0.316523  0.043483 -0.061820   \n",
       "2  0.0 -1.996562 -0.693500 -0.811578  1.169468  0.268231 -0.364572  1.351454   \n",
       "3  0.0 -1.996562 -0.493325 -0.112169  1.182516 -0.609727 -0.007469  0.936150   \n",
       "4  0.0 -1.996541 -0.591330  0.531541  1.021412  0.284655 -0.295015  0.071999   \n",
       "\n",
       "         8         9     ...           21        22        23        24  \\\n",
       "0  0.193679  0.082637    ...     0.326118 -0.024923  0.382854 -0.176911   \n",
       "1 -0.063700  0.071253    ...    -0.089611 -0.307377 -0.880077  0.162201   \n",
       "2  0.639776  0.207373    ...     0.680975  0.337632  1.063358  1.456320   \n",
       "3  0.192071  0.316018    ...    -0.269855 -0.147443  0.007267 -0.304777   \n",
       "4  0.479302 -0.226510    ...     0.529939 -0.012839  1.100011 -0.220123   \n",
       "\n",
       "         25        26        27        28        29        30  \n",
       "0  0.110507  0.246585 -0.392170  0.330892 -0.063781  0.244964  \n",
       "1 -0.561131  0.320694  0.261069 -0.022256  0.044608 -0.342475  \n",
       "2 -1.138092 -0.628537 -0.288447 -0.137137 -0.181021  1.160686  \n",
       "3 -1.941027  1.241904 -0.460217  0.155396  0.186189  0.140534  \n",
       "4  0.233250 -0.395202  1.041611  0.543620  0.651816 -0.073403  \n",
       "\n",
       "[5 rows x 31 columns]"
      ]
     },
     "execution_count": 138,
     "metadata": {},
     "output_type": "execute_result"
    }
   ],
   "source": [
    "data = pd.read_csv(data_location, header=None)\n",
    "data.head()"
   ]
  },
  {
   "cell_type": "code",
   "execution_count": 139,
   "metadata": {},
   "outputs": [],
   "source": [
    "X = data.iloc[:, 1:]\n",
    "y = data.loc[:, 0]"
   ]
  },
  {
   "cell_type": "code",
   "execution_count": 140,
   "metadata": {},
   "outputs": [
    {
     "data": {
      "text/plain": [
       "(284807, 30)"
      ]
     },
     "execution_count": 140,
     "metadata": {},
     "output_type": "execute_result"
    }
   ],
   "source": [
    "X.shape"
   ]
  },
  {
   "cell_type": "code",
   "execution_count": 141,
   "metadata": {},
   "outputs": [
    {
     "name": "stdout",
     "output_type": "stream",
     "text": [
      "Number transactions train dataset:  182276\n",
      "Number transactions Validation dataset:  45569\n",
      "Number transactions test dataset:  56962\n",
      "Total number of transactions:  284807\n"
     ]
    }
   ],
   "source": [
    "from sklearn.model_selection import train_test_split\n",
    "\n",
    "# Whole dataset\n",
    "X_train, X_test, y_train, y_test = train_test_split(X,y,test_size = 0.2, random_state = 0)\n",
    "\n",
    "X_train, X_val, y_train, y_val = train_test_split(X_train,y_train,test_size = 0.2 ,random_state = 0)\n",
    "\n",
    "print(\"Number transactions train dataset: \", len(X_train))\n",
    "print(\"Number transactions Validation dataset: \", len(X_val))\n",
    "print(\"Number transactions test dataset: \", len(X_test))\n",
    "print(\"Total number of transactions: \", len(X_train)+len(X_val)+len(X_test))\n",
    "\n",
    "\n"
   ]
  },
  {
   "cell_type": "markdown",
   "metadata": {},
   "source": [
    "### Upload training set"
   ]
  },
  {
   "cell_type": "code",
   "execution_count": 147,
   "metadata": {},
   "outputs": [],
   "source": [
    "import sagemaker"
   ]
  },
  {
   "cell_type": "code",
   "execution_count": 148,
   "metadata": {},
   "outputs": [
    {
     "data": {
      "text/plain": [
       "{'DataSource': {'S3DataSource': {'S3DataDistributionType': 'FullyReplicated',\n",
       "   'S3DataType': 'S3Prefix',\n",
       "   'S3Uri': 's3://demo-saeed/fraudcredit-pipeline-boto3/train'}}}"
      ]
     },
     "execution_count": 148,
     "metadata": {},
     "output_type": "execute_result"
    }
   ],
   "source": [
    "f = io.BytesIO()\n",
    "smac.write_numpy_to_dense_tensor(f, X_train.values.astype('float32'), y_train.values.reshape(-1).astype('float32'))\n",
    "f.seek(0)\n",
    "boto3.Session().resource('s3').Bucket(bucket_name).Object(os.path.join(prefix, 'train','linear_train.data')).upload_fileobj(f)\n",
    "s3_input_train = sagemaker.s3_input(s3_data='s3://{}/{}/train'.format(bucket_name, prefix))\n",
    "s3_input_train.config"
   ]
  },
  {
   "cell_type": "markdown",
   "metadata": {},
   "source": [
    "### Upload validation set"
   ]
  },
  {
   "cell_type": "code",
   "execution_count": 149,
   "metadata": {},
   "outputs": [
    {
     "data": {
      "text/plain": [
       "{'DataSource': {'S3DataSource': {'S3DataDistributionType': 'FullyReplicated',\n",
       "   'S3DataType': 'S3Prefix',\n",
       "   'S3Uri': 's3://demo-saeed/fraudcredit-pipeline-boto3/validation'}}}"
      ]
     },
     "execution_count": 149,
     "metadata": {},
     "output_type": "execute_result"
    }
   ],
   "source": [
    "f = io.BytesIO()\n",
    "smac.write_numpy_to_dense_tensor(f, X_val.values.astype('float32'), y_val.values.reshape(-1).astype('float32'))\n",
    "f.seek(0)\n",
    "boto3.Session().resource('s3').Bucket(bucket_name).Object(os.path.join(prefix, 'validation','linear_val.data')).upload_fileobj(f)\n",
    "s3_input_validation = sagemaker.s3_input(s3_data='s3://{}/{}/validation'.format(bucket_name, prefix))\n",
    "s3_input_validation.config\n"
   ]
  },
  {
   "cell_type": "markdown",
   "metadata": {},
   "source": [
    "### Upload test set\n"
   ]
  },
  {
   "cell_type": "code",
   "execution_count": 150,
   "metadata": {},
   "outputs": [
    {
     "data": {
      "text/plain": [
       "{'DataSource': {'S3DataSource': {'S3DataDistributionType': 'FullyReplicated',\n",
       "   'S3DataType': 'S3Prefix',\n",
       "   'S3Uri': 's3://demo-saeed/fraudcredit-pipeline-boto3/test'}}}"
      ]
     },
     "execution_count": 150,
     "metadata": {},
     "output_type": "execute_result"
    }
   ],
   "source": [
    "test_file = 'linear_test.data'\n",
    "\n",
    "f = io.BytesIO()\n",
    "smac.write_numpy_to_dense_tensor(f, X_test.values.astype('float32'), y_test.values.reshape(-1).astype('float32'))\n",
    "f.seek(0)\n",
    "\n",
    "boto3.Session().resource('s3').Bucket(bucket_name).Object(os.path.join(prefix, 'test',test_file)).upload_fileobj(f)\n",
    "s3_input_test = sagemaker.s3_input(s3_data='s3://{}/{}/test'.format(bucket_name, prefix))\n",
    "s3_input_test.config"
   ]
  },
  {
   "cell_type": "markdown",
   "metadata": {},
   "source": [
    "# training"
   ]
  },
  {
   "cell_type": "code",
   "execution_count": 151,
   "metadata": {},
   "outputs": [
    {
     "data": {
      "text/plain": [
       "'382416733822.dkr.ecr.us-east-1.amazonaws.com/linear-learner:1'"
      ]
     },
     "execution_count": 151,
     "metadata": {},
     "output_type": "execute_result"
    }
   ],
   "source": [
    "from sagemaker.amazon.amazon_estimator import get_image_uri\n",
    "container = get_image_uri(boto3.Session().region_name, 'linear-learner')\n",
    "container"
   ]
  },
  {
   "cell_type": "code",
   "execution_count": 152,
   "metadata": {},
   "outputs": [
    {
     "name": "stdout",
     "output_type": "stream",
     "text": [
      "training artifacts will be uploaded to: s3://demo-saeed/fraudcredit-pipeline-boto3/output\n"
     ]
    }
   ],
   "source": [
    "output_location = 's3://{}/{}/output'.format(bucket_name, prefix)\n",
    "print('training artifacts will be uploaded to: {}'.format(output_location))"
   ]
  },
  {
   "cell_type": "code",
   "execution_count": 153,
   "metadata": {},
   "outputs": [
    {
     "data": {
      "text/plain": [
       "(182276, 30)"
      ]
     },
     "execution_count": 153,
     "metadata": {},
     "output_type": "execute_result"
    }
   ],
   "source": [
    "X_train.shape"
   ]
  },
  {
   "cell_type": "code",
   "execution_count": 154,
   "metadata": {},
   "outputs": [
    {
     "name": "stdout",
     "output_type": "stream",
     "text": [
      "2019-05-29 18:11:43 Starting - Starting the training job...\n",
      "2019-05-29 18:11:45 Starting - Launching requested ML instances......\n",
      "2019-05-29 18:12:55 Starting - Preparing the instances for training...\n",
      "2019-05-29 18:13:39 Downloading - Downloading input data...\n",
      "2019-05-29 18:13:58 Training - Downloading the training image..\n",
      "\u001b[31mDocker entrypoint called with argument(s): train\u001b[0m\n",
      "\u001b[31m[05/29/2019 18:14:20 INFO 140035592775488] Reading default configuration from /opt/amazon/lib/python2.7/site-packages/algorithm/default-input.json: {u'loss_insensitivity': u'0.01', u'epochs': u'15', u'init_bias': u'0.0', u'lr_scheduler_factor': u'auto', u'num_calibration_samples': u'10000000', u'accuracy_top_k': u'3', u'_num_kv_servers': u'auto', u'use_bias': u'true', u'num_point_for_scaler': u'10000', u'_log_level': u'info', u'quantile': u'0.5', u'bias_lr_mult': u'auto', u'lr_scheduler_step': u'auto', u'init_method': u'uniform', u'init_sigma': u'0.01', u'lr_scheduler_minimum_lr': u'auto', u'target_recall': u'0.8', u'num_models': u'auto', u'early_stopping_patience': u'3', u'momentum': u'auto', u'unbias_label': u'auto', u'wd': u'auto', u'optimizer': u'auto', u'_tuning_objective_metric': u'', u'early_stopping_tolerance': u'0.001', u'learning_rate': u'auto', u'_kvstore': u'auto', u'normalize_data': u'true', u'binary_classifier_model_selection_criteria': u'accuracy', u'use_lr_scheduler': u'true', u'target_precision': u'0.8', u'unbias_data': u'auto', u'init_scale': u'0.07', u'bias_wd_mult': u'auto', u'f_beta': u'1.0', u'mini_batch_size': u'1000', u'huber_delta': u'1.0', u'num_classes': u'1', u'beta_1': u'auto', u'loss': u'auto', u'beta_2': u'auto', u'_enable_profiler': u'false', u'normalize_label': u'auto', u'_num_gpus': u'auto', u'balance_multiclass_weights': u'false', u'positive_example_weight_mult': u'1.0', u'l1': u'auto', u'margin': u'1.0'}\u001b[0m\n",
      "\u001b[31m[05/29/2019 18:14:20 INFO 140035592775488] Reading provided configuration from /opt/ml/input/config/hyperparameters.json: {u'epochs': u'1', u'feature_dim': u'30', u'mini_batch_size': u'200', u'predictor_type': u'binary_classifier'}\u001b[0m\n",
      "\u001b[31m[05/29/2019 18:14:21 INFO 140035592775488] Final configuration: {u'loss_insensitivity': u'0.01', u'epochs': u'1', u'feature_dim': u'30', u'init_bias': u'0.0', u'lr_scheduler_factor': u'auto', u'num_calibration_samples': u'10000000', u'accuracy_top_k': u'3', u'_num_kv_servers': u'auto', u'use_bias': u'true', u'num_point_for_scaler': u'10000', u'_log_level': u'info', u'quantile': u'0.5', u'bias_lr_mult': u'auto', u'lr_scheduler_step': u'auto', u'init_method': u'uniform', u'init_sigma': u'0.01', u'lr_scheduler_minimum_lr': u'auto', u'target_recall': u'0.8', u'num_models': u'auto', u'early_stopping_patience': u'3', u'momentum': u'auto', u'unbias_label': u'auto', u'wd': u'auto', u'optimizer': u'auto', u'_tuning_objective_metric': u'', u'early_stopping_tolerance': u'0.001', u'learning_rate': u'auto', u'_kvstore': u'auto', u'normalize_data': u'true', u'binary_classifier_model_selection_criteria': u'accuracy', u'use_lr_scheduler': u'true', u'target_precision': u'0.8', u'unbias_data': u'auto', u'init_scale': u'0.07', u'bias_wd_mult': u'auto', u'f_beta': u'1.0', u'mini_batch_size': u'200', u'huber_delta': u'1.0', u'num_classes': u'1', u'predictor_type': u'binary_classifier', u'beta_1': u'auto', u'loss': u'auto', u'beta_2': u'auto', u'_enable_profiler': u'false', u'normalize_label': u'auto', u'_num_gpus': u'auto', u'balance_multiclass_weights': u'false', u'positive_example_weight_mult': u'1.0', u'l1': u'auto', u'margin': u'1.0'}\u001b[0m\n",
      "\u001b[31m[05/29/2019 18:14:21 WARNING 140035592775488] Loggers have already been setup.\u001b[0m\n",
      "\u001b[31mProcess 1 is a worker.\u001b[0m\n",
      "\u001b[31m[05/29/2019 18:14:21 INFO 140035592775488] Using default worker.\u001b[0m\n",
      "\u001b[31m[2019-05-29 18:14:21.076] [tensorio] [info] batch={\"data_pipeline\": \"/opt/ml/input/data/train\", \"num_examples\": 200, \"features\": [{\"name\": \"label_values\", \"shape\": [1], \"storage_type\": \"dense\"}, {\"name\": \"values\", \"shape\": [30], \"storage_type\": \"dense\"}]}\u001b[0m\n",
      "\u001b[31m[2019-05-29 18:14:21.077] [tensorio] [warning] TensorIO is already initialized; ignoring the initialization routine.\u001b[0m\n",
      "\u001b[31m[2019-05-29 18:14:21.078] [tensorio] [info] batch={\"data_pipeline\": \"/opt/ml/input/data/validation\", \"num_examples\": 200, \"features\": [{\"name\": \"label_values\", \"shape\": [1], \"storage_type\": \"dense\"}, {\"name\": \"values\", \"shape\": [30], \"storage_type\": \"dense\"}]}\u001b[0m\n",
      "\u001b[31m[2019-05-29 18:14:21.079] [tensorio] [warning] TensorIO is already initialized; ignoring the initialization routine.\u001b[0m\n",
      "\u001b[31m[2019-05-29 18:14:21.080] [tensorio] [info] batch={\"data_pipeline\": \"/opt/ml/input/data/test\", \"num_examples\": 200, \"features\": [{\"name\": \"label_values\", \"shape\": [1], \"storage_type\": \"dense\"}, {\"name\": \"values\", \"shape\": [30], \"storage_type\": \"dense\"}]}\u001b[0m\n",
      "\u001b[31m[2019-05-29 18:14:21.100] [tensorio] [info] data_pipeline_stats={\"name\": \"/opt/ml/input/data/train\", \"epoch\": 0, \"duration\": 24, \"num_examples\": 1}\u001b[0m\n",
      "\u001b[31m[05/29/2019 18:14:21 INFO 140035592775488] Create Store: local\u001b[0m\n",
      "\u001b[31m[2019-05-29 18:14:21.215] [tensorio] [info] data_pipeline_stats={\"name\": \"/opt/ml/input/data/train\", \"epoch\": 1, \"duration\": 114, \"num_examples\": 51}\u001b[0m\n",
      "\u001b[31m[05/29/2019 18:14:21 INFO 140035592775488] Scaler algorithm parameters\n",
      " <algorithm.scaler.ScalerAlgorithmStable object at 0x7f5c3a945e10>\u001b[0m\n",
      "\u001b[31m[05/29/2019 18:14:21 INFO 140035592775488] Scaling model computed with parameters:\n",
      " {'stdev_weight': \u001b[0m\n",
      "\u001b[31m[ 0.9932093   0.98478907  0.97014368  1.01142824  1.00757754  0.95732415\n",
      "  0.96522385  0.99100453  1.01280963  1.03935599  1.05842471  1.00084281\n",
      "  1.01333356  0.99610287  1.00519717  1.00151384  1.00204444  1.04512835\n",
      "  1.0021069   1.00832725  1.00837564  0.96728134  1.00512314  0.9283542\n",
      "  0.99579996  1.00181091  1.00469089  1.04980719  0.88560313  1.03298545]\u001b[0m\n",
      "\u001b[31m<NDArray 30 @cpu(0)>, 'stdev_label': None, 'mean_label': None, 'mean_weight': \u001b[0m\n",
      "\u001b[31m[-0.00097785  0.00854406  0.00425653  0.00996967 -0.0033579  -0.01471171\n",
      " -0.00315378 -0.00790321 -0.00123366  0.00492133  0.01809339  0.01449225\n",
      " -0.01729413  0.00167765  0.00303497  0.00445184  0.00040691 -0.01881807\n",
      "  0.02107413  0.01012398  0.00599365 -0.003139    0.02294051 -0.01671775\n",
      " -0.01138714  0.00696959  0.00101797 -0.00975297  0.00350975 -0.00377121]\u001b[0m\n",
      "\u001b[31m<NDArray 30 @cpu(0)>}\u001b[0m\n",
      "\u001b[31m[05/29/2019 18:14:21 INFO 140035592775488] nvidia-smi took: 0.025178194046 secs to identify 0 gpus\u001b[0m\n",
      "\u001b[31m[05/29/2019 18:14:21 INFO 140035592775488] Number of GPUs being used: 0\u001b[0m\n",
      "\u001b[31m#metrics {\"Metrics\": {\"Max Batches Seen Between Resets\": {\"count\": 1, \"max\": 51, \"sum\": 51.0, \"min\": 51}, \"Number of Batches Since Last Reset\": {\"count\": 1, \"max\": 0, \"sum\": 0.0, \"min\": 0}, \"Number of Records Since Last Reset\": {\"count\": 1, \"max\": 0, \"sum\": 0.0, \"min\": 0}, \"Total Batches Seen\": {\"count\": 1, \"max\": 52, \"sum\": 52.0, \"min\": 52}, \"Total Records Seen\": {\"count\": 1, \"max\": 10400, \"sum\": 10400.0, \"min\": 10400}, \"Max Records Seen Between Resets\": {\"count\": 1, \"max\": 10200, \"sum\": 10200.0, \"min\": 10200}, \"Reset Count\": {\"count\": 1, \"max\": 2, \"sum\": 2.0, \"min\": 2}}, \"EndTime\": 1559153661.318284, \"Dimensions\": {\"Host\": \"algo-1\", \"Meta\": \"init_train_data_iter\", \"Operation\": \"training\", \"Algorithm\": \"Linear Learner\"}, \"StartTime\": 1559153661.318244}\n",
      "\u001b[0m\n",
      "\n",
      "2019-05-29 18:14:19 Training - Training image download completed. Training in progress.\u001b[31m#metrics {\"Metrics\": {\"train_binary_classification_cross_entropy_objective\": {\"count\": 1, \"max\": 0.03510545034178264, \"sum\": 0.03510545034178264, \"min\": 0.03510545034178264}}, \"EndTime\": 1559153685.554648, \"Dimensions\": {\"model\": 0, \"Host\": \"algo-1\", \"Operation\": \"training\", \"Algorithm\": \"Linear Learner\", \"epoch\": 0}, \"StartTime\": 1559153685.554581}\n",
      "\u001b[0m\n",
      "\u001b[31m#metrics {\"Metrics\": {\"train_binary_classification_cross_entropy_objective\": {\"count\": 1, \"max\": 0.03326980036565815, \"sum\": 0.03326980036565815, \"min\": 0.03326980036565815}}, \"EndTime\": 1559153685.554741, \"Dimensions\": {\"model\": 1, \"Host\": \"algo-1\", \"Operation\": \"training\", \"Algorithm\": \"Linear Learner\", \"epoch\": 0}, \"StartTime\": 1559153685.554726}\n",
      "\u001b[0m\n",
      "\u001b[31m#metrics {\"Metrics\": {\"train_binary_classification_cross_entropy_objective\": {\"count\": 1, \"max\": 0.03501573316483021, \"sum\": 0.03501573316483021, \"min\": 0.03501573316483021}}, \"EndTime\": 1559153685.55478, \"Dimensions\": {\"model\": 2, \"Host\": \"algo-1\", \"Operation\": \"training\", \"Algorithm\": \"Linear Learner\", \"epoch\": 0}, \"StartTime\": 1559153685.554771}\n",
      "\u001b[0m\n",
      "\u001b[31m#metrics {\"Metrics\": {\"train_binary_classification_cross_entropy_objective\": {\"count\": 1, \"max\": 0.033374324323840514, \"sum\": 0.033374324323840514, \"min\": 0.033374324323840514}}, \"EndTime\": 1559153685.554813, \"Dimensions\": {\"model\": 3, \"Host\": \"algo-1\", \"Operation\": \"training\", \"Algorithm\": \"Linear Learner\", \"epoch\": 0}, \"StartTime\": 1559153685.554805}\n",
      "\u001b[0m\n",
      "\u001b[31m#metrics {\"Metrics\": {\"train_binary_classification_cross_entropy_objective\": {\"count\": 1, \"max\": 0.009006285351822735, \"sum\": 0.009006285351822735, \"min\": 0.009006285351822735}}, \"EndTime\": 1559153685.554851, \"Dimensions\": {\"model\": 4, \"Host\": \"algo-1\", \"Operation\": \"training\", \"Algorithm\": \"Linear Learner\", \"epoch\": 0}, \"StartTime\": 1559153685.554842}\n",
      "\u001b[0m\n",
      "\u001b[31m#metrics {\"Metrics\": {\"train_binary_classification_cross_entropy_objective\": {\"count\": 1, \"max\": 0.00981478943235704, \"sum\": 0.00981478943235704, \"min\": 0.00981478943235704}}, \"EndTime\": 1559153685.554888, \"Dimensions\": {\"model\": 5, \"Host\": \"algo-1\", \"Operation\": \"training\", \"Algorithm\": \"Linear Learner\", \"epoch\": 0}, \"StartTime\": 1559153685.55488}\n",
      "\u001b[0m\n",
      "\u001b[31m#metrics {\"Metrics\": {\"train_binary_classification_cross_entropy_objective\": {\"count\": 1, \"max\": 0.008640355752268857, \"sum\": 0.008640355752268857, \"min\": 0.008640355752268857}}, \"EndTime\": 1559153685.554924, \"Dimensions\": {\"model\": 6, \"Host\": \"algo-1\", \"Operation\": \"training\", \"Algorithm\": \"Linear Learner\", \"epoch\": 0}, \"StartTime\": 1559153685.554916}\n",
      "\u001b[0m\n",
      "\u001b[31m#metrics {\"Metrics\": {\"train_binary_classification_cross_entropy_objective\": {\"count\": 1, \"max\": 0.009721199894527384, \"sum\": 0.009721199894527384, \"min\": 0.009721199894527384}}, \"EndTime\": 1559153685.554983, \"Dimensions\": {\"model\": 7, \"Host\": \"algo-1\", \"Operation\": \"training\", \"Algorithm\": \"Linear Learner\", \"epoch\": 0}, \"StartTime\": 1559153685.554968}\n",
      "\u001b[0m\n",
      "\u001b[31m#metrics {\"Metrics\": {\"train_binary_classification_cross_entropy_objective\": {\"count\": 1, \"max\": 0.035218286310802045, \"sum\": 0.035218286310802045, \"min\": 0.035218286310802045}}, \"EndTime\": 1559153685.555048, \"Dimensions\": {\"model\": 8, \"Host\": \"algo-1\", \"Operation\": \"training\", \"Algorithm\": \"Linear Learner\", \"epoch\": 0}, \"StartTime\": 1559153685.55503}\n",
      "\u001b[0m\n",
      "\u001b[31m#metrics {\"Metrics\": {\"train_binary_classification_cross_entropy_objective\": {\"count\": 1, \"max\": 0.033520765572982614, \"sum\": 0.033520765572982614, \"min\": 0.033520765572982614}}, \"EndTime\": 1559153685.555107, \"Dimensions\": {\"model\": 9, \"Host\": \"algo-1\", \"Operation\": \"training\", \"Algorithm\": \"Linear Learner\", \"epoch\": 0}, \"StartTime\": 1559153685.555091}\n",
      "\u001b[0m\n",
      "\u001b[31m#metrics {\"Metrics\": {\"train_binary_classification_cross_entropy_objective\": {\"count\": 1, \"max\": 0.03530411452709255, \"sum\": 0.03530411452709255, \"min\": 0.03530411452709255}}, \"EndTime\": 1559153685.555172, \"Dimensions\": {\"model\": 10, \"Host\": \"algo-1\", \"Operation\": \"training\", \"Algorithm\": \"Linear Learner\", \"epoch\": 0}, \"StartTime\": 1559153685.555155}\n",
      "\u001b[0m\n",
      "\u001b[31m#metrics {\"Metrics\": {\"train_binary_classification_cross_entropy_objective\": {\"count\": 1, \"max\": 0.03349596578075779, \"sum\": 0.03349596578075779, \"min\": 0.03349596578075779}}, \"EndTime\": 1559153685.55524, \"Dimensions\": {\"model\": 11, \"Host\": \"algo-1\", \"Operation\": \"training\", \"Algorithm\": \"Linear Learner\", \"epoch\": 0}, \"StartTime\": 1559153685.555223}\n",
      "\u001b[0m\n",
      "\u001b[31m#metrics {\"Metrics\": {\"train_binary_classification_cross_entropy_objective\": {\"count\": 1, \"max\": 0.008009266923559967, \"sum\": 0.008009266923559967, \"min\": 0.008009266923559967}}, \"EndTime\": 1559153685.555305, \"Dimensions\": {\"model\": 12, \"Host\": \"algo-1\", \"Operation\": \"training\", \"Algorithm\": \"Linear Learner\", \"epoch\": 0}, \"StartTime\": 1559153685.555289}\n",
      "\u001b[0m\n",
      "\u001b[31m#metrics {\"Metrics\": {\"train_binary_classification_cross_entropy_objective\": {\"count\": 1, \"max\": 0.00855776256283093, \"sum\": 0.00855776256283093, \"min\": 0.00855776256283093}}, \"EndTime\": 1559153685.555369, \"Dimensions\": {\"model\": 13, \"Host\": \"algo-1\", \"Operation\": \"training\", \"Algorithm\": \"Linear Learner\", \"epoch\": 0}, \"StartTime\": 1559153685.555357}\n",
      "\u001b[0m\n",
      "\u001b[31m#metrics {\"Metrics\": {\"train_binary_classification_cross_entropy_objective\": {\"count\": 1, \"max\": 0.007875644516774364, \"sum\": 0.007875644516774364, \"min\": 0.007875644516774364}}, \"EndTime\": 1559153685.555427, \"Dimensions\": {\"model\": 14, \"Host\": \"algo-1\", \"Operation\": \"training\", \"Algorithm\": \"Linear Learner\", \"epoch\": 0}, \"StartTime\": 1559153685.555412}\n",
      "\u001b[0m\n",
      "\u001b[31m#metrics {\"Metrics\": {\"train_binary_classification_cross_entropy_objective\": {\"count\": 1, \"max\": 0.008516146960544566, \"sum\": 0.008516146960544566, \"min\": 0.008516146960544566}}, \"EndTime\": 1559153685.555482, \"Dimensions\": {\"model\": 15, \"Host\": \"algo-1\", \"Operation\": \"training\", \"Algorithm\": \"Linear Learner\", \"epoch\": 0}, \"StartTime\": 1559153685.555467}\n",
      "\u001b[0m\n",
      "\u001b[31m#metrics {\"Metrics\": {\"train_binary_classification_cross_entropy_objective\": {\"count\": 1, \"max\": 0.03908280815532519, \"sum\": 0.03908280815532519, \"min\": 0.03908280815532519}}, \"EndTime\": 1559153685.555548, \"Dimensions\": {\"model\": 16, \"Host\": \"algo-1\", \"Operation\": \"training\", \"Algorithm\": \"Linear Learner\", \"epoch\": 0}, \"StartTime\": 1559153685.555532}\n",
      "\u001b[0m\n",
      "\u001b[31m#metrics {\"Metrics\": {\"train_binary_classification_cross_entropy_objective\": {\"count\": 1, \"max\": 0.03755545496384477, \"sum\": 0.03755545496384477, \"min\": 0.03755545496384477}}, \"EndTime\": 1559153685.555603, \"Dimensions\": {\"model\": 17, \"Host\": \"algo-1\", \"Operation\": \"training\", \"Algorithm\": \"Linear Learner\", \"epoch\": 0}, \"StartTime\": 1559153685.555588}\n",
      "\u001b[0m\n",
      "\u001b[31m#metrics {\"Metrics\": {\"train_binary_classification_cross_entropy_objective\": {\"count\": 1, \"max\": 0.03919285069901648, \"sum\": 0.03919285069901648, \"min\": 0.03919285069901648}}, \"EndTime\": 1559153685.555668, \"Dimensions\": {\"model\": 18, \"Host\": \"algo-1\", \"Operation\": \"training\", \"Algorithm\": \"Linear Learner\", \"epoch\": 0}, \"StartTime\": 1559153685.555652}\n",
      "\u001b[0m\n",
      "\u001b[31m#metrics {\"Metrics\": {\"train_binary_classification_cross_entropy_objective\": {\"count\": 1, \"max\": 0.03762157742854138, \"sum\": 0.03762157742854138, \"min\": 0.03762157742854138}}, \"EndTime\": 1559153685.555702, \"Dimensions\": {\"model\": 19, \"Host\": \"algo-1\", \"Operation\": \"training\", \"Algorithm\": \"Linear Learner\", \"epoch\": 0}, \"StartTime\": 1559153685.555694}\n",
      "\u001b[0m\n",
      "\u001b[31m#metrics {\"Metrics\": {\"train_binary_classification_cross_entropy_objective\": {\"count\": 1, \"max\": 0.013417241915939815, \"sum\": 0.013417241915939815, \"min\": 0.013417241915939815}}, \"EndTime\": 1559153685.555733, \"Dimensions\": {\"model\": 20, \"Host\": \"algo-1\", \"Operation\": \"training\", \"Algorithm\": \"Linear Learner\", \"epoch\": 0}, \"StartTime\": 1559153685.555726}\n",
      "\u001b[0m\n",
      "\u001b[31m#metrics {\"Metrics\": {\"train_binary_classification_cross_entropy_objective\": {\"count\": 1, \"max\": 0.013510966149223182, \"sum\": 0.013510966149223182, \"min\": 0.013510966149223182}}, \"EndTime\": 1559153685.555763, \"Dimensions\": {\"model\": 21, \"Host\": \"algo-1\", \"Operation\": \"training\", \"Algorithm\": \"Linear Learner\", \"epoch\": 0}, \"StartTime\": 1559153685.555755}\n",
      "\u001b[0m\n",
      "\u001b[31m#metrics {\"Metrics\": {\"train_binary_classification_cross_entropy_objective\": {\"count\": 1, \"max\": 0.013432793246881687, \"sum\": 0.013432793246881687, \"min\": 0.013432793246881687}}, \"EndTime\": 1559153685.555792, \"Dimensions\": {\"model\": 22, \"Host\": \"algo-1\", \"Operation\": \"training\", \"Algorithm\": \"Linear Learner\", \"epoch\": 0}, \"StartTime\": 1559153685.555784}\n",
      "\u001b[0m\n",
      "\u001b[31m#metrics {\"Metrics\": {\"train_binary_classification_cross_entropy_objective\": {\"count\": 1, \"max\": 0.013475038657791946, \"sum\": 0.013475038657791946, \"min\": 0.013475038657791946}}, \"EndTime\": 1559153685.555839, \"Dimensions\": {\"model\": 23, \"Host\": \"algo-1\", \"Operation\": \"training\", \"Algorithm\": \"Linear Learner\", \"epoch\": 0}, \"StartTime\": 1559153685.555824}\n",
      "\u001b[0m\n",
      "\u001b[31m#metrics {\"Metrics\": {\"train_binary_classification_cross_entropy_objective\": {\"count\": 1, \"max\": 0.039916189475195596, \"sum\": 0.039916189475195596, \"min\": 0.039916189475195596}}, \"EndTime\": 1559153685.555877, \"Dimensions\": {\"model\": 24, \"Host\": \"algo-1\", \"Operation\": \"training\", \"Algorithm\": \"Linear Learner\", \"epoch\": 0}, \"StartTime\": 1559153685.555868}\n",
      "\u001b[0m\n",
      "\u001b[31m#metrics {\"Metrics\": {\"train_binary_classification_cross_entropy_objective\": {\"count\": 1, \"max\": 0.038395984025281556, \"sum\": 0.038395984025281556, \"min\": 0.038395984025281556}}, \"EndTime\": 1559153685.555907, \"Dimensions\": {\"model\": 25, \"Host\": \"algo-1\", \"Operation\": \"training\", \"Algorithm\": \"Linear Learner\", \"epoch\": 0}, \"StartTime\": 1559153685.555899}\n",
      "\u001b[0m\n",
      "\u001b[31m#metrics {\"Metrics\": {\"train_binary_classification_cross_entropy_objective\": {\"count\": 1, \"max\": 0.03990748922433602, \"sum\": 0.03990748922433602, \"min\": 0.03990748922433602}}, \"EndTime\": 1559153685.555936, \"Dimensions\": {\"model\": 26, \"Host\": \"algo-1\", \"Operation\": \"training\", \"Algorithm\": \"Linear Learner\", \"epoch\": 0}, \"StartTime\": 1559153685.555928}\n",
      "\u001b[0m\n",
      "\u001b[31m#metrics {\"Metrics\": {\"train_binary_classification_cross_entropy_objective\": {\"count\": 1, \"max\": 0.03842549592681826, \"sum\": 0.03842549592681826, \"min\": 0.03842549592681826}}, \"EndTime\": 1559153685.555965, \"Dimensions\": {\"model\": 27, \"Host\": \"algo-1\", \"Operation\": \"training\", \"Algorithm\": \"Linear Learner\", \"epoch\": 0}, \"StartTime\": 1559153685.555957}\n",
      "\u001b[0m\n",
      "\u001b[31m#metrics {\"Metrics\": {\"train_binary_classification_cross_entropy_objective\": {\"count\": 1, \"max\": 0.014098122802197025, \"sum\": 0.014098122802197025, \"min\": 0.014098122802197025}}, \"EndTime\": 1559153685.556, \"Dimensions\": {\"model\": 28, \"Host\": \"algo-1\", \"Operation\": \"training\", \"Algorithm\": \"Linear Learner\", \"epoch\": 0}, \"StartTime\": 1559153685.555987}\n",
      "\u001b[0m\n",
      "\u001b[31m#metrics {\"Metrics\": {\"train_binary_classification_cross_entropy_objective\": {\"count\": 1, \"max\": 0.014053773850690201, \"sum\": 0.014053773850690201, \"min\": 0.014053773850690201}}, \"EndTime\": 1559153685.556048, \"Dimensions\": {\"model\": 29, \"Host\": \"algo-1\", \"Operation\": \"training\", \"Algorithm\": \"Linear Learner\", \"epoch\": 0}, \"StartTime\": 1559153685.556038}\n",
      "\u001b[0m\n",
      "\u001b[31m#metrics {\"Metrics\": {\"train_binary_classification_cross_entropy_objective\": {\"count\": 1, \"max\": 0.014096487043272094, \"sum\": 0.014096487043272094, \"min\": 0.014096487043272094}}, \"EndTime\": 1559153685.556084, \"Dimensions\": {\"model\": 30, \"Host\": \"algo-1\", \"Operation\": \"training\", \"Algorithm\": \"Linear Learner\", \"epoch\": 0}, \"StartTime\": 1559153685.556077}\n",
      "\u001b[0m\n",
      "\u001b[31m#metrics {\"Metrics\": {\"train_binary_classification_cross_entropy_objective\": {\"count\": 1, \"max\": 0.014085011741695425, \"sum\": 0.014085011741695425, \"min\": 0.014085011741695425}}, \"EndTime\": 1559153685.556114, \"Dimensions\": {\"model\": 31, \"Host\": \"algo-1\", \"Operation\": \"training\", \"Algorithm\": \"Linear Learner\", \"epoch\": 0}, \"StartTime\": 1559153685.556106}\n",
      "\u001b[0m\n",
      "\u001b[31m[05/29/2019 18:14:45 INFO 140035592775488] #quality_metric: host=algo-1, epoch=0, train binary_classification_cross_entropy_objective <loss>=0.0351054503418\u001b[0m\n",
      "\u001b[31m[2019-05-29 18:14:45.575] [tensorio] [info] data_pipeline_stats={\"name\": \"/opt/ml/input/data/validation\", \"epoch\": 0, \"duration\": 24498, \"num_examples\": 1}\u001b[0m\n",
      "\u001b[31m#metrics {\"Metrics\": {\"validation_binary_classification_cross_entropy_objective\": {\"count\": 1, \"max\": 0.006297923437960804, \"sum\": 0.006297923437960804, \"min\": 0.006297923437960804}}, \"EndTime\": 1559153690.512052, \"Dimensions\": {\"model\": 0, \"Host\": \"algo-1\", \"Operation\": \"training\", \"Algorithm\": \"Linear Learner\", \"epoch\": 0}, \"StartTime\": 1559153690.511968}\n",
      "\u001b[0m\n",
      "\u001b[31m#metrics {\"Metrics\": {\"validation_binary_classification_cross_entropy_objective\": {\"count\": 1, \"max\": 0.004957676952776605, \"sum\": 0.004957676952776605, \"min\": 0.004957676952776605}}, \"EndTime\": 1559153690.51214, \"Dimensions\": {\"model\": 1, \"Host\": \"algo-1\", \"Operation\": \"training\", \"Algorithm\": \"Linear Learner\", \"epoch\": 0}, \"StartTime\": 1559153690.512126}\n",
      "\u001b[0m\n",
      "\u001b[31m#metrics {\"Metrics\": {\"validation_binary_classification_cross_entropy_objective\": {\"count\": 1, \"max\": 0.0062872867550324936, \"sum\": 0.0062872867550324936, \"min\": 0.0062872867550324936}}, \"EndTime\": 1559153690.51218, \"Dimensions\": {\"model\": 2, \"Host\": \"algo-1\", \"Operation\": \"training\", \"Algorithm\": \"Linear Learner\", \"epoch\": 0}, \"StartTime\": 1559153690.51217}\n",
      "\u001b[0m\n",
      "\u001b[31m#metrics {\"Metrics\": {\"validation_binary_classification_cross_entropy_objective\": {\"count\": 1, \"max\": 0.004970518768850032, \"sum\": 0.004970518768850032, \"min\": 0.004970518768850032}}, \"EndTime\": 1559153690.512214, \"Dimensions\": {\"model\": 3, \"Host\": \"algo-1\", \"Operation\": \"training\", \"Algorithm\": \"Linear Learner\", \"epoch\": 0}, \"StartTime\": 1559153690.512205}\n",
      "\u001b[0m\n",
      "\u001b[31m#metrics {\"Metrics\": {\"validation_binary_classification_cross_entropy_objective\": {\"count\": 1, \"max\": 0.0054449083605191085, \"sum\": 0.0054449083605191085, \"min\": 0.0054449083605191085}}, \"EndTime\": 1559153690.512269, \"Dimensions\": {\"model\": 4, \"Host\": \"algo-1\", \"Operation\": \"training\", \"Algorithm\": \"Linear Learner\", \"epoch\": 0}, \"StartTime\": 1559153690.512256}\n",
      "\u001b[0m\n",
      "\u001b[31m#metrics {\"Metrics\": {\"validation_binary_classification_cross_entropy_objective\": {\"count\": 1, \"max\": 0.005204303815503735, \"sum\": 0.005204303815503735, \"min\": 0.005204303815503735}}, \"EndTime\": 1559153690.512331, \"Dimensions\": {\"model\": 5, \"Host\": \"algo-1\", \"Operation\": \"training\", \"Algorithm\": \"Linear Learner\", \"epoch\": 0}, \"StartTime\": 1559153690.512318}\n",
      "\u001b[0m\n",
      "\u001b[31m#metrics {\"Metrics\": {\"validation_binary_classification_cross_entropy_objective\": {\"count\": 1, \"max\": 0.00444009148605339, \"sum\": 0.00444009148605339, \"min\": 0.00444009148605339}}, \"EndTime\": 1559153690.51239, \"Dimensions\": {\"model\": 6, \"Host\": \"algo-1\", \"Operation\": \"training\", \"Algorithm\": \"Linear Learner\", \"epoch\": 0}, \"StartTime\": 1559153690.512374}\n",
      "\u001b[0m\n",
      "\u001b[31m#metrics {\"Metrics\": {\"validation_binary_classification_cross_entropy_objective\": {\"count\": 1, \"max\": 0.004860146052888672, \"sum\": 0.004860146052888672, \"min\": 0.004860146052888672}}, \"EndTime\": 1559153690.512451, \"Dimensions\": {\"model\": 7, \"Host\": \"algo-1\", \"Operation\": \"training\", \"Algorithm\": \"Linear Learner\", \"epoch\": 0}, \"StartTime\": 1559153690.512435}\n",
      "\u001b[0m\n",
      "\u001b[31m#metrics {\"Metrics\": {\"validation_binary_classification_cross_entropy_objective\": {\"count\": 1, \"max\": 0.0068482505045387295, \"sum\": 0.0068482505045387295, \"min\": 0.0068482505045387295}}, \"EndTime\": 1559153690.512515, \"Dimensions\": {\"model\": 8, \"Host\": \"algo-1\", \"Operation\": \"training\", \"Algorithm\": \"Linear Learner\", \"epoch\": 0}, \"StartTime\": 1559153690.5125}\n",
      "\u001b[0m\n",
      "\u001b[31m#metrics {\"Metrics\": {\"validation_binary_classification_cross_entropy_objective\": {\"count\": 1, \"max\": 0.005870674447625716, \"sum\": 0.005870674447625716, \"min\": 0.005870674447625716}}, \"EndTime\": 1559153690.512563, \"Dimensions\": {\"model\": 9, \"Host\": \"algo-1\", \"Operation\": \"training\", \"Algorithm\": \"Linear Learner\", \"epoch\": 0}, \"StartTime\": 1559153690.512549}\n",
      "\u001b[0m\n",
      "\u001b[31m#metrics {\"Metrics\": {\"validation_binary_classification_cross_entropy_objective\": {\"count\": 1, \"max\": 0.0068517233576757125, \"sum\": 0.0068517233576757125, \"min\": 0.0068517233576757125}}, \"EndTime\": 1559153690.512624, \"Dimensions\": {\"model\": 10, \"Host\": \"algo-1\", \"Operation\": \"training\", \"Algorithm\": \"Linear Learner\", \"epoch\": 0}, \"StartTime\": 1559153690.512609}\n",
      "\u001b[0m\n",
      "\u001b[31m#metrics {\"Metrics\": {\"validation_binary_classification_cross_entropy_objective\": {\"count\": 1, \"max\": 0.005873180200391819, \"sum\": 0.005873180200391819, \"min\": 0.005873180200391819}}, \"EndTime\": 1559153690.512689, \"Dimensions\": {\"model\": 11, \"Host\": \"algo-1\", \"Operation\": \"training\", \"Algorithm\": \"Linear Learner\", \"epoch\": 0}, \"StartTime\": 1559153690.512673}\n",
      "\u001b[0m\n",
      "\u001b[31m#metrics {\"Metrics\": {\"validation_binary_classification_cross_entropy_objective\": {\"count\": 1, \"max\": 0.01050028490259988, \"sum\": 0.01050028490259988, \"min\": 0.01050028490259988}}, \"EndTime\": 1559153690.512754, \"Dimensions\": {\"model\": 12, \"Host\": \"algo-1\", \"Operation\": \"training\", \"Algorithm\": \"Linear Learner\", \"epoch\": 0}, \"StartTime\": 1559153690.512738}\n",
      "\u001b[0m\n",
      "\u001b[31m#metrics {\"Metrics\": {\"validation_binary_classification_cross_entropy_objective\": {\"count\": 1, \"max\": 0.025564354500282892, \"sum\": 0.025564354500282892, \"min\": 0.025564354500282892}}, \"EndTime\": 1559153690.512821, \"Dimensions\": {\"model\": 13, \"Host\": \"algo-1\", \"Operation\": \"training\", \"Algorithm\": \"Linear Learner\", \"epoch\": 0}, \"StartTime\": 1559153690.512803}\n",
      "\u001b[0m\n",
      "\u001b[31m#metrics {\"Metrics\": {\"validation_binary_classification_cross_entropy_objective\": {\"count\": 1, \"max\": 0.010777323112755359, \"sum\": 0.010777323112755359, \"min\": 0.010777323112755359}}, \"EndTime\": 1559153690.51288, \"Dimensions\": {\"model\": 14, \"Host\": \"algo-1\", \"Operation\": \"training\", \"Algorithm\": \"Linear Learner\", \"epoch\": 0}, \"StartTime\": 1559153690.512868}\n",
      "\u001b[0m\n",
      "\u001b[31m#metrics {\"Metrics\": {\"validation_binary_classification_cross_entropy_objective\": {\"count\": 1, \"max\": 0.025290077054542958, \"sum\": 0.025290077054542958, \"min\": 0.025290077054542958}}, \"EndTime\": 1559153690.512943, \"Dimensions\": {\"model\": 15, \"Host\": \"algo-1\", \"Operation\": \"training\", \"Algorithm\": \"Linear Learner\", \"epoch\": 0}, \"StartTime\": 1559153690.512926}\n",
      "\u001b[0m\n",
      "\u001b[31m#metrics {\"Metrics\": {\"validation_binary_classification_cross_entropy_objective\": {\"count\": 1, \"max\": 0.013670940681595143, \"sum\": 0.013670940681595143, \"min\": 0.013670940681595143}}, \"EndTime\": 1559153690.512993, \"Dimensions\": {\"model\": 16, \"Host\": \"algo-1\", \"Operation\": \"training\", \"Algorithm\": \"Linear Learner\", \"epoch\": 0}, \"StartTime\": 1559153690.512983}\n",
      "\u001b[0m\n",
      "\u001b[31m#metrics {\"Metrics\": {\"validation_binary_classification_cross_entropy_objective\": {\"count\": 1, \"max\": 0.013180364551400623, \"sum\": 0.013180364551400623, \"min\": 0.013180364551400623}}, \"EndTime\": 1559153690.513048, \"Dimensions\": {\"model\": 17, \"Host\": \"algo-1\", \"Operation\": \"training\", \"Algorithm\": \"Linear Learner\", \"epoch\": 0}, \"StartTime\": 1559153690.513032}\n",
      "\u001b[0m\n",
      "\u001b[31m#metrics {\"Metrics\": {\"validation_binary_classification_cross_entropy_objective\": {\"count\": 1, \"max\": 0.013679188832219797, \"sum\": 0.013679188832219797, \"min\": 0.013679188832219797}}, \"EndTime\": 1559153690.513092, \"Dimensions\": {\"model\": 18, \"Host\": \"algo-1\", \"Operation\": \"training\", \"Algorithm\": \"Linear Learner\", \"epoch\": 0}, \"StartTime\": 1559153690.513082}\n",
      "\u001b[0m\n",
      "\u001b[31m#metrics {\"Metrics\": {\"validation_binary_classification_cross_entropy_objective\": {\"count\": 1, \"max\": 0.013182044454338642, \"sum\": 0.013182044454338642, \"min\": 0.013182044454338642}}, \"EndTime\": 1559153690.51314, \"Dimensions\": {\"model\": 19, \"Host\": \"algo-1\", \"Operation\": \"training\", \"Algorithm\": \"Linear Learner\", \"epoch\": 0}, \"StartTime\": 1559153690.513126}\n",
      "\u001b[0m\n",
      "\u001b[31m#metrics {\"Metrics\": {\"validation_binary_classification_cross_entropy_objective\": {\"count\": 1, \"max\": 0.012499417209173197, \"sum\": 0.012499417209173197, \"min\": 0.012499417209173197}}, \"EndTime\": 1559153690.513206, \"Dimensions\": {\"model\": 20, \"Host\": \"algo-1\", \"Operation\": \"training\", \"Algorithm\": \"Linear Learner\", \"epoch\": 0}, \"StartTime\": 1559153690.513189}\n",
      "\u001b[0m\n",
      "\u001b[31m#metrics {\"Metrics\": {\"validation_binary_classification_cross_entropy_objective\": {\"count\": 1, \"max\": 0.013154695399563189, \"sum\": 0.013154695399563189, \"min\": 0.013154695399563189}}, \"EndTime\": 1559153690.513273, \"Dimensions\": {\"model\": 21, \"Host\": \"algo-1\", \"Operation\": \"training\", \"Algorithm\": \"Linear Learner\", \"epoch\": 0}, \"StartTime\": 1559153690.513256}\n",
      "\u001b[0m\n",
      "\u001b[31m#metrics {\"Metrics\": {\"validation_binary_classification_cross_entropy_objective\": {\"count\": 1, \"max\": 0.012487806015351172, \"sum\": 0.012487806015351172, \"min\": 0.012487806015351172}}, \"EndTime\": 1559153690.513326, \"Dimensions\": {\"model\": 22, \"Host\": \"algo-1\", \"Operation\": \"training\", \"Algorithm\": \"Linear Learner\", \"epoch\": 0}, \"StartTime\": 1559153690.513311}\n",
      "\u001b[0m\n",
      "\u001b[31m#metrics {\"Metrics\": {\"validation_binary_classification_cross_entropy_objective\": {\"count\": 1, \"max\": 0.01315441963210597, \"sum\": 0.01315441963210597, \"min\": 0.01315441963210597}}, \"EndTime\": 1559153690.513384, \"Dimensions\": {\"model\": 23, \"Host\": \"algo-1\", \"Operation\": \"training\", \"Algorithm\": \"Linear Learner\", \"epoch\": 0}, \"StartTime\": 1559153690.513369}\n",
      "\u001b[0m\n",
      "\u001b[31m#metrics {\"Metrics\": {\"validation_binary_classification_cross_entropy_objective\": {\"count\": 1, \"max\": 0.014429011225671601, \"sum\": 0.014429011225671601, \"min\": 0.014429011225671601}}, \"EndTime\": 1559153690.513446, \"Dimensions\": {\"model\": 24, \"Host\": \"algo-1\", \"Operation\": \"training\", \"Algorithm\": \"Linear Learner\", \"epoch\": 0}, \"StartTime\": 1559153690.51343}\n",
      "\u001b[0m\n",
      "\u001b[31m#metrics {\"Metrics\": {\"validation_binary_classification_cross_entropy_objective\": {\"count\": 1, \"max\": 0.013835305597990946, \"sum\": 0.013835305597990946, \"min\": 0.013835305597990946}}, \"EndTime\": 1559153690.513513, \"Dimensions\": {\"model\": 25, \"Host\": \"algo-1\", \"Operation\": \"training\", \"Algorithm\": \"Linear Learner\", \"epoch\": 0}, \"StartTime\": 1559153690.513497}\n",
      "\u001b[0m\n",
      "\u001b[31m#metrics {\"Metrics\": {\"validation_binary_classification_cross_entropy_objective\": {\"count\": 1, \"max\": 0.014431080300414137, \"sum\": 0.014431080300414137, \"min\": 0.014431080300414137}}, \"EndTime\": 1559153690.513571, \"Dimensions\": {\"model\": 26, \"Host\": \"algo-1\", \"Operation\": \"training\", \"Algorithm\": \"Linear Learner\", \"epoch\": 0}, \"StartTime\": 1559153690.513556}\n",
      "\u001b[0m\n",
      "\u001b[31m#metrics {\"Metrics\": {\"validation_binary_classification_cross_entropy_objective\": {\"count\": 1, \"max\": 0.013856480367465849, \"sum\": 0.013856480367465849, \"min\": 0.013856480367465849}}, \"EndTime\": 1559153690.513627, \"Dimensions\": {\"model\": 27, \"Host\": \"algo-1\", \"Operation\": \"training\", \"Algorithm\": \"Linear Learner\", \"epoch\": 0}, \"StartTime\": 1559153690.513612}\n",
      "\u001b[0m\n",
      "\u001b[31m#metrics {\"Metrics\": {\"validation_binary_classification_cross_entropy_objective\": {\"count\": 1, \"max\": 0.01356814866406689, \"sum\": 0.01356814866406689, \"min\": 0.01356814866406689}}, \"EndTime\": 1559153690.513694, \"Dimensions\": {\"model\": 28, \"Host\": \"algo-1\", \"Operation\": \"training\", \"Algorithm\": \"Linear Learner\", \"epoch\": 0}, \"StartTime\": 1559153690.513677}\n",
      "\u001b[0m\n",
      "\u001b[31m#metrics {\"Metrics\": {\"validation_binary_classification_cross_entropy_objective\": {\"count\": 1, \"max\": 0.013544409923670247, \"sum\": 0.013544409923670247, \"min\": 0.013544409923670247}}, \"EndTime\": 1559153690.51376, \"Dimensions\": {\"model\": 29, \"Host\": \"algo-1\", \"Operation\": \"training\", \"Algorithm\": \"Linear Learner\", \"epoch\": 0}, \"StartTime\": 1559153690.513744}\n",
      "\u001b[0m\n",
      "\u001b[31m#metrics {\"Metrics\": {\"validation_binary_classification_cross_entropy_objective\": {\"count\": 1, \"max\": 0.013576444903628434, \"sum\": 0.013576444903628434, \"min\": 0.013576444903628434}}, \"EndTime\": 1559153690.513822, \"Dimensions\": {\"model\": 30, \"Host\": \"algo-1\", \"Operation\": \"training\", \"Algorithm\": \"Linear Learner\", \"epoch\": 0}, \"StartTime\": 1559153690.513806}\n",
      "\u001b[0m\n",
      "\u001b[31m#metrics {\"Metrics\": {\"validation_binary_classification_cross_entropy_objective\": {\"count\": 1, \"max\": 0.013602333923212726, \"sum\": 0.013602333923212726, \"min\": 0.013602333923212726}}, \"EndTime\": 1559153690.513885, \"Dimensions\": {\"model\": 31, \"Host\": \"algo-1\", \"Operation\": \"training\", \"Algorithm\": \"Linear Learner\", \"epoch\": 0}, \"StartTime\": 1559153690.51387}\n",
      "\u001b[0m\n",
      "\u001b[31m[05/29/2019 18:14:50 INFO 140035592775488] #quality_metric: host=algo-1, epoch=0, validation binary_classification_cross_entropy_objective <loss>=0.00629792343796\u001b[0m\n",
      "\u001b[31m[05/29/2019 18:14:50 INFO 140035592775488] #early_stopping_criteria_metric: host=algo-1, epoch=0, criteria=sampled_accuracy, value=0.999473326165\u001b[0m\n",
      "\u001b[31m[05/29/2019 18:14:50 INFO 140035592775488] Epoch 0: Loss improved. Updating best model\u001b[0m\n",
      "\u001b[31m[05/29/2019 18:14:50 INFO 140035592775488] #progress_metric: host=algo-1, completed 100 % of epochs\u001b[0m\n",
      "\u001b[31m#metrics {\"Metrics\": {\"Max Batches Seen Between Resets\": {\"count\": 1, \"max\": 912, \"sum\": 912.0, \"min\": 912}, \"Number of Batches Since Last Reset\": {\"count\": 1, \"max\": 912, \"sum\": 912.0, \"min\": 912}, \"Number of Records Since Last Reset\": {\"count\": 1, \"max\": 182276, \"sum\": 182276.0, \"min\": 182276}, \"Total Batches Seen\": {\"count\": 1, \"max\": 964, \"sum\": 964.0, \"min\": 964}, \"Total Records Seen\": {\"count\": 1, \"max\": 192676, \"sum\": 192676.0, \"min\": 192676}, \"Max Records Seen Between Resets\": {\"count\": 1, \"max\": 182276, \"sum\": 182276.0, \"min\": 182276}, \"Reset Count\": {\"count\": 1, \"max\": 3, \"sum\": 3.0, \"min\": 3}}, \"EndTime\": 1559153690.515945, \"Dimensions\": {\"Host\": \"algo-1\", \"Meta\": \"training_data_iter\", \"Operation\": \"training\", \"Algorithm\": \"Linear Learner\", \"epoch\": 0}, \"StartTime\": 1559153661.31848}\n",
      "\u001b[0m\n",
      "\u001b[31m[05/29/2019 18:14:50 INFO 140035592775488] #throughput_metric: host=algo-1, train throughput=6242.83935254 records/second\u001b[0m\n",
      "\u001b[31m[05/29/2019 18:14:50 WARNING 140035592775488] wait_for_all_workers will not sync workers since the kv store is not running distributed\u001b[0m\n",
      "\u001b[31m[05/29/2019 18:14:50 WARNING 140035592775488] wait_for_all_workers will not sync workers since the kv store is not running distributed\u001b[0m\n",
      "\u001b[31m[2019-05-29 18:14:50.536] [tensorio] [info] data_pipeline_stats={\"name\": \"/opt/ml/input/data/validation\", \"epoch\": 1, \"duration\": 4960, \"num_examples\": 228}\u001b[0m\n",
      "\u001b[31m[05/29/2019 18:14:55 INFO 140035592775488] #early_stopping_criteria_metric: host=algo-1, epoch=0, criteria=sampled_accuracy, value=0.999473326165\u001b[0m\n",
      "\u001b[31m[05/29/2019 18:14:55 INFO 140035592775488] Epoch 0: Loss improved. Updating best model\u001b[0m\n",
      "\u001b[31m[2019-05-29 18:14:55.322] [tensorio] [info] data_pipeline_stats={\"name\": \"/opt/ml/input/data/validation\", \"epoch\": 2, \"duration\": 4785, \"num_examples\": 228}\u001b[0m\n",
      "\u001b[31m[05/29/2019 18:14:55 INFO 140035592775488] #validation_score (algo-1) : ('binary_classification_cross_entropy_objective', 0.0062979234379608043)\u001b[0m\n",
      "\u001b[31m[05/29/2019 18:14:55 INFO 140035592775488] #validation_score (algo-1) : ('binary_classification_accuracy', 0.99945138142158041)\u001b[0m\n",
      "\u001b[31m[05/29/2019 18:14:55 INFO 140035592775488] #validation_score (algo-1) : ('binary_f_1.000', 0.8538011695906432)\u001b[0m\n",
      "\u001b[31m[05/29/2019 18:14:55 INFO 140035592775488] #validation_score (algo-1) : ('precision', 0.8488372093023255)\u001b[0m\n",
      "\u001b[31m[05/29/2019 18:14:55 INFO 140035592775488] #validation_score (algo-1) : ('recall', 0.8588235294117647)\u001b[0m\n",
      "\u001b[31m[05/29/2019 18:14:55 INFO 140035592775488] #quality_metric: host=algo-1, validation binary_classification_cross_entropy_objective <loss>=0.00629792343796\u001b[0m\n",
      "\u001b[31m[05/29/2019 18:14:55 INFO 140035592775488] #quality_metric: host=algo-1, validation binary_classification_accuracy <score>=0.999451381422\u001b[0m\n",
      "\u001b[31m[05/29/2019 18:14:55 INFO 140035592775488] #quality_metric: host=algo-1, validation binary_f_1.000 <score>=0.853801169591\u001b[0m\n",
      "\u001b[31m[05/29/2019 18:14:55 INFO 140035592775488] #quality_metric: host=algo-1, validation precision <score>=0.848837209302\u001b[0m\n",
      "\u001b[31m[05/29/2019 18:14:55 INFO 140035592775488] #quality_metric: host=algo-1, validation recall <score>=0.858823529412\u001b[0m\n",
      "\u001b[31m[05/29/2019 18:14:55 INFO 140035592775488] Best model found for hyperparameters: {\"lr_scheduler_step\": 10, \"wd\": 0.0001, \"optimizer\": \"adam\", \"lr_scheduler_factor\": 0.99, \"l1\": 0.0, \"learning_rate\": 0.005, \"lr_scheduler_minimum_lr\": 1e-05}\u001b[0m\n",
      "\u001b[31m[05/29/2019 18:14:56 INFO 140035592775488] Saved checkpoint to \"/tmp/tmpZbQh02/mx-mod-0000.params\"\u001b[0m\n",
      "\u001b[31m[2019-05-29 18:14:56.033] [tensorio] [info] data_pipeline_stats={\"name\": \"/opt/ml/input/data/test\", \"epoch\": 0, \"duration\": 34954, \"num_examples\": 1}\u001b[0m\n",
      "\u001b[31m#metrics {\"Metrics\": {\"Max Batches Seen Between Resets\": {\"count\": 1, \"max\": 285, \"sum\": 285.0, \"min\": 285}, \"Number of Batches Since Last Reset\": {\"count\": 1, \"max\": 285, \"sum\": 285.0, \"min\": 285}, \"Number of Records Since Last Reset\": {\"count\": 1, \"max\": 56962, \"sum\": 56962.0, \"min\": 56962}, \"Total Batches Seen\": {\"count\": 1, \"max\": 285, \"sum\": 285.0, \"min\": 285}, \"Total Records Seen\": {\"count\": 1, \"max\": 56962, \"sum\": 56962.0, \"min\": 56962}, \"Max Records Seen Between Resets\": {\"count\": 1, \"max\": 56962, \"sum\": 56962.0, \"min\": 56962}, \"Reset Count\": {\"count\": 1, \"max\": 1, \"sum\": 1.0, \"min\": 1}}, \"EndTime\": 1559153696.734152, \"Dimensions\": {\"Host\": \"algo-1\", \"Meta\": \"test_data_iter\", \"Operation\": \"training\", \"Algorithm\": \"Linear Learner\"}, \"StartTime\": 1559153696.033079}\n",
      "\u001b[0m\n",
      "\u001b[31m[05/29/2019 18:14:56 INFO 140035592775488] #test_score (algo-1) : ('binary_classification_cross_entropy_objective', 0.0068573117013401349)\u001b[0m\n",
      "\u001b[31m[05/29/2019 18:14:56 INFO 140035592775488] #test_score (algo-1) : ('binary_classification_accuracy', 0.99936799971911094)\u001b[0m\n",
      "\u001b[31m[05/29/2019 18:14:56 INFO 140035592775488] #test_score (algo-1) : ('binary_f_1.000', 0.8217821782178217)\u001b[0m\n",
      "\u001b[31m[05/29/2019 18:14:56 INFO 140035592775488] #test_score (algo-1) : ('precision', 0.8217821782178217)\u001b[0m\n",
      "\u001b[31m[05/29/2019 18:14:56 INFO 140035592775488] #test_score (algo-1) : ('recall', 0.8217821782178217)\u001b[0m\n",
      "\u001b[31m[05/29/2019 18:14:56 INFO 140035592775488] #quality_metric: host=algo-1, test binary_classification_cross_entropy_objective <loss>=0.00685731170134\u001b[0m\n",
      "\u001b[31m[05/29/2019 18:14:56 INFO 140035592775488] #quality_metric: host=algo-1, test binary_classification_accuracy <score>=0.999367999719\u001b[0m\n",
      "\u001b[31m[05/29/2019 18:14:56 INFO 140035592775488] #quality_metric: host=algo-1, test binary_f_1.000 <score>=0.821782178218\u001b[0m\n",
      "\u001b[31m[05/29/2019 18:14:56 INFO 140035592775488] #quality_metric: host=algo-1, test precision <score>=0.821782178218\u001b[0m\n",
      "\u001b[31m[05/29/2019 18:14:56 INFO 140035592775488] #quality_metric: host=algo-1, test recall <score>=0.821782178218\u001b[0m\n",
      "\u001b[31m[2019-05-29 18:14:56.738] [tensorio] [info] data_pipeline_stats={\"name\": \"/opt/ml/input/data/train\", \"epoch\": 2, \"duration\": 35419, \"num_examples\": 912}\u001b[0m\n",
      "\u001b[31m[2019-05-29 18:14:56.738] [tensorio] [info] data_pipeline_stats={\"name\": \"/opt/ml/input/data/train\", \"duration\": 35557, \"num_epochs\": 3, \"num_examples\": 964}\u001b[0m\n",
      "\u001b[31m[2019-05-29 18:14:56.738] [tensorio] [info] data_pipeline_stats={\"name\": \"/opt/ml/input/data/validation\", \"epoch\": 3, \"duration\": 1415, \"num_examples\": 228}\u001b[0m\n",
      "\u001b[31m[2019-05-29 18:14:56.738] [tensorio] [info] data_pipeline_stats={\"name\": \"/opt/ml/input/data/validation\", \"duration\": 35658, \"num_epochs\": 4, \"num_examples\": 685}\u001b[0m\n",
      "\u001b[31m[2019-05-29 18:14:56.738] [tensorio] [info] data_pipeline_stats={\"name\": \"/opt/ml/input/data/test\", \"epoch\": 1, \"duration\": 704, \"num_examples\": 285}\u001b[0m\n",
      "\u001b[31m[2019-05-29 18:14:56.738] [tensorio] [info] data_pipeline_stats={\"name\": \"/opt/ml/input/data/test\", \"duration\": 35658, \"num_epochs\": 2, \"num_examples\": 286}\u001b[0m\n",
      "\u001b[31m#metrics {\"Metrics\": {\"totaltime\": {\"count\": 1, \"max\": 35742.35200881958, \"sum\": 35742.35200881958, \"min\": 35742.35200881958}, \"finalize.time\": {\"count\": 1, \"max\": 5421.602010726929, \"sum\": 5421.602010726929, \"min\": 5421.602010726929}, \"initialize.time\": {\"count\": 1, \"max\": 236.21201515197754, \"sum\": 236.21201515197754, \"min\": 236.21201515197754}, \"check_early_stopping.time\": {\"count\": 2, \"max\": 0.9300708770751953, \"sum\": 1.811981201171875, \"min\": 0.8819103240966797}, \"setuptime\": {\"count\": 1, \"max\": 15.069007873535156, \"sum\": 15.069007873535156, \"min\": 15.069007873535156}, \"update.time\": {\"count\": 1, \"max\": 29197.216987609863, \"sum\": 29197.216987609863, \"min\": 29197.216987609863}, \"epochs\": {\"count\": 1, \"max\": 1, \"sum\": 1.0, \"min\": 1}}, \"EndTime\": 1559153696.738504, \"Dimensions\": {\"Host\": \"algo-1\", \"Operation\": \"training\", \"Algorithm\": \"Linear Learner\"}, \"StartTime\": 1559153661.074772}\n",
      "\u001b[0m\n",
      "\n",
      "2019-05-29 18:15:07 Uploading - Uploading generated training model\n",
      "2019-05-29 18:15:07 Completed - Training job completed\n",
      "Billable seconds: 88\n"
     ]
    }
   ],
   "source": [
    "import boto3\n",
    "import sagemaker\n",
    "\n",
    "sess = sagemaker.Session()\n",
    "\n",
    "linear = sagemaker.estimator.Estimator(container,\n",
    "                                       role, \n",
    "                                       train_instance_count=1, \n",
    "                                       train_instance_type='ml.m4.2xlarge',\n",
    "                                       output_path=output_location,\n",
    "                                       sagemaker_session=sess)\n",
    "linear.set_hyperparameters(feature_dim=30,\n",
    "                           predictor_type='binary_classifier',\n",
    "                           epochs = 1,\n",
    "                           mini_batch_size=200)\n",
    "\n",
    "linear.fit({'train': s3_input_train,  'validation': s3_input_validation, 'test': s3_input_test})\n",
    "\n",
    "# train_max_run = 3600,"
   ]
  },
  {
   "cell_type": "code",
   "execution_count": 155,
   "metadata": {},
   "outputs": [
    {
     "data": {
      "text/plain": [
       "'linear-learner-2019-05-29-18-11-43-043'"
      ]
     },
     "execution_count": 155,
     "metadata": {},
     "output_type": "execute_result"
    }
   ],
   "source": [
    "linear._current_job_name"
   ]
  },
  {
   "cell_type": "code",
   "execution_count": 159,
   "metadata": {},
   "outputs": [
    {
     "data": {
      "text/plain": [
       "'s3://demo-saeed/fraudcredit-pipeline-boto3/output/linear-learner-2019-05-29-18-11-43-043/output/model.tar.gz'"
      ]
     },
     "execution_count": 159,
     "metadata": {},
     "output_type": "execute_result"
    }
   ],
   "source": [
    "linear.model_data"
   ]
  },
  {
   "cell_type": "code",
   "execution_count": 161,
   "metadata": {},
   "outputs": [],
   "source": [
    "sm = boto3.client('sagemaker')\n",
    "try:\n",
    "    sm.create_model(\n",
    "        ModelName='fd-linear-model-{}'.format(time),\n",
    "        PrimaryContainer={\n",
    "            'Image': container,\n",
    "            'ModelDataUrl': linear.model_data\n",
    "        },\n",
    "        ExecutionRoleArn=role\n",
    "    )\n",
    "except Exception as e:\n",
    "    print(e)\n",
    "    print('Unable to create model.')\n",
    "    raise(e)"
   ]
  },
  {
   "cell_type": "code",
   "execution_count": 162,
   "metadata": {},
   "outputs": [],
   "source": [
    "container_preprocess = '683313688378.dkr.ecr.us-east-1.amazonaws.com/sagemaker-scikit-learn:0.20.0-cpu-py3'\n"
   ]
  },
  {
   "cell_type": "code",
   "execution_count": 163,
   "metadata": {},
   "outputs": [
    {
     "data": {
      "text/plain": [
       "'382416733822.dkr.ecr.us-east-1.amazonaws.com/linear-learner:1'"
      ]
     },
     "execution_count": 163,
     "metadata": {},
     "output_type": "execute_result"
    }
   ],
   "source": [
    "container"
   ]
  },
  {
   "cell_type": "code",
   "execution_count": 164,
   "metadata": {},
   "outputs": [
    {
     "data": {
      "text/plain": [
       "'fd-preprocessing-model-2019-05-29-17-51-58'"
      ]
     },
     "execution_count": 164,
     "metadata": {},
     "output_type": "execute_result"
    }
   ],
   "source": [
    "myModelName"
   ]
  },
  {
   "cell_type": "code",
   "execution_count": 168,
   "metadata": {},
   "outputs": [
    {
     "data": {
      "text/plain": [
       "{'ModelName': 'fd-preprocessing-model-2019-05-29-17-51-58',\n",
       " 'PrimaryContainer': {'Image': '683313688378.dkr.ecr.us-east-1.amazonaws.com/sagemaker-scikit-learn:0.20.0-cpu-py3',\n",
       "  'ModelDataUrl': 's3://demo-saeed/fraudcredit-pipeline-boto3/preprocessed-model/fd-preprocess-model-job-2019-05-29-17-51-58/output/model.tar.gz',\n",
       "  'Environment': {'SAGEMAKER_PROGRAM': 'sklearn_fd_featurizer.py',\n",
       "   'SAGEMAKER_REGION': 'us-east-1',\n",
       "   'SAGEMAKER_SUBMIT_DIRECTORY': 's3://demo-saeed/fraudcredit-pipeline-boto3/src_path/sklearn_fd_featurizer.tar.gz'}},\n",
       " 'ExecutionRoleArn': 'arn:aws:iam::079329190341:role/service-role/AmazonSageMaker-ExecutionRole-20190404T141667',\n",
       " 'CreationTime': datetime.datetime(2019, 5, 29, 17, 57, 14, 965000, tzinfo=tzlocal()),\n",
       " 'ModelArn': 'arn:aws:sagemaker:us-east-1:079329190341:model/fd-preprocessing-model-2019-05-29-17-51-58',\n",
       " 'EnableNetworkIsolation': False,\n",
       " 'ResponseMetadata': {'RequestId': '98ba1b27-9868-4df4-934b-806e7d1f6bad',\n",
       "  'HTTPStatusCode': 200,\n",
       "  'HTTPHeaders': {'x-amzn-requestid': '98ba1b27-9868-4df4-934b-806e7d1f6bad',\n",
       "   'content-type': 'application/x-amz-json-1.1',\n",
       "   'content-length': '798',\n",
       "   'date': 'Wed, 29 May 2019 18:29:38 GMT'},\n",
       "  'RetryAttempts': 0}}"
      ]
     },
     "execution_count": 168,
     "metadata": {},
     "output_type": "execute_result"
    }
   ],
   "source": [
    "sm.describe_model(ModelName=myModelName)"
   ]
  },
  {
   "cell_type": "code",
   "execution_count": 173,
   "metadata": {},
   "outputs": [
    {
     "data": {
      "text/plain": [
       "'s3://demo-saeed/fraudcredit-pipeline-boto3/src_path/sklearn_fd_featurizer.tar.gz'"
      ]
     },
     "execution_count": 173,
     "metadata": {},
     "output_type": "execute_result"
    }
   ],
   "source": [
    "sm.describe_model(ModelName=myModelName)['PrimaryContainer']['Environment']['SAGEMAKER_SUBMIT_DIRECTORY']"
   ]
  },
  {
   "cell_type": "code",
   "execution_count": 174,
   "metadata": {},
   "outputs": [],
   "source": [
    "sm = boto3.client('sagemaker')\n",
    "pipline_model_name = 'fd-pipline-model-{}'.format(time)\n",
    "response = sm.create_model(\n",
    "    ModelName= pipline_model_name,\n",
    "    Containers=[\n",
    "         {\n",
    "            'Image': container_preprocess,\n",
    "            'ModelDataUrl': sm.describe_model(ModelName=myModelName)['PrimaryContainer']['ModelDataUrl'],\n",
    "             'Environment': {\n",
    "                'SAGEMAKER_PROGRAM': 'sklearn_fd_featurizer.py',\n",
    "                'SAGEMAKER_REGION':'us-east-1',\n",
    "                'SAGEMAKER_SUBMIT_DIRECTORY': sm.describe_model(ModelName=myModelName)['PrimaryContainer']['Environment']['SAGEMAKER_SUBMIT_DIRECTORY']\n",
    "\n",
    "            },\n",
    "        },\n",
    "        {\n",
    "            'Image': container,\n",
    "            'ModelDataUrl': linear.model_data\n",
    "        }\n",
    "    ],\n",
    "    ExecutionRoleArn=role\n",
    ")"
   ]
  },
  {
   "cell_type": "code",
   "execution_count": 175,
   "metadata": {},
   "outputs": [
    {
     "data": {
      "text/plain": [
       "{'ModelArn': 'arn:aws:sagemaker:us-east-1:079329190341:model/fd-pipline-model-2019-05-29-17-51-58',\n",
       " 'ResponseMetadata': {'RequestId': 'daa28d96-d795-4408-88a8-ff6c02890d20',\n",
       "  'HTTPStatusCode': 200,\n",
       "  'HTTPHeaders': {'x-amzn-requestid': 'daa28d96-d795-4408-88a8-ff6c02890d20',\n",
       "   'content-type': 'application/x-amz-json-1.1',\n",
       "   'content-length': '98',\n",
       "   'date': 'Wed, 29 May 2019 18:33:59 GMT'},\n",
       "  'RetryAttempts': 0}}"
      ]
     },
     "execution_count": 175,
     "metadata": {},
     "output_type": "execute_result"
    }
   ],
   "source": [
    "response"
   ]
  },
  {
   "cell_type": "code",
   "execution_count": 178,
   "metadata": {},
   "outputs": [
    {
     "data": {
      "text/plain": [
       "'fd-pipline-model-2019-05-29-17-51-58'"
      ]
     },
     "execution_count": 178,
     "metadata": {},
     "output_type": "execute_result"
    }
   ],
   "source": [
    "pipline_model_name"
   ]
  },
  {
   "cell_type": "code",
   "execution_count": 180,
   "metadata": {},
   "outputs": [],
   "source": [
    "myEndpointConfigName='fd-endpoint-conf-pipline-{}'.format(time)\n",
    "try:\n",
    "    sm.create_endpoint_config(\n",
    "            EndpointConfigName=myEndpointConfigName,\n",
    "            ProductionVariants=[\n",
    "                {\n",
    "                    'VariantName': 'prod',\n",
    "                    'ModelName': pipline_model_name,\n",
    "                    'InitialInstanceCount': 1,\n",
    "                    'InstanceType': 'ml.c4.xlarge'\n",
    "                }\n",
    "            ]\n",
    "        )\n",
    "except Exception as e:\n",
    "        print(e)\n",
    "        print('Unable to create endpoint configuration.')\n",
    "        raise(e)"
   ]
  },
  {
   "cell_type": "code",
   "execution_count": 181,
   "metadata": {},
   "outputs": [
    {
     "data": {
      "text/plain": [
       "'fd-endpoint-conf-pipline-2019-05-29-17-51-58'"
      ]
     },
     "execution_count": 181,
     "metadata": {},
     "output_type": "execute_result"
    }
   ],
   "source": [
    "myEndpointConfigName"
   ]
  },
  {
   "cell_type": "code",
   "execution_count": 185,
   "metadata": {},
   "outputs": [],
   "source": [
    "myEndpointName = 'fd-scikit-est-model-pipe-inference'\n",
    "try:\n",
    "        sm.create_endpoint(\n",
    "            EndpointName=myEndpointName,\n",
    "            EndpointConfigName=myEndpointConfigName\n",
    "        )\n",
    "except Exception as e:\n",
    "        print(e)\n",
    "        print('Unable to create endpoint.')\n",
    "        raise(e)"
   ]
  },
  {
   "cell_type": "code",
   "execution_count": 186,
   "metadata": {},
   "outputs": [
    {
     "data": {
      "text/plain": [
       "'0.6529459981462263,-0.16507624070578195,0.6403752242707034,-0.03188199643678793,-0.4288571589285194,0.9127522858844566,-0.06887553039697115,0.9369570220144032,-0.1041022496739883,-0.1589611706518778,-1.5102207708622541,-1.096160189043005,0.20280963151820516,1.1514082506299608,-1.8802117384099803,-0.2700470249973237,-0.06955236253966818,0.9967859173885858,0.4527151313181526,1.0408127499936592,0.2418001005150753,-0.2819494345602899,-0.5978918301090319,-0.4189437568262021,-0.07702619337285886,0.4057578551212853,0.017206059542163483,0.2687955551390033,0.4881781880588871,-0.1933059452093052'"
      ]
     },
     "execution_count": 186,
     "metadata": {},
     "output_type": "execute_result"
    }
   ],
   "source": [
    "input_Data = \",\".join( map( str, X_test.iloc[0] ) )\n",
    "input_Data "
   ]
  },
  {
   "cell_type": "code",
   "execution_count": 189,
   "metadata": {},
   "outputs": [
    {
     "name": "stdout",
     "output_type": "stream",
     "text": [
      "b'{\"predictions\": [{\"score\": 0.00483148917555809, \"predicted_label\": 0.0}]}'\n"
     ]
    }
   ],
   "source": [
    "sess = sagemaker.Session()\n",
    "from sagemaker.predictor import json_serializer, csv_serializer, json_deserializer, RealTimePredictor\n",
    "from sagemaker.content_types import CONTENT_TYPE_CSV, CONTENT_TYPE_JSON\n",
    "payload = input_Data\n",
    "actual_rings = 10\n",
    "predictor = RealTimePredictor(\n",
    "    endpoint=myEndpointName,\n",
    "    sagemaker_session=sess,\n",
    "    serializer=csv_serializer,\n",
    "    content_type=CONTENT_TYPE_CSV,\n",
    "    accept=CONTENT_TYPE_JSON)\n",
    "\n",
    "print(predictor.predict(payload))\n"
   ]
  },
  {
   "cell_type": "code",
   "execution_count": null,
   "metadata": {},
   "outputs": [],
   "source": []
  },
  {
   "cell_type": "code",
   "execution_count": null,
   "metadata": {},
   "outputs": [],
   "source": []
  },
  {
   "cell_type": "code",
   "execution_count": null,
   "metadata": {},
   "outputs": [],
   "source": []
  },
  {
   "cell_type": "code",
   "execution_count": null,
   "metadata": {},
   "outputs": [],
   "source": []
  },
  {
   "cell_type": "code",
   "execution_count": 201,
   "metadata": {},
   "outputs": [
    {
     "data": {
      "text/plain": [
       "'s3://demo-saeed/fraudcredit-local/output'"
      ]
     },
     "execution_count": 201,
     "metadata": {},
     "output_type": "execute_result"
    }
   ],
   "source": [
    "linear.output_path"
   ]
  },
  {
   "cell_type": "code",
   "execution_count": 203,
   "metadata": {},
   "outputs": [],
   "source": [
    "#linear.deploy(initial_instance_count=1, instance_type='ml.m4.xlarge')\n",
    "linear_predictor = linear.deploy(initial_instance_count=1, instance_type='ml.t2.medium', endpoint_name='aws-linear-learner', update_endpoint=True)\n",
    "\n",
    "\n"
   ]
  },
  {
   "cell_type": "code",
   "execution_count": 9,
   "metadata": {},
   "outputs": [
    {
     "ename": "NameError",
     "evalue": "name 'X_test' is not defined",
     "output_type": "error",
     "traceback": [
      "\u001b[0;31m---------------------------------------------------------------------------\u001b[0m",
      "\u001b[0;31mNameError\u001b[0m                                 Traceback (most recent call last)",
      "\u001b[0;32m<ipython-input-9-5025caa541a0>\u001b[0m in \u001b[0;36m<module>\u001b[0;34m()\u001b[0m\n\u001b[0;32m----> 1\u001b[0;31m \u001b[0mxx\u001b[0m \u001b[0;34m=\u001b[0m\u001b[0mX_test\u001b[0m\u001b[0;34m.\u001b[0m\u001b[0mloc\u001b[0m\u001b[0;34m[\u001b[0m\u001b[0;36m83053\u001b[0m\u001b[0;34m]\u001b[0m\u001b[0;34m\u001b[0m\u001b[0m\n\u001b[0m",
      "\u001b[0;31mNameError\u001b[0m: name 'X_test' is not defined"
     ]
    }
   ],
   "source": [
    "xx =X_test.loc[83053]"
   ]
  },
  {
   "cell_type": "code",
   "execution_count": 8,
   "metadata": {},
   "outputs": [
    {
     "ename": "NameError",
     "evalue": "name 'X_test' is not defined",
     "output_type": "error",
     "traceback": [
      "\u001b[0;31m---------------------------------------------------------------------------\u001b[0m",
      "\u001b[0;31mNameError\u001b[0m                                 Traceback (most recent call last)",
      "\u001b[0;32m<ipython-input-8-0c1cdefd54ea>\u001b[0m in \u001b[0;36m<module>\u001b[0;34m()\u001b[0m\n\u001b[0;32m----> 1\u001b[0;31m \u001b[0mX_test\u001b[0m\u001b[0;34m\u001b[0m\u001b[0m\n\u001b[0m",
      "\u001b[0;31mNameError\u001b[0m: name 'X_test' is not defined"
     ]
    }
   ],
   "source": [
    "X_test"
   ]
  },
  {
   "cell_type": "code",
   "execution_count": 10,
   "metadata": {},
   "outputs": [
    {
     "ename": "NameError",
     "evalue": "name 'X_test' is not defined",
     "output_type": "error",
     "traceback": [
      "\u001b[0;31m---------------------------------------------------------------------------\u001b[0m",
      "\u001b[0;31mNameError\u001b[0m                                 Traceback (most recent call last)",
      "\u001b[0;32m<ipython-input-10-c124e42f15fc>\u001b[0m in \u001b[0;36m<module>\u001b[0;34m()\u001b[0m\n\u001b[0;32m----> 1\u001b[0;31m \u001b[0mX_test\u001b[0m\u001b[0;34m.\u001b[0m\u001b[0mloc\u001b[0m\u001b[0;34m[\u001b[0m\u001b[0;36m83053\u001b[0m\u001b[0;34m]\u001b[0m\u001b[0;34m.\u001b[0m\u001b[0mvalues\u001b[0m\u001b[0;34m\u001b[0m\u001b[0m\n\u001b[0m",
      "\u001b[0;31mNameError\u001b[0m: name 'X_test' is not defined"
     ]
    }
   ],
   "source": [
    "X_test.loc[83053].values"
   ]
  },
  {
   "cell_type": "code",
   "execution_count": 231,
   "metadata": {},
   "outputs": [
    {
     "data": {
      "text/plain": [
       "{'predictions': [{'score': 0.9563339948654175, 'predicted_label': 1.0}]}"
      ]
     },
     "execution_count": 231,
     "metadata": {},
     "output_type": "execute_result"
    }
   ],
   "source": [
    "from sagemaker.predictor import csv_serializer, json_deserializer\n",
    "\n",
    "linear_predictor.content_type = 'text/csv'\n",
    "linear_predictor.serializer = csv_serializer\n",
    "linear_predictor.deserializer = json_deserializer\n",
    "#linear_predictor.predict(X_test.iloc[0])\n",
    "\n",
    "linear_predictor.predict(X_test.loc[83053])"
   ]
  },
  {
   "cell_type": "code",
   "execution_count": 208,
   "metadata": {},
   "outputs": [
    {
     "data": {
      "text/plain": [
       "'aws-linear-learner'"
      ]
     },
     "execution_count": 208,
     "metadata": {},
     "output_type": "execute_result"
    }
   ],
   "source": []
  },
  {
   "cell_type": "code",
   "execution_count": null,
   "metadata": {},
   "outputs": [],
   "source": []
  },
  {
   "cell_type": "code",
   "execution_count": 209,
   "metadata": {},
   "outputs": [
    {
     "name": "stdout",
     "output_type": "stream",
     "text": [
      "{'ResponseMetadata': {'RequestId': 'c4f995d6-db76-4473-bbb3-02254f7a4491', 'HTTPStatusCode': 200, 'HTTPHeaders': {'x-amzn-requestid': 'c4f995d6-db76-4473-bbb3-02254f7a4491', 'x-amzn-invoked-production-variant': 'AllTraffic', 'date': 'Wed, 22 May 2019 13:47:03 GMT', 'content-type': 'application/json', 'content-length': '73'}, 'RetryAttempts': 0}, 'ContentType': 'application/json', 'InvokedProductionVariant': 'AllTraffic', 'Body': <botocore.response.StreamingBody object at 0x7ff5d6227908>}\n",
      "{'predictions': [{'score': 0.11748139560222626, 'predicted_label': 0.0}]}\n"
     ]
    }
   ],
   "source": [
    "input_Data = \",\".join( map( str, X_test.iloc[0] ) )\n",
    "input_Data\n",
    "\n",
    "import io\n",
    "import boto3\n",
    "import json\n",
    "import csv\n",
    "\n",
    "# grab environment variables\n",
    "ENDPOINT_NAME = 'aws-linear-learner'\n",
    "runtime= boto3.client('runtime.sagemaker')\n",
    "\n",
    "input_Data = \",\".join( map( str, X_test.iloc[0] ) )\n",
    "response = runtime.invoke_endpoint(EndpointName=ENDPOINT_NAME,\n",
    "                                   ContentType='text/csv',\n",
    "                                   Body=input_Data)\n",
    "print(response)\n",
    "result = json.loads(response['Body'].read().decode())\n",
    "print(result)\n"
   ]
  },
  {
   "cell_type": "code",
   "execution_count": null,
   "metadata": {},
   "outputs": [],
   "source": []
  }
 ],
 "metadata": {
  "kernelspec": {
   "display_name": "conda_python3",
   "language": "python",
   "name": "conda_python3"
  },
  "language_info": {
   "codemirror_mode": {
    "name": "ipython",
    "version": 3
   },
   "file_extension": ".py",
   "mimetype": "text/x-python",
   "name": "python",
   "nbconvert_exporter": "python",
   "pygments_lexer": "ipython3",
   "version": "3.6.5"
  }
 },
 "nbformat": 4,
 "nbformat_minor": 2
}
