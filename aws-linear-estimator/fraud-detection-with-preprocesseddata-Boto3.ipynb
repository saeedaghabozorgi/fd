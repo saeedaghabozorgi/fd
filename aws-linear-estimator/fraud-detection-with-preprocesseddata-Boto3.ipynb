{
 "cells": [
  {
   "cell_type": "code",
   "execution_count": 46,
   "metadata": {},
   "outputs": [
    {
     "name": "stdout",
     "output_type": "stream",
     "text": [
      "Success - the MySageMakerInstance is in the us-east-1 region. You will use the 811284229777.dkr.ecr.us-east-1.amazonaws.com/xgboost:latest container for your SageMaker endpoint.\n"
     ]
    }
   ],
   "source": [
    "# import libraries test 1\n",
    "import boto3, re, sys, math, json, os, sagemaker, urllib.request\n",
    "from sagemaker import get_execution_role\n",
    "import numpy as np                                \n",
    "import pandas as pd                               \n",
    "import matplotlib.pyplot as plt                   \n",
    "from IPython.display import Image                 \n",
    "from IPython.display import display               \n",
    "from time import gmtime, strftime                 \n",
    "from sagemaker.predictor import csv_serializer   \n",
    "import io\n",
    "import time\n",
    "import json\n",
    "import sagemaker.amazon.common as smac\n",
    "%matplotlib inline\n",
    "containers = {'us-west-2': '433757028032.dkr.ecr.us-west-2.amazonaws.com/xgboost:latest',\n",
    "              'us-east-1': '811284229777.dkr.ecr.us-east-1.amazonaws.com/xgboost:latest',\n",
    "              'us-east-2': '825641698319.dkr.ecr.us-east-2.amazonaws.com/xgboost:latest',\n",
    "              'eu-west-1': '685385470294.dkr.ecr.eu-west-1.amazonaws.com/xgboost:latest'} # each region has its XGBoost container\n",
    "my_region = boto3.session.Session().region_name # set the region of the instance\n",
    "\n",
    "\n",
    "print(\"Success - the MySageMakerInstance is in the \" + my_region + \" region. You will use the \" + containers[my_region] + \" container for your SageMaker endpoint.\")"
   ]
  },
  {
   "cell_type": "code",
   "execution_count": 47,
   "metadata": {},
   "outputs": [],
   "source": [
    "# S3 prefix\n",
    "bucket_name = 'demo-saeed'\n",
    "prefix = 'fraudcredit-pipeline-boto3'\n",
    "\n",
    "import sagemaker\n",
    "from sagemaker import get_execution_role\n",
    "\n",
    "sagemaker_session = sagemaker.Session()\n",
    "\n",
    "# Get a SageMaker-compatible role used by this Notebook Instance.\n",
    "role = get_execution_role()"
   ]
  },
  {
   "cell_type": "code",
   "execution_count": 48,
   "metadata": {},
   "outputs": [
    {
     "name": "stdout",
     "output_type": "stream",
     "text": [
      "sklearn_fd_featurizer.py\n",
      "s3://demo-saeed/fraudcredit-pipeline-boto3/src_path/sklearn_fd_featurizer.tar.gz\n"
     ]
    }
   ],
   "source": [
    "!tar -czvf sklearn_fd_featurizer.tar.gz sklearn_fd_featurizer.py\n",
    "\n",
    "src_path = sagemaker_session.upload_data(\n",
    "    path='{}'.format('sklearn_fd_featurizer.tar.gz'), \n",
    "    bucket=bucket_name,\n",
    "    key_prefix='{}/{}'.format(prefix, 'src_path'))\n",
    "print(src_path)"
   ]
  },
  {
   "cell_type": "code",
   "execution_count": 49,
   "metadata": {},
   "outputs": [],
   "source": [
    "import datetime\n",
    "time  = str(datetime.datetime.today()).replace(' ', '-').replace(':', '-').rsplit('.')[0]\n",
    "training_job_name = 'fd-preprocess-model-job-{}'.format(time)\n",
    "sm = boto3.client('sagemaker')\n",
    "resp = sm.create_training_job(\n",
    "        TrainingJobName = training_job_name, \n",
    "        AlgorithmSpecification={\n",
    "            'TrainingInputMode': 'File',\n",
    "            'TrainingImage': '683313688378.dkr.ecr.us-east-1.amazonaws.com/sagemaker-scikit-learn:0.20.0-cpu-py3',\n",
    "        }, \n",
    "        RoleArn=role,\n",
    "        InputDataConfig=[\n",
    "                            {\n",
    "                                'ChannelName': 'train',\n",
    "                                'DataSource': {\n",
    "                                    'S3DataSource': {\n",
    "                                        'S3DataType': 'S3Prefix',\n",
    "                                        'S3Uri': 's3://{}/{}/raw'.format(bucket_name, prefix),\n",
    "                                        'S3DataDistributionType': 'FullyReplicated',\n",
    "                                    }\n",
    "                                },\n",
    "                            },\n",
    "                        ], \n",
    "        OutputDataConfig={\n",
    "                            'S3OutputPath': 's3://{}/{}/preprocessed-model'.format(bucket_name, prefix)\n",
    "                        },\n",
    "        ResourceConfig={\n",
    "                        'InstanceType': 'ml.m4.xlarge',\n",
    "                        'InstanceCount': 1,\n",
    "                        'VolumeSizeInGB': 30,\n",
    "                    }, \n",
    "        StoppingCondition={\n",
    "                            'MaxRuntimeInSeconds': 600\n",
    "                        },\n",
    "        HyperParameters={\n",
    "            'sagemaker_program' : \"sklearn_fd_featurizer.py\",\n",
    "            'sagemaker_region': \"us-east-1\",\n",
    "            'sagemaker_job_name': training_job_name,\n",
    "            'sagemaker_submit_directory': src_path\n",
    "        },\n",
    "        Tags=[]\n",
    "\n",
    ")"
   ]
  },
  {
   "cell_type": "code",
   "execution_count": 51,
   "metadata": {},
   "outputs": [
    {
     "data": {
      "text/plain": [
       "'fd-preprocess-model-job-2019-05-29-04-09-35'"
      ]
     },
     "execution_count": 51,
     "metadata": {},
     "output_type": "execute_result"
    }
   ],
   "source": [
    "training_job_name"
   ]
  },
  {
   "cell_type": "code",
   "execution_count": 50,
   "metadata": {},
   "outputs": [],
   "source": [
    "# s3_model_dir = sagemaker.s3_input(s3_data='s3://{}/{}/preprocessed-output/'.format(bucket_name, prefix))\n",
    "# s3_model_dir.config"
   ]
  },
  {
   "cell_type": "code",
   "execution_count": 54,
   "metadata": {},
   "outputs": [],
   "source": [
    "\n",
    "sagemaker = boto3.client('sagemaker')\n",
    "container = '683313688378.dkr.ecr.us-east-1.amazonaws.com/sagemaker-scikit-learn:0.20.0-cpu-py3'\n",
    "try:\n",
    "    sagemaker.create_model(\n",
    "        ModelName='preprocessing-model2',\n",
    "        PrimaryContainer={\n",
    "            'Image': container,\n",
    "            'ModelDataUrl': 's3://demo-saeed/fraudcredit-pipeline-boto3/preprocessed-model/fd-preprocess-model-job-2019-05-29-04-09-35/output/model.tar.gz',\n",
    "                'Environment': {\n",
    "                'SAGEMAKER_PROGRAM': 'sklearn_fd_featurizer.py',\n",
    "                'SAGEMAKER_REGION':'us-east-1',\n",
    "                'SAGEMAKER_SUBMIT_DIRECTORY': 's3://demo-saeed/fraudcredit-pipeline-boto3/src_path/sklearn_fd_featurizer.tar.gz'\n",
    "    \n",
    "            },\n",
    "        },\n",
    "        ExecutionRoleArn=role\n",
    "    )\n",
    "except Exception as e:\n",
    "    print(e)\n",
    "    print('Unable to create model.')\n",
    "    raise(e)"
   ]
  },
  {
   "cell_type": "code",
   "execution_count": 55,
   "metadata": {},
   "outputs": [],
   "source": [
    "sagemaker = boto3.client('sagemaker')\n",
    "response = sagemaker.create_transform_job(\n",
    "    TransformJobName='TransformJobName3',\n",
    "    ModelName='preprocessing-model2',\n",
    "    MaxConcurrentTransforms=1,\n",
    "    MaxPayloadInMB=6,\n",
    "    BatchStrategy='MultiRecord',\n",
    "\n",
    "    TransformInput={\n",
    "        'DataSource': {\n",
    "            'S3DataSource': {\n",
    "                'S3DataType': 'S3Prefix',\n",
    "                'S3Uri': 's3://{}/{}/raw'.format(bucket_name, prefix)\n",
    "            }\n",
    "        },\n",
    "        'ContentType': 'text/csv',\n",
    "        'CompressionType': 'None',\n",
    "        'SplitType': 'Line'\n",
    "    },\n",
    "    TransformOutput={\n",
    "        'S3OutputPath': 's3://{}/{}/transformer_output/'.format(bucket_name, prefix),\n",
    "        'Accept': 'text/csv',\n",
    "        'AssembleWith': 'Line'\n",
    "    },\n",
    "    TransformResources={\n",
    "        'InstanceType': 'ml.m5.4xlarge',\n",
    "        'InstanceCount': 1\n",
    "    },\n",
    "    Tags=[]\n",
    ")"
   ]
  },
  {
   "cell_type": "code",
   "execution_count": 36,
   "metadata": {},
   "outputs": [
    {
     "data": {
      "text/plain": [
       "'s3://demo-saeed/fraudcredit-pipeline-boto3/transformer_output/creditcard.csv.out'"
      ]
     },
     "execution_count": 36,
     "metadata": {},
     "output_type": "execute_result"
    }
   ],
   "source": [
    "data_location = 's3://{}/{}/transformer_output/{}'.format(bucket_name, prefix,'creditcard.csv.out')\n",
    "data_location"
   ]
  },
  {
   "cell_type": "code",
   "execution_count": 45,
   "metadata": {},
   "outputs": [
    {
     "ename": "FileNotFoundError",
     "evalue": "demo-saeed/fraudcredit-pipeline-boto3/transformer_output/creditcard.csv.out",
     "output_type": "error",
     "traceback": [
      "\u001b[0;31m---------------------------------------------------------------------------\u001b[0m",
      "\u001b[0;31mClientError\u001b[0m                               Traceback (most recent call last)",
      "\u001b[0;32m~/anaconda3/envs/python3/lib/python3.6/site-packages/s3fs/core.py\u001b[0m in \u001b[0;36minfo\u001b[0;34m(self, path, version_id, refresh, **kwargs)\u001b[0m\n\u001b[1;32m    442\u001b[0m             out = self._call_s3(self.s3.head_object, kwargs, Bucket=bucket,\n\u001b[0;32m--> 443\u001b[0;31m                                 Key=key, **self.req_kw)\n\u001b[0m\u001b[1;32m    444\u001b[0m             out = {\n",
      "\u001b[0;32m~/anaconda3/envs/python3/lib/python3.6/site-packages/s3fs/core.py\u001b[0m in \u001b[0;36m_call_s3\u001b[0;34m(self, method, *akwarglist, **kwargs)\u001b[0m\n\u001b[1;32m    171\u001b[0m                                                        **kwargs)\n\u001b[0;32m--> 172\u001b[0;31m         \u001b[0;32mreturn\u001b[0m \u001b[0mmethod\u001b[0m\u001b[0;34m(\u001b[0m\u001b[0;34m**\u001b[0m\u001b[0madditional_kwargs\u001b[0m\u001b[0;34m)\u001b[0m\u001b[0;34m\u001b[0m\u001b[0m\n\u001b[0m\u001b[1;32m    173\u001b[0m \u001b[0;34m\u001b[0m\u001b[0m\n",
      "\u001b[0;32m~/anaconda3/envs/python3/lib/python3.6/site-packages/botocore/client.py\u001b[0m in \u001b[0;36m_api_call\u001b[0;34m(self, *args, **kwargs)\u001b[0m\n\u001b[1;32m    356\u001b[0m             \u001b[0;31m# The \"self\" in this scope is referring to the BaseClient.\u001b[0m\u001b[0;34m\u001b[0m\u001b[0;34m\u001b[0m\u001b[0m\n\u001b[0;32m--> 357\u001b[0;31m             \u001b[0;32mreturn\u001b[0m \u001b[0mself\u001b[0m\u001b[0;34m.\u001b[0m\u001b[0m_make_api_call\u001b[0m\u001b[0;34m(\u001b[0m\u001b[0moperation_name\u001b[0m\u001b[0;34m,\u001b[0m \u001b[0mkwargs\u001b[0m\u001b[0;34m)\u001b[0m\u001b[0;34m\u001b[0m\u001b[0m\n\u001b[0m\u001b[1;32m    358\u001b[0m \u001b[0;34m\u001b[0m\u001b[0m\n",
      "\u001b[0;32m~/anaconda3/envs/python3/lib/python3.6/site-packages/botocore/client.py\u001b[0m in \u001b[0;36m_make_api_call\u001b[0;34m(self, operation_name, api_params)\u001b[0m\n\u001b[1;32m    660\u001b[0m             \u001b[0merror_class\u001b[0m \u001b[0;34m=\u001b[0m \u001b[0mself\u001b[0m\u001b[0;34m.\u001b[0m\u001b[0mexceptions\u001b[0m\u001b[0;34m.\u001b[0m\u001b[0mfrom_code\u001b[0m\u001b[0;34m(\u001b[0m\u001b[0merror_code\u001b[0m\u001b[0;34m)\u001b[0m\u001b[0;34m\u001b[0m\u001b[0m\n\u001b[0;32m--> 661\u001b[0;31m             \u001b[0;32mraise\u001b[0m \u001b[0merror_class\u001b[0m\u001b[0;34m(\u001b[0m\u001b[0mparsed_response\u001b[0m\u001b[0;34m,\u001b[0m \u001b[0moperation_name\u001b[0m\u001b[0;34m)\u001b[0m\u001b[0;34m\u001b[0m\u001b[0m\n\u001b[0m\u001b[1;32m    662\u001b[0m         \u001b[0;32melse\u001b[0m\u001b[0;34m:\u001b[0m\u001b[0;34m\u001b[0m\u001b[0m\n",
      "\u001b[0;31mClientError\u001b[0m: An error occurred (404) when calling the HeadObject operation: Not Found",
      "\nDuring handling of the above exception, another exception occurred:\n",
      "\u001b[0;31mFileNotFoundError\u001b[0m                         Traceback (most recent call last)",
      "\u001b[0;32m~/anaconda3/envs/python3/lib/python3.6/site-packages/pandas/io/s3.py\u001b[0m in \u001b[0;36mget_filepath_or_buffer\u001b[0;34m(filepath_or_buffer, encoding, compression)\u001b[0m\n\u001b[1;32m     24\u001b[0m     \u001b[0;32mtry\u001b[0m\u001b[0;34m:\u001b[0m\u001b[0;34m\u001b[0m\u001b[0m\n\u001b[0;32m---> 25\u001b[0;31m         \u001b[0mfilepath_or_buffer\u001b[0m \u001b[0;34m=\u001b[0m \u001b[0mfs\u001b[0m\u001b[0;34m.\u001b[0m\u001b[0mopen\u001b[0m\u001b[0;34m(\u001b[0m\u001b[0m_strip_schema\u001b[0m\u001b[0;34m(\u001b[0m\u001b[0mfilepath_or_buffer\u001b[0m\u001b[0;34m)\u001b[0m\u001b[0;34m)\u001b[0m\u001b[0;34m\u001b[0m\u001b[0m\n\u001b[0m\u001b[1;32m     26\u001b[0m     \u001b[0;32mexcept\u001b[0m \u001b[0;34m(\u001b[0m\u001b[0mOSError\u001b[0m\u001b[0;34m,\u001b[0m \u001b[0mNoCredentialsError\u001b[0m\u001b[0;34m)\u001b[0m\u001b[0;34m:\u001b[0m\u001b[0;34m\u001b[0m\u001b[0m\n",
      "\u001b[0;32m~/anaconda3/envs/python3/lib/python3.6/site-packages/s3fs/core.py\u001b[0m in \u001b[0;36mopen\u001b[0;34m(self, path, mode, block_size, acl, version_id, fill_cache, **kwargs)\u001b[0m\n\u001b[1;32m    314\u001b[0m                       \u001b[0mversion_id\u001b[0m\u001b[0;34m=\u001b[0m\u001b[0mversion_id\u001b[0m\u001b[0;34m,\u001b[0m \u001b[0mfill_cache\u001b[0m\u001b[0;34m=\u001b[0m\u001b[0mfill_cache\u001b[0m\u001b[0;34m,\u001b[0m\u001b[0;34m\u001b[0m\u001b[0m\n\u001b[0;32m--> 315\u001b[0;31m                       s3_additional_kwargs=kw)\n\u001b[0m\u001b[1;32m    316\u001b[0m \u001b[0;34m\u001b[0m\u001b[0m\n",
      "\u001b[0;32m~/anaconda3/envs/python3/lib/python3.6/site-packages/s3fs/core.py\u001b[0m in \u001b[0;36m__init__\u001b[0;34m(self, s3, path, mode, block_size, acl, version_id, fill_cache, s3_additional_kwargs)\u001b[0m\n\u001b[1;32m   1101\u001b[0m             \u001b[0;32mtry\u001b[0m\u001b[0;34m:\u001b[0m\u001b[0;34m\u001b[0m\u001b[0m\n\u001b[0;32m-> 1102\u001b[0;31m                 \u001b[0minfo\u001b[0m \u001b[0;34m=\u001b[0m \u001b[0mself\u001b[0m\u001b[0;34m.\u001b[0m\u001b[0minfo\u001b[0m\u001b[0;34m(\u001b[0m\u001b[0;34m)\u001b[0m\u001b[0;34m\u001b[0m\u001b[0m\n\u001b[0m\u001b[1;32m   1103\u001b[0m                 \u001b[0mself\u001b[0m\u001b[0;34m.\u001b[0m\u001b[0msize\u001b[0m \u001b[0;34m=\u001b[0m \u001b[0minfo\u001b[0m\u001b[0;34m[\u001b[0m\u001b[0;34m'Size'\u001b[0m\u001b[0;34m]\u001b[0m\u001b[0;34m\u001b[0m\u001b[0m\n",
      "\u001b[0;32m~/anaconda3/envs/python3/lib/python3.6/site-packages/s3fs/core.py\u001b[0m in \u001b[0;36minfo\u001b[0;34m(self, **kwargs)\u001b[0m\n\u001b[1;32m   1119\u001b[0m         return self.s3.info(self.path, version_id=self.version_id,\n\u001b[0;32m-> 1120\u001b[0;31m                             refresh=refresh, **kwargs)\n\u001b[0m\u001b[1;32m   1121\u001b[0m \u001b[0;34m\u001b[0m\u001b[0m\n",
      "\u001b[0;32m~/anaconda3/envs/python3/lib/python3.6/site-packages/s3fs/core.py\u001b[0m in \u001b[0;36minfo\u001b[0;34m(self, path, version_id, refresh, **kwargs)\u001b[0m\n\u001b[1;32m    454\u001b[0m             \u001b[0mlogger\u001b[0m\u001b[0;34m.\u001b[0m\u001b[0mdebug\u001b[0m\u001b[0;34m(\u001b[0m\u001b[0;34m\"Failed to head path %s\"\u001b[0m\u001b[0;34m,\u001b[0m \u001b[0mpath\u001b[0m\u001b[0;34m,\u001b[0m \u001b[0mexc_info\u001b[0m\u001b[0;34m=\u001b[0m\u001b[0;32mTrue\u001b[0m\u001b[0;34m)\u001b[0m\u001b[0;34m\u001b[0m\u001b[0m\n\u001b[0;32m--> 455\u001b[0;31m             \u001b[0;32mraise\u001b[0m \u001b[0mFileNotFoundError\u001b[0m\u001b[0;34m(\u001b[0m\u001b[0mpath\u001b[0m\u001b[0;34m)\u001b[0m\u001b[0;34m\u001b[0m\u001b[0m\n\u001b[0m\u001b[1;32m    456\u001b[0m \u001b[0;34m\u001b[0m\u001b[0m\n",
      "\u001b[0;31mFileNotFoundError\u001b[0m: demo-saeed/fraudcredit-pipeline-boto3/transformer_output/creditcard.csv.out",
      "\nDuring handling of the above exception, another exception occurred:\n",
      "\u001b[0;31mClientError\u001b[0m                               Traceback (most recent call last)",
      "\u001b[0;32m~/anaconda3/envs/python3/lib/python3.6/site-packages/s3fs/core.py\u001b[0m in \u001b[0;36minfo\u001b[0;34m(self, path, version_id, refresh, **kwargs)\u001b[0m\n\u001b[1;32m    442\u001b[0m             out = self._call_s3(self.s3.head_object, kwargs, Bucket=bucket,\n\u001b[0;32m--> 443\u001b[0;31m                                 Key=key, **self.req_kw)\n\u001b[0m\u001b[1;32m    444\u001b[0m             out = {\n",
      "\u001b[0;32m~/anaconda3/envs/python3/lib/python3.6/site-packages/s3fs/core.py\u001b[0m in \u001b[0;36m_call_s3\u001b[0;34m(self, method, *akwarglist, **kwargs)\u001b[0m\n\u001b[1;32m    171\u001b[0m                                                        **kwargs)\n\u001b[0;32m--> 172\u001b[0;31m         \u001b[0;32mreturn\u001b[0m \u001b[0mmethod\u001b[0m\u001b[0;34m(\u001b[0m\u001b[0;34m**\u001b[0m\u001b[0madditional_kwargs\u001b[0m\u001b[0;34m)\u001b[0m\u001b[0;34m\u001b[0m\u001b[0m\n\u001b[0m\u001b[1;32m    173\u001b[0m \u001b[0;34m\u001b[0m\u001b[0m\n",
      "\u001b[0;32m~/anaconda3/envs/python3/lib/python3.6/site-packages/botocore/client.py\u001b[0m in \u001b[0;36m_api_call\u001b[0;34m(self, *args, **kwargs)\u001b[0m\n\u001b[1;32m    356\u001b[0m             \u001b[0;31m# The \"self\" in this scope is referring to the BaseClient.\u001b[0m\u001b[0;34m\u001b[0m\u001b[0;34m\u001b[0m\u001b[0m\n\u001b[0;32m--> 357\u001b[0;31m             \u001b[0;32mreturn\u001b[0m \u001b[0mself\u001b[0m\u001b[0;34m.\u001b[0m\u001b[0m_make_api_call\u001b[0m\u001b[0;34m(\u001b[0m\u001b[0moperation_name\u001b[0m\u001b[0;34m,\u001b[0m \u001b[0mkwargs\u001b[0m\u001b[0;34m)\u001b[0m\u001b[0;34m\u001b[0m\u001b[0m\n\u001b[0m\u001b[1;32m    358\u001b[0m \u001b[0;34m\u001b[0m\u001b[0m\n",
      "\u001b[0;32m~/anaconda3/envs/python3/lib/python3.6/site-packages/botocore/client.py\u001b[0m in \u001b[0;36m_make_api_call\u001b[0;34m(self, operation_name, api_params)\u001b[0m\n\u001b[1;32m    660\u001b[0m             \u001b[0merror_class\u001b[0m \u001b[0;34m=\u001b[0m \u001b[0mself\u001b[0m\u001b[0;34m.\u001b[0m\u001b[0mexceptions\u001b[0m\u001b[0;34m.\u001b[0m\u001b[0mfrom_code\u001b[0m\u001b[0;34m(\u001b[0m\u001b[0merror_code\u001b[0m\u001b[0;34m)\u001b[0m\u001b[0;34m\u001b[0m\u001b[0m\n\u001b[0;32m--> 661\u001b[0;31m             \u001b[0;32mraise\u001b[0m \u001b[0merror_class\u001b[0m\u001b[0;34m(\u001b[0m\u001b[0mparsed_response\u001b[0m\u001b[0;34m,\u001b[0m \u001b[0moperation_name\u001b[0m\u001b[0;34m)\u001b[0m\u001b[0;34m\u001b[0m\u001b[0m\n\u001b[0m\u001b[1;32m    662\u001b[0m         \u001b[0;32melse\u001b[0m\u001b[0;34m:\u001b[0m\u001b[0;34m\u001b[0m\u001b[0m\n",
      "\u001b[0;31mClientError\u001b[0m: An error occurred (403) when calling the HeadObject operation: Forbidden",
      "\nDuring handling of the above exception, another exception occurred:\n",
      "\u001b[0;31mFileNotFoundError\u001b[0m                         Traceback (most recent call last)",
      "\u001b[0;32m<ipython-input-45-c8eeb6eadaf3>\u001b[0m in \u001b[0;36m<module>\u001b[0;34m()\u001b[0m\n\u001b[0;32m----> 1\u001b[0;31m \u001b[0mdata\u001b[0m \u001b[0;34m=\u001b[0m \u001b[0mpd\u001b[0m\u001b[0;34m.\u001b[0m\u001b[0mread_csv\u001b[0m\u001b[0;34m(\u001b[0m\u001b[0mdata_location\u001b[0m\u001b[0;34m,\u001b[0m \u001b[0mheader\u001b[0m\u001b[0;34m=\u001b[0m\u001b[0;32mNone\u001b[0m\u001b[0;34m)\u001b[0m\u001b[0;34m\u001b[0m\u001b[0m\n\u001b[0m\u001b[1;32m      2\u001b[0m \u001b[0mdata\u001b[0m\u001b[0;34m.\u001b[0m\u001b[0mhead\u001b[0m\u001b[0;34m(\u001b[0m\u001b[0;34m)\u001b[0m\u001b[0;34m\u001b[0m\u001b[0m\n",
      "\u001b[0;32m~/anaconda3/envs/python3/lib/python3.6/site-packages/pandas/io/parsers.py\u001b[0m in \u001b[0;36mparser_f\u001b[0;34m(filepath_or_buffer, sep, delimiter, header, names, index_col, usecols, squeeze, prefix, mangle_dupe_cols, dtype, engine, converters, true_values, false_values, skipinitialspace, skiprows, nrows, na_values, keep_default_na, na_filter, verbose, skip_blank_lines, parse_dates, infer_datetime_format, keep_date_col, date_parser, dayfirst, iterator, chunksize, compression, thousands, decimal, lineterminator, quotechar, quoting, escapechar, comment, encoding, dialect, tupleize_cols, error_bad_lines, warn_bad_lines, skipfooter, skip_footer, doublequote, delim_whitespace, as_recarray, compact_ints, use_unsigned, low_memory, buffer_lines, memory_map, float_precision)\u001b[0m\n\u001b[1;32m    707\u001b[0m                     skip_blank_lines=skip_blank_lines)\n\u001b[1;32m    708\u001b[0m \u001b[0;34m\u001b[0m\u001b[0m\n\u001b[0;32m--> 709\u001b[0;31m         \u001b[0;32mreturn\u001b[0m \u001b[0m_read\u001b[0m\u001b[0;34m(\u001b[0m\u001b[0mfilepath_or_buffer\u001b[0m\u001b[0;34m,\u001b[0m \u001b[0mkwds\u001b[0m\u001b[0;34m)\u001b[0m\u001b[0;34m\u001b[0m\u001b[0m\n\u001b[0m\u001b[1;32m    710\u001b[0m \u001b[0;34m\u001b[0m\u001b[0m\n\u001b[1;32m    711\u001b[0m     \u001b[0mparser_f\u001b[0m\u001b[0;34m.\u001b[0m\u001b[0m__name__\u001b[0m \u001b[0;34m=\u001b[0m \u001b[0mname\u001b[0m\u001b[0;34m\u001b[0m\u001b[0m\n",
      "\u001b[0;32m~/anaconda3/envs/python3/lib/python3.6/site-packages/pandas/io/parsers.py\u001b[0m in \u001b[0;36m_read\u001b[0;34m(filepath_or_buffer, kwds)\u001b[0m\n\u001b[1;32m    431\u001b[0m     \u001b[0mcompression\u001b[0m \u001b[0;34m=\u001b[0m \u001b[0m_infer_compression\u001b[0m\u001b[0;34m(\u001b[0m\u001b[0mfilepath_or_buffer\u001b[0m\u001b[0;34m,\u001b[0m \u001b[0mcompression\u001b[0m\u001b[0;34m)\u001b[0m\u001b[0;34m\u001b[0m\u001b[0m\n\u001b[1;32m    432\u001b[0m     filepath_or_buffer, _, compression = get_filepath_or_buffer(\n\u001b[0;32m--> 433\u001b[0;31m         filepath_or_buffer, encoding, compression)\n\u001b[0m\u001b[1;32m    434\u001b[0m     \u001b[0mkwds\u001b[0m\u001b[0;34m[\u001b[0m\u001b[0;34m'compression'\u001b[0m\u001b[0;34m]\u001b[0m \u001b[0;34m=\u001b[0m \u001b[0mcompression\u001b[0m\u001b[0;34m\u001b[0m\u001b[0m\n\u001b[1;32m    435\u001b[0m \u001b[0;34m\u001b[0m\u001b[0m\n",
      "\u001b[0;32m~/anaconda3/envs/python3/lib/python3.6/site-packages/pandas/io/common.py\u001b[0m in \u001b[0;36mget_filepath_or_buffer\u001b[0;34m(filepath_or_buffer, encoding, compression)\u001b[0m\n\u001b[1;32m    200\u001b[0m         return s3.get_filepath_or_buffer(filepath_or_buffer,\n\u001b[1;32m    201\u001b[0m                                          \u001b[0mencoding\u001b[0m\u001b[0;34m=\u001b[0m\u001b[0mencoding\u001b[0m\u001b[0;34m,\u001b[0m\u001b[0;34m\u001b[0m\u001b[0m\n\u001b[0;32m--> 202\u001b[0;31m                                          compression=compression)\n\u001b[0m\u001b[1;32m    203\u001b[0m \u001b[0;34m\u001b[0m\u001b[0m\n\u001b[1;32m    204\u001b[0m     if isinstance(filepath_or_buffer, (compat.string_types,\n",
      "\u001b[0;32m~/anaconda3/envs/python3/lib/python3.6/site-packages/pandas/io/s3.py\u001b[0m in \u001b[0;36mget_filepath_or_buffer\u001b[0;34m(filepath_or_buffer, encoding, compression)\u001b[0m\n\u001b[1;32m     32\u001b[0m         \u001b[0;31m# for that bucket.\u001b[0m\u001b[0;34m\u001b[0m\u001b[0;34m\u001b[0m\u001b[0m\n\u001b[1;32m     33\u001b[0m         \u001b[0mfs\u001b[0m \u001b[0;34m=\u001b[0m \u001b[0ms3fs\u001b[0m\u001b[0;34m.\u001b[0m\u001b[0mS3FileSystem\u001b[0m\u001b[0;34m(\u001b[0m\u001b[0manon\u001b[0m\u001b[0;34m=\u001b[0m\u001b[0;32mTrue\u001b[0m\u001b[0;34m)\u001b[0m\u001b[0;34m\u001b[0m\u001b[0m\n\u001b[0;32m---> 34\u001b[0;31m         \u001b[0mfilepath_or_buffer\u001b[0m \u001b[0;34m=\u001b[0m \u001b[0mfs\u001b[0m\u001b[0;34m.\u001b[0m\u001b[0mopen\u001b[0m\u001b[0;34m(\u001b[0m\u001b[0m_strip_schema\u001b[0m\u001b[0;34m(\u001b[0m\u001b[0mfilepath_or_buffer\u001b[0m\u001b[0;34m)\u001b[0m\u001b[0;34m)\u001b[0m\u001b[0;34m\u001b[0m\u001b[0m\n\u001b[0m\u001b[1;32m     35\u001b[0m     \u001b[0;32mreturn\u001b[0m \u001b[0mfilepath_or_buffer\u001b[0m\u001b[0;34m,\u001b[0m \u001b[0;32mNone\u001b[0m\u001b[0;34m,\u001b[0m \u001b[0mcompression\u001b[0m\u001b[0;34m\u001b[0m\u001b[0m\n",
      "\u001b[0;32m~/anaconda3/envs/python3/lib/python3.6/site-packages/s3fs/core.py\u001b[0m in \u001b[0;36mopen\u001b[0;34m(self, path, mode, block_size, acl, version_id, fill_cache, **kwargs)\u001b[0m\n\u001b[1;32m    313\u001b[0m         return S3File(self, path, mode, block_size=block_size, acl=acl,\n\u001b[1;32m    314\u001b[0m                       \u001b[0mversion_id\u001b[0m\u001b[0;34m=\u001b[0m\u001b[0mversion_id\u001b[0m\u001b[0;34m,\u001b[0m \u001b[0mfill_cache\u001b[0m\u001b[0;34m=\u001b[0m\u001b[0mfill_cache\u001b[0m\u001b[0;34m,\u001b[0m\u001b[0;34m\u001b[0m\u001b[0m\n\u001b[0;32m--> 315\u001b[0;31m                       s3_additional_kwargs=kw)\n\u001b[0m\u001b[1;32m    316\u001b[0m \u001b[0;34m\u001b[0m\u001b[0m\n\u001b[1;32m    317\u001b[0m     \u001b[0;32mdef\u001b[0m \u001b[0m_lsdir\u001b[0m\u001b[0;34m(\u001b[0m\u001b[0mself\u001b[0m\u001b[0;34m,\u001b[0m \u001b[0mpath\u001b[0m\u001b[0;34m,\u001b[0m \u001b[0mrefresh\u001b[0m\u001b[0;34m=\u001b[0m\u001b[0;32mFalse\u001b[0m\u001b[0;34m)\u001b[0m\u001b[0;34m:\u001b[0m\u001b[0;34m\u001b[0m\u001b[0m\n",
      "\u001b[0;32m~/anaconda3/envs/python3/lib/python3.6/site-packages/s3fs/core.py\u001b[0m in \u001b[0;36m__init__\u001b[0;34m(self, s3, path, mode, block_size, acl, version_id, fill_cache, s3_additional_kwargs)\u001b[0m\n\u001b[1;32m   1100\u001b[0m         \u001b[0;32melse\u001b[0m\u001b[0;34m:\u001b[0m\u001b[0;34m\u001b[0m\u001b[0m\n\u001b[1;32m   1101\u001b[0m             \u001b[0;32mtry\u001b[0m\u001b[0;34m:\u001b[0m\u001b[0;34m\u001b[0m\u001b[0m\n\u001b[0;32m-> 1102\u001b[0;31m                 \u001b[0minfo\u001b[0m \u001b[0;34m=\u001b[0m \u001b[0mself\u001b[0m\u001b[0;34m.\u001b[0m\u001b[0minfo\u001b[0m\u001b[0;34m(\u001b[0m\u001b[0;34m)\u001b[0m\u001b[0;34m\u001b[0m\u001b[0m\n\u001b[0m\u001b[1;32m   1103\u001b[0m                 \u001b[0mself\u001b[0m\u001b[0;34m.\u001b[0m\u001b[0msize\u001b[0m \u001b[0;34m=\u001b[0m \u001b[0minfo\u001b[0m\u001b[0;34m[\u001b[0m\u001b[0;34m'Size'\u001b[0m\u001b[0;34m]\u001b[0m\u001b[0;34m\u001b[0m\u001b[0m\n\u001b[1;32m   1104\u001b[0m                 \u001b[0;32mif\u001b[0m \u001b[0mself\u001b[0m\u001b[0;34m.\u001b[0m\u001b[0ms3\u001b[0m\u001b[0;34m.\u001b[0m\u001b[0mversion_aware\u001b[0m\u001b[0;34m:\u001b[0m\u001b[0;34m\u001b[0m\u001b[0m\n",
      "\u001b[0;32m~/anaconda3/envs/python3/lib/python3.6/site-packages/s3fs/core.py\u001b[0m in \u001b[0;36minfo\u001b[0;34m(self, **kwargs)\u001b[0m\n\u001b[1;32m   1118\u001b[0m         \u001b[0mrefresh\u001b[0m \u001b[0;34m=\u001b[0m \u001b[0mself\u001b[0m\u001b[0;34m.\u001b[0m\u001b[0ms3\u001b[0m\u001b[0;34m.\u001b[0m\u001b[0mversion_aware\u001b[0m\u001b[0;34m\u001b[0m\u001b[0m\n\u001b[1;32m   1119\u001b[0m         return self.s3.info(self.path, version_id=self.version_id,\n\u001b[0;32m-> 1120\u001b[0;31m                             refresh=refresh, **kwargs)\n\u001b[0m\u001b[1;32m   1121\u001b[0m \u001b[0;34m\u001b[0m\u001b[0m\n\u001b[1;32m   1122\u001b[0m     \u001b[0;32mdef\u001b[0m \u001b[0mmetadata\u001b[0m\u001b[0;34m(\u001b[0m\u001b[0mself\u001b[0m\u001b[0;34m,\u001b[0m \u001b[0mrefresh\u001b[0m\u001b[0;34m=\u001b[0m\u001b[0;32mFalse\u001b[0m\u001b[0;34m,\u001b[0m \u001b[0;34m**\u001b[0m\u001b[0mkwargs\u001b[0m\u001b[0;34m)\u001b[0m\u001b[0;34m:\u001b[0m\u001b[0;34m\u001b[0m\u001b[0m\n",
      "\u001b[0;32m~/anaconda3/envs/python3/lib/python3.6/site-packages/s3fs/core.py\u001b[0m in \u001b[0;36minfo\u001b[0;34m(self, path, version_id, refresh, **kwargs)\u001b[0m\n\u001b[1;32m    453\u001b[0m         \u001b[0;32mexcept\u001b[0m \u001b[0;34m(\u001b[0m\u001b[0mClientError\u001b[0m\u001b[0;34m,\u001b[0m \u001b[0mParamValidationError\u001b[0m\u001b[0;34m)\u001b[0m\u001b[0;34m:\u001b[0m\u001b[0;34m\u001b[0m\u001b[0m\n\u001b[1;32m    454\u001b[0m             \u001b[0mlogger\u001b[0m\u001b[0;34m.\u001b[0m\u001b[0mdebug\u001b[0m\u001b[0;34m(\u001b[0m\u001b[0;34m\"Failed to head path %s\"\u001b[0m\u001b[0;34m,\u001b[0m \u001b[0mpath\u001b[0m\u001b[0;34m,\u001b[0m \u001b[0mexc_info\u001b[0m\u001b[0;34m=\u001b[0m\u001b[0;32mTrue\u001b[0m\u001b[0;34m)\u001b[0m\u001b[0;34m\u001b[0m\u001b[0m\n\u001b[0;32m--> 455\u001b[0;31m             \u001b[0;32mraise\u001b[0m \u001b[0mFileNotFoundError\u001b[0m\u001b[0;34m(\u001b[0m\u001b[0mpath\u001b[0m\u001b[0;34m)\u001b[0m\u001b[0;34m\u001b[0m\u001b[0m\n\u001b[0m\u001b[1;32m    456\u001b[0m \u001b[0;34m\u001b[0m\u001b[0m\n\u001b[1;32m    457\u001b[0m     \u001b[0;32mdef\u001b[0m \u001b[0mobject_version_info\u001b[0m\u001b[0;34m(\u001b[0m\u001b[0mself\u001b[0m\u001b[0;34m,\u001b[0m \u001b[0mpath\u001b[0m\u001b[0;34m,\u001b[0m \u001b[0;34m**\u001b[0m\u001b[0mkwargs\u001b[0m\u001b[0;34m)\u001b[0m\u001b[0;34m:\u001b[0m\u001b[0;34m\u001b[0m\u001b[0m\n",
      "\u001b[0;31mFileNotFoundError\u001b[0m: demo-saeed/fraudcredit-pipeline-boto3/transformer_output/creditcard.csv.out"
     ]
    }
   ],
   "source": [
    "data = pd.read_csv(data_location, header=None)\n",
    "data.head()"
   ]
  },
  {
   "cell_type": "code",
   "execution_count": 10,
   "metadata": {},
   "outputs": [],
   "source": [
    "X = data.iloc[:, 1:]\n",
    "y = data.loc[:, 0]"
   ]
  },
  {
   "cell_type": "code",
   "execution_count": 11,
   "metadata": {},
   "outputs": [
    {
     "data": {
      "text/plain": [
       "(284784, 30)"
      ]
     },
     "execution_count": 11,
     "metadata": {},
     "output_type": "execute_result"
    }
   ],
   "source": [
    "X.shape"
   ]
  },
  {
   "cell_type": "code",
   "execution_count": 12,
   "metadata": {},
   "outputs": [
    {
     "name": "stdout",
     "output_type": "stream",
     "text": [
      "Number transactions train dataset:  182261\n",
      "Number transactions Validation dataset:  45566\n",
      "Number transactions test dataset:  56957\n",
      "Total number of transactions:  284784\n"
     ]
    }
   ],
   "source": [
    "from sklearn.model_selection import train_test_split\n",
    "\n",
    "# Whole dataset\n",
    "X_train, X_test, y_train, y_test = train_test_split(X,y,test_size = 0.2, random_state = 0)\n",
    "\n",
    "X_train, X_val, y_train, y_val = train_test_split(X_train,y_train,test_size = 0.2 ,random_state = 0)\n",
    "\n",
    "print(\"Number transactions train dataset: \", len(X_train))\n",
    "print(\"Number transactions Validation dataset: \", len(X_val))\n",
    "print(\"Number transactions test dataset: \", len(X_test))\n",
    "print(\"Total number of transactions: \", len(X_train)+len(X_val)+len(X_test))\n",
    "\n",
    "\n"
   ]
  },
  {
   "cell_type": "markdown",
   "metadata": {},
   "source": [
    "### Upload training set"
   ]
  },
  {
   "cell_type": "code",
   "execution_count": 27,
   "metadata": {},
   "outputs": [
    {
     "data": {
      "text/plain": [
       "{'DataSource': {'S3DataSource': {'S3DataDistributionType': 'FullyReplicated',\n",
       "   'S3DataType': 'S3Prefix',\n",
       "   'S3Uri': 's3://demo-saeed/fraudcredit-local/train'}}}"
      ]
     },
     "execution_count": 27,
     "metadata": {},
     "output_type": "execute_result"
    }
   ],
   "source": [
    "f = io.BytesIO()\n",
    "smac.write_numpy_to_dense_tensor(f, X_train.values.astype('float32'), y_train.values.reshape(-1).astype('float32'))\n",
    "f.seek(0)\n",
    "boto3.Session().resource('s3').Bucket(bucket_name).Object(os.path.join(prefix, 'train','linear_train.data')).upload_fileobj(f)\n",
    "s3_input_train = sagemaker.s3_input(s3_data='s3://{}/{}/train'.format(bucket_name, prefix))\n",
    "s3_input_train.config"
   ]
  },
  {
   "cell_type": "markdown",
   "metadata": {},
   "source": [
    "### Upload validation set"
   ]
  },
  {
   "cell_type": "code",
   "execution_count": 28,
   "metadata": {},
   "outputs": [
    {
     "data": {
      "text/plain": [
       "{'DataSource': {'S3DataSource': {'S3DataDistributionType': 'FullyReplicated',\n",
       "   'S3DataType': 'S3Prefix',\n",
       "   'S3Uri': 's3://demo-saeed/fraudcredit-local/validation'}}}"
      ]
     },
     "execution_count": 28,
     "metadata": {},
     "output_type": "execute_result"
    }
   ],
   "source": [
    "f = io.BytesIO()\n",
    "smac.write_numpy_to_dense_tensor(f, X_val.values.astype('float32'), y_val.values.reshape(-1).astype('float32'))\n",
    "f.seek(0)\n",
    "boto3.Session().resource('s3').Bucket(bucket_name).Object(os.path.join(prefix, 'validation','linear_val.data')).upload_fileobj(f)\n",
    "s3_input_validation = sagemaker.s3_input(s3_data='s3://{}/{}/validation'.format(bucket_name, prefix))\n",
    "s3_input_validation.config\n"
   ]
  },
  {
   "cell_type": "markdown",
   "metadata": {},
   "source": [
    "### Upload test set\n"
   ]
  },
  {
   "cell_type": "code",
   "execution_count": 29,
   "metadata": {},
   "outputs": [
    {
     "data": {
      "text/plain": [
       "{'DataSource': {'S3DataSource': {'S3DataDistributionType': 'FullyReplicated',\n",
       "   'S3DataType': 'S3Prefix',\n",
       "   'S3Uri': 's3://demo-saeed/fraudcredit-local/test'}}}"
      ]
     },
     "execution_count": 29,
     "metadata": {},
     "output_type": "execute_result"
    }
   ],
   "source": [
    "test_file = 'linear_test.data'\n",
    "\n",
    "f = io.BytesIO()\n",
    "smac.write_numpy_to_dense_tensor(f, X_test.values.astype('float32'), y_test.values.reshape(-1).astype('float32'))\n",
    "f.seek(0)\n",
    "\n",
    "boto3.Session().resource('s3').Bucket(bucket_name).Object(os.path.join(prefix, 'test',test_file)).upload_fileobj(f)\n",
    "s3_input_test = sagemaker.s3_input(s3_data='s3://{}/{}/test'.format(bucket_name, prefix))\n",
    "s3_input_test.config"
   ]
  },
  {
   "cell_type": "markdown",
   "metadata": {},
   "source": [
    "# training"
   ]
  },
  {
   "cell_type": "code",
   "execution_count": 13,
   "metadata": {},
   "outputs": [
    {
     "data": {
      "text/plain": [
       "'382416733822.dkr.ecr.us-east-1.amazonaws.com/linear-learner:1'"
      ]
     },
     "execution_count": 13,
     "metadata": {},
     "output_type": "execute_result"
    }
   ],
   "source": [
    "from sagemaker.amazon.amazon_estimator import get_image_uri\n",
    "container = get_image_uri(boto3.Session().region_name, 'linear-learner')\n",
    "container"
   ]
  },
  {
   "cell_type": "code",
   "execution_count": 32,
   "metadata": {},
   "outputs": [
    {
     "name": "stdout",
     "output_type": "stream",
     "text": [
      "training artifacts will be uploaded to: s3://demo-saeed/fraudcredit-local/output\n"
     ]
    }
   ],
   "source": [
    "output_location = 's3://{}/{}/output'.format(bucket_name, prefix)\n",
    "print('training artifacts will be uploaded to: {}'.format(output_location))"
   ]
  },
  {
   "cell_type": "code",
   "execution_count": 33,
   "metadata": {},
   "outputs": [
    {
     "data": {
      "text/plain": [
       "(182261, 30)"
      ]
     },
     "execution_count": 33,
     "metadata": {},
     "output_type": "execute_result"
    }
   ],
   "source": [
    "X_train.shape"
   ]
  },
  {
   "cell_type": "code",
   "execution_count": 36,
   "metadata": {},
   "outputs": [
    {
     "name": "stdout",
     "output_type": "stream",
     "text": [
      "2019-05-27 18:14:33 Starting - Starting the training job...\n",
      "2019-05-27 18:14:34 Starting - Launching requested ML instances......\n",
      "2019-05-27 18:15:41 Starting - Preparing the instances for training...\n",
      "2019-05-27 18:16:30 Downloading - Downloading input data\n",
      "2019-05-27 18:16:30 Training - Downloading the training image.....\n",
      "\u001b[31mDocker entrypoint called with argument(s): train\u001b[0m\n",
      "\u001b[31m[05/27/2019 18:17:12 INFO 139622264776512] Reading default configuration from /opt/amazon/lib/python2.7/site-packages/algorithm/default-input.json: {u'loss_insensitivity': u'0.01', u'epochs': u'15', u'init_bias': u'0.0', u'lr_scheduler_factor': u'auto', u'num_calibration_samples': u'10000000', u'accuracy_top_k': u'3', u'_num_kv_servers': u'auto', u'use_bias': u'true', u'num_point_for_scaler': u'10000', u'_log_level': u'info', u'quantile': u'0.5', u'bias_lr_mult': u'auto', u'lr_scheduler_step': u'auto', u'init_method': u'uniform', u'init_sigma': u'0.01', u'lr_scheduler_minimum_lr': u'auto', u'target_recall': u'0.8', u'num_models': u'auto', u'early_stopping_patience': u'3', u'momentum': u'auto', u'unbias_label': u'auto', u'wd': u'auto', u'optimizer': u'auto', u'_tuning_objective_metric': u'', u'early_stopping_tolerance': u'0.001', u'learning_rate': u'auto', u'_kvstore': u'auto', u'normalize_data': u'true', u'binary_classifier_model_selection_criteria': u'accuracy', u'use_lr_scheduler': u'true', u'target_precision': u'0.8', u'unbias_data': u'auto', u'init_scale': u'0.07', u'bias_wd_mult': u'auto', u'f_beta': u'1.0', u'mini_batch_size': u'1000', u'huber_delta': u'1.0', u'num_classes': u'1', u'beta_1': u'auto', u'loss': u'auto', u'beta_2': u'auto', u'_enable_profiler': u'false', u'normalize_label': u'auto', u'_num_gpus': u'auto', u'balance_multiclass_weights': u'false', u'positive_example_weight_mult': u'1.0', u'l1': u'auto', u'margin': u'1.0'}\u001b[0m\n",
      "\u001b[31m[05/27/2019 18:17:12 INFO 139622264776512] Reading provided configuration from /opt/ml/input/config/hyperparameters.json: {u'epochs': u'1', u'feature_dim': u'30', u'mini_batch_size': u'200', u'predictor_type': u'binary_classifier'}\u001b[0m\n",
      "\u001b[31m[05/27/2019 18:17:12 INFO 139622264776512] Final configuration: {u'loss_insensitivity': u'0.01', u'epochs': u'1', u'feature_dim': u'30', u'init_bias': u'0.0', u'lr_scheduler_factor': u'auto', u'num_calibration_samples': u'10000000', u'accuracy_top_k': u'3', u'_num_kv_servers': u'auto', u'use_bias': u'true', u'num_point_for_scaler': u'10000', u'_log_level': u'info', u'quantile': u'0.5', u'bias_lr_mult': u'auto', u'lr_scheduler_step': u'auto', u'init_method': u'uniform', u'init_sigma': u'0.01', u'lr_scheduler_minimum_lr': u'auto', u'target_recall': u'0.8', u'num_models': u'auto', u'early_stopping_patience': u'3', u'momentum': u'auto', u'unbias_label': u'auto', u'wd': u'auto', u'optimizer': u'auto', u'_tuning_objective_metric': u'', u'early_stopping_tolerance': u'0.001', u'learning_rate': u'auto', u'_kvstore': u'auto', u'normalize_data': u'true', u'binary_classifier_model_selection_criteria': u'accuracy', u'use_lr_scheduler': u'true', u'target_precision': u'0.8', u'unbias_data': u'auto', u'init_scale': u'0.07', u'bias_wd_mult': u'auto', u'f_beta': u'1.0', u'mini_batch_size': u'200', u'huber_delta': u'1.0', u'num_classes': u'1', u'predictor_type': u'binary_classifier', u'beta_1': u'auto', u'loss': u'auto', u'beta_2': u'auto', u'_enable_profiler': u'false', u'normalize_label': u'auto', u'_num_gpus': u'auto', u'balance_multiclass_weights': u'false', u'positive_example_weight_mult': u'1.0', u'l1': u'auto', u'margin': u'1.0'}\u001b[0m\n",
      "\u001b[31m[05/27/2019 18:17:12 WARNING 139622264776512] Loggers have already been setup.\u001b[0m\n",
      "\u001b[31mProcess 1 is a worker.\u001b[0m\n",
      "\u001b[31m[05/27/2019 18:17:12 INFO 139622264776512] Using default worker.\u001b[0m\n",
      "\u001b[31m[2019-05-27 18:17:12.802] [tensorio] [info] batch={\"data_pipeline\": \"/opt/ml/input/data/train\", \"num_examples\": 200, \"features\": [{\"name\": \"label_values\", \"shape\": [1], \"storage_type\": \"dense\"}, {\"name\": \"values\", \"shape\": [30], \"storage_type\": \"dense\"}]}\u001b[0m\n",
      "\u001b[31m[2019-05-27 18:17:12.804] [tensorio] [warning] TensorIO is already initialized; ignoring the initialization routine.\u001b[0m\n",
      "\u001b[31m[2019-05-27 18:17:12.805] [tensorio] [info] batch={\"data_pipeline\": \"/opt/ml/input/data/validation\", \"num_examples\": 200, \"features\": [{\"name\": \"label_values\", \"shape\": [1], \"storage_type\": \"dense\"}, {\"name\": \"values\", \"shape\": [30], \"storage_type\": \"dense\"}]}\u001b[0m\n",
      "\u001b[31m[2019-05-27 18:17:12.806] [tensorio] [warning] TensorIO is already initialized; ignoring the initialization routine.\u001b[0m\n",
      "\u001b[31m[2019-05-27 18:17:12.807] [tensorio] [info] batch={\"data_pipeline\": \"/opt/ml/input/data/test\", \"num_examples\": 200, \"features\": [{\"name\": \"label_values\", \"shape\": [1], \"storage_type\": \"dense\"}, {\"name\": \"values\", \"shape\": [30], \"storage_type\": \"dense\"}]}\u001b[0m\n",
      "\u001b[31m[2019-05-27 18:17:12.827] [tensorio] [info] data_pipeline_stats={\"name\": \"/opt/ml/input/data/train\", \"epoch\": 0, \"duration\": 25, \"num_examples\": 1}\u001b[0m\n",
      "\u001b[31m[05/27/2019 18:17:12 INFO 139622264776512] Create Store: local\u001b[0m\n",
      "\u001b[31m[2019-05-27 18:17:12.935] [tensorio] [info] data_pipeline_stats={\"name\": \"/opt/ml/input/data/train\", \"epoch\": 1, \"duration\": 107, \"num_examples\": 51}\u001b[0m\n",
      "\u001b[31m[05/27/2019 18:17:12 INFO 139622264776512] Scaler algorithm parameters\n",
      " <algorithm.scaler.ScalerAlgorithmStable object at 0x7efc02516e10>\u001b[0m\n",
      "\u001b[31m[05/27/2019 18:17:12 INFO 139622264776512] Scaling model computed with parameters:\n",
      " {'stdev_weight': \u001b[0m\n",
      "\u001b[31m[ 1.00626385  1.01757693  1.03272784  1.01732874  1.01208103  1.00311601\n",
      "  0.98983431  0.9985137   1.02789021  1.01608527  1.03995633  1.00825548\n",
      "  1.02762902  0.99862647  1.0398854   0.99489808  1.01289761  1.04396105\n",
      "  1.0030781   1.00848842  1.01703393  0.9667992   0.99581301  1.169222\n",
      "  0.99231899  1.01478517  0.99358577  0.93916613  1.02039027  1.05604947]\u001b[0m\n",
      "\u001b[31m<NDArray 30 @cpu(0)>, 'stdev_label': None, 'mean_label': None, 'mean_weight': \u001b[0m\n",
      "\u001b[31m[ 0.00932577 -0.00775839 -0.0095481  -0.00766723  0.00590128 -0.00878337\n",
      " -0.02078074  0.00162163 -0.01129518  0.00012705  0.00221739 -0.00495674\n",
      " -0.00560154 -0.00270091 -0.0184757  -0.00448371  0.00654276 -0.01250902\n",
      "  0.01649304 -0.00313725  0.0191473  -0.02255552 -0.00188227 -0.01037293\n",
      " -0.00577901  0.00044157  0.00528072  0.00733894  0.01015423  0.0157109 ]\u001b[0m\n",
      "\u001b[31m<NDArray 30 @cpu(0)>}\u001b[0m\n",
      "\u001b[31m[05/27/2019 18:17:12 INFO 139622264776512] nvidia-smi took: 0.0251801013947 secs to identify 0 gpus\u001b[0m\n",
      "\u001b[31m[05/27/2019 18:17:12 INFO 139622264776512] Number of GPUs being used: 0\u001b[0m\n",
      "\u001b[31m#metrics {\"Metrics\": {\"Max Batches Seen Between Resets\": {\"count\": 1, \"max\": 51, \"sum\": 51.0, \"min\": 51}, \"Number of Batches Since Last Reset\": {\"count\": 1, \"max\": 0, \"sum\": 0.0, \"min\": 0}, \"Number of Records Since Last Reset\": {\"count\": 1, \"max\": 0, \"sum\": 0.0, \"min\": 0}, \"Total Batches Seen\": {\"count\": 1, \"max\": 52, \"sum\": 52.0, \"min\": 52}, \"Total Records Seen\": {\"count\": 1, \"max\": 10400, \"sum\": 10400.0, \"min\": 10400}, \"Max Records Seen Between Resets\": {\"count\": 1, \"max\": 10200, \"sum\": 10200.0, \"min\": 10200}, \"Reset Count\": {\"count\": 1, \"max\": 2, \"sum\": 2.0, \"min\": 2}}, \"EndTime\": 1558981033.042419, \"Dimensions\": {\"Host\": \"algo-1\", \"Meta\": \"init_train_data_iter\", \"Operation\": \"training\", \"Algorithm\": \"Linear Learner\"}, \"StartTime\": 1558981033.042379}\n",
      "\u001b[0m\n",
      "\n",
      "2019-05-27 18:17:15 Training - Training image download completed. Training in progress.\u001b[31m#metrics {\"Metrics\": {\"train_binary_classification_cross_entropy_objective\": {\"count\": 1, \"max\": 0.035042182733800616, \"sum\": 0.035042182733800616, \"min\": 0.035042182733800616}}, \"EndTime\": 1558981058.823375, \"Dimensions\": {\"model\": 0, \"Host\": \"algo-1\", \"Operation\": \"training\", \"Algorithm\": \"Linear Learner\", \"epoch\": 0}, \"StartTime\": 1558981058.823306}\n",
      "\u001b[0m\n",
      "\u001b[31m#metrics {\"Metrics\": {\"train_binary_classification_cross_entropy_objective\": {\"count\": 1, \"max\": 0.03324377503928971, \"sum\": 0.03324377503928971, \"min\": 0.03324377503928971}}, \"EndTime\": 1558981058.82347, \"Dimensions\": {\"model\": 1, \"Host\": \"algo-1\", \"Operation\": \"training\", \"Algorithm\": \"Linear Learner\", \"epoch\": 0}, \"StartTime\": 1558981058.823456}\n",
      "\u001b[0m\n",
      "\u001b[31m#metrics {\"Metrics\": {\"train_binary_classification_cross_entropy_objective\": {\"count\": 1, \"max\": 0.03497480110822473, \"sum\": 0.03497480110822473, \"min\": 0.03497480110822473}}, \"EndTime\": 1558981058.823532, \"Dimensions\": {\"model\": 2, \"Host\": \"algo-1\", \"Operation\": \"training\", \"Algorithm\": \"Linear Learner\", \"epoch\": 0}, \"StartTime\": 1558981058.823516}\n",
      "\u001b[0m\n",
      "\u001b[31m#metrics {\"Metrics\": {\"train_binary_classification_cross_entropy_objective\": {\"count\": 1, \"max\": 0.03337097215927262, \"sum\": 0.03337097215927262, \"min\": 0.03337097215927262}}, \"EndTime\": 1558981058.823594, \"Dimensions\": {\"model\": 3, \"Host\": \"algo-1\", \"Operation\": \"training\", \"Algorithm\": \"Linear Learner\", \"epoch\": 0}, \"StartTime\": 1558981058.823583}\n",
      "\u001b[0m\n",
      "\u001b[31m#metrics {\"Metrics\": {\"train_binary_classification_cross_entropy_objective\": {\"count\": 1, \"max\": 0.008904869080547747, \"sum\": 0.008904869080547747, \"min\": 0.008904869080547747}}, \"EndTime\": 1558981058.823656, \"Dimensions\": {\"model\": 4, \"Host\": \"algo-1\", \"Operation\": \"training\", \"Algorithm\": \"Linear Learner\", \"epoch\": 0}, \"StartTime\": 1558981058.823638}\n",
      "\u001b[0m\n",
      "\u001b[31m#metrics {\"Metrics\": {\"train_binary_classification_cross_entropy_objective\": {\"count\": 1, \"max\": 0.009999344446755125, \"sum\": 0.009999344446755125, \"min\": 0.009999344446755125}}, \"EndTime\": 1558981058.823717, \"Dimensions\": {\"model\": 5, \"Host\": \"algo-1\", \"Operation\": \"training\", \"Algorithm\": \"Linear Learner\", \"epoch\": 0}, \"StartTime\": 1558981058.823701}\n",
      "\u001b[0m\n",
      "\u001b[31m#metrics {\"Metrics\": {\"train_binary_classification_cross_entropy_objective\": {\"count\": 1, \"max\": 0.008724145068348468, \"sum\": 0.008724145068348468, \"min\": 0.008724145068348468}}, \"EndTime\": 1558981058.823761, \"Dimensions\": {\"model\": 6, \"Host\": \"algo-1\", \"Operation\": \"training\", \"Algorithm\": \"Linear Learner\", \"epoch\": 0}, \"StartTime\": 1558981058.823751}\n",
      "\u001b[0m\n",
      "\u001b[31m#metrics {\"Metrics\": {\"train_binary_classification_cross_entropy_objective\": {\"count\": 1, \"max\": 0.009780231009743, \"sum\": 0.009780231009743, \"min\": 0.009780231009743}}, \"EndTime\": 1558981058.823822, \"Dimensions\": {\"model\": 7, \"Host\": \"algo-1\", \"Operation\": \"training\", \"Algorithm\": \"Linear Learner\", \"epoch\": 0}, \"StartTime\": 1558981058.823806}\n",
      "\u001b[0m\n",
      "\u001b[31m#metrics {\"Metrics\": {\"train_binary_classification_cross_entropy_objective\": {\"count\": 1, \"max\": 0.03523858478773308, \"sum\": 0.03523858478773308, \"min\": 0.03523858478773308}}, \"EndTime\": 1558981058.823886, \"Dimensions\": {\"model\": 8, \"Host\": \"algo-1\", \"Operation\": \"training\", \"Algorithm\": \"Linear Learner\", \"epoch\": 0}, \"StartTime\": 1558981058.82387}\n",
      "\u001b[0m\n",
      "\u001b[31m#metrics {\"Metrics\": {\"train_binary_classification_cross_entropy_objective\": {\"count\": 1, \"max\": 0.03358502932882466, \"sum\": 0.03358502932882466, \"min\": 0.03358502932882466}}, \"EndTime\": 1558981058.823946, \"Dimensions\": {\"model\": 9, \"Host\": \"algo-1\", \"Operation\": \"training\", \"Algorithm\": \"Linear Learner\", \"epoch\": 0}, \"StartTime\": 1558981058.823929}\n",
      "\u001b[0m\n",
      "\u001b[31m#metrics {\"Metrics\": {\"train_binary_classification_cross_entropy_objective\": {\"count\": 1, \"max\": 0.03525163798379322, \"sum\": 0.03525163798379322, \"min\": 0.03525163798379322}}, \"EndTime\": 1558981058.824004, \"Dimensions\": {\"model\": 10, \"Host\": \"algo-1\", \"Operation\": \"training\", \"Algorithm\": \"Linear Learner\", \"epoch\": 0}, \"StartTime\": 1558981058.823988}\n",
      "\u001b[0m\n",
      "\u001b[31m#metrics {\"Metrics\": {\"train_binary_classification_cross_entropy_objective\": {\"count\": 1, \"max\": 0.03361195614714785, \"sum\": 0.03361195614714785, \"min\": 0.03361195614714785}}, \"EndTime\": 1558981058.824073, \"Dimensions\": {\"model\": 11, \"Host\": \"algo-1\", \"Operation\": \"training\", \"Algorithm\": \"Linear Learner\", \"epoch\": 0}, \"StartTime\": 1558981058.824055}\n",
      "\u001b[0m\n",
      "\u001b[31m#metrics {\"Metrics\": {\"train_binary_classification_cross_entropy_objective\": {\"count\": 1, \"max\": 0.008099969816041453, \"sum\": 0.008099969816041453, \"min\": 0.008099969816041453}}, \"EndTime\": 1558981058.824135, \"Dimensions\": {\"model\": 12, \"Host\": \"algo-1\", \"Operation\": \"training\", \"Algorithm\": \"Linear Learner\", \"epoch\": 0}, \"StartTime\": 1558981058.824119}\n",
      "\u001b[0m\n",
      "\u001b[31m#metrics {\"Metrics\": {\"train_binary_classification_cross_entropy_objective\": {\"count\": 1, \"max\": 0.00897961814188563, \"sum\": 0.00897961814188563, \"min\": 0.00897961814188563}}, \"EndTime\": 1558981058.824198, \"Dimensions\": {\"model\": 13, \"Host\": \"algo-1\", \"Operation\": \"training\", \"Algorithm\": \"Linear Learner\", \"epoch\": 0}, \"StartTime\": 1558981058.824181}\n",
      "\u001b[0m\n",
      "\u001b[31m#metrics {\"Metrics\": {\"train_binary_classification_cross_entropy_objective\": {\"count\": 1, \"max\": 0.008095943544460736, \"sum\": 0.008095943544460736, \"min\": 0.008095943544460736}}, \"EndTime\": 1558981058.824258, \"Dimensions\": {\"model\": 14, \"Host\": \"algo-1\", \"Operation\": \"training\", \"Algorithm\": \"Linear Learner\", \"epoch\": 0}, \"StartTime\": 1558981058.824242}\n",
      "\u001b[0m\n",
      "\u001b[31m#metrics {\"Metrics\": {\"train_binary_classification_cross_entropy_objective\": {\"count\": 1, \"max\": 0.008987637826080029, \"sum\": 0.008987637826080029, \"min\": 0.008987637826080029}}, \"EndTime\": 1558981058.824319, \"Dimensions\": {\"model\": 15, \"Host\": \"algo-1\", \"Operation\": \"training\", \"Algorithm\": \"Linear Learner\", \"epoch\": 0}, \"StartTime\": 1558981058.824303}\n",
      "\u001b[0m\n",
      "\u001b[31m#metrics {\"Metrics\": {\"train_binary_classification_cross_entropy_objective\": {\"count\": 1, \"max\": 0.0393923131141783, \"sum\": 0.0393923131141783, \"min\": 0.0393923131141783}}, \"EndTime\": 1558981058.824385, \"Dimensions\": {\"model\": 16, \"Host\": \"algo-1\", \"Operation\": \"training\", \"Algorithm\": \"Linear Learner\", \"epoch\": 0}, \"StartTime\": 1558981058.824368}\n",
      "\u001b[0m\n",
      "\u001b[31m#metrics {\"Metrics\": {\"train_binary_classification_cross_entropy_objective\": {\"count\": 1, \"max\": 0.03780380631840975, \"sum\": 0.03780380631840975, \"min\": 0.03780380631840975}}, \"EndTime\": 1558981058.82445, \"Dimensions\": {\"model\": 17, \"Host\": \"algo-1\", \"Operation\": \"training\", \"Algorithm\": \"Linear Learner\", \"epoch\": 0}, \"StartTime\": 1558981058.824435}\n",
      "\u001b[0m\n",
      "\u001b[31m#metrics {\"Metrics\": {\"train_binary_classification_cross_entropy_objective\": {\"count\": 1, \"max\": 0.039315209585016046, \"sum\": 0.039315209585016046, \"min\": 0.039315209585016046}}, \"EndTime\": 1558981058.824513, \"Dimensions\": {\"model\": 18, \"Host\": \"algo-1\", \"Operation\": \"training\", \"Algorithm\": \"Linear Learner\", \"epoch\": 0}, \"StartTime\": 1558981058.824497}\n",
      "\u001b[0m\n",
      "\u001b[31m#metrics {\"Metrics\": {\"train_binary_classification_cross_entropy_objective\": {\"count\": 1, \"max\": 0.037864711892788026, \"sum\": 0.037864711892788026, \"min\": 0.037864711892788026}}, \"EndTime\": 1558981058.824567, \"Dimensions\": {\"model\": 19, \"Host\": \"algo-1\", \"Operation\": \"training\", \"Algorithm\": \"Linear Learner\", \"epoch\": 0}, \"StartTime\": 1558981058.824552}\n",
      "\u001b[0m\n",
      "\u001b[31m#metrics {\"Metrics\": {\"train_binary_classification_cross_entropy_objective\": {\"count\": 1, \"max\": 0.013484113431248392, \"sum\": 0.013484113431248392, \"min\": 0.013484113431248392}}, \"EndTime\": 1558981058.824632, \"Dimensions\": {\"model\": 20, \"Host\": \"algo-1\", \"Operation\": \"training\", \"Algorithm\": \"Linear Learner\", \"epoch\": 0}, \"StartTime\": 1558981058.824617}\n",
      "\u001b[0m\n",
      "\u001b[31m#metrics {\"Metrics\": {\"train_binary_classification_cross_entropy_objective\": {\"count\": 1, \"max\": 0.013421555350291308, \"sum\": 0.013421555350291308, \"min\": 0.013421555350291308}}, \"EndTime\": 1558981058.824696, \"Dimensions\": {\"model\": 21, \"Host\": \"algo-1\", \"Operation\": \"training\", \"Algorithm\": \"Linear Learner\", \"epoch\": 0}, \"StartTime\": 1558981058.82468}\n",
      "\u001b[0m\n",
      "\u001b[31m#metrics {\"Metrics\": {\"train_binary_classification_cross_entropy_objective\": {\"count\": 1, \"max\": 0.013468130315376935, \"sum\": 0.013468130315376935, \"min\": 0.013468130315376935}}, \"EndTime\": 1558981058.824755, \"Dimensions\": {\"model\": 22, \"Host\": \"algo-1\", \"Operation\": \"training\", \"Algorithm\": \"Linear Learner\", \"epoch\": 0}, \"StartTime\": 1558981058.824739}\n",
      "\u001b[0m\n",
      "\u001b[31m#metrics {\"Metrics\": {\"train_binary_classification_cross_entropy_objective\": {\"count\": 1, \"max\": 0.013429803097698301, \"sum\": 0.013429803097698301, \"min\": 0.013429803097698301}}, \"EndTime\": 1558981058.82481, \"Dimensions\": {\"model\": 23, \"Host\": \"algo-1\", \"Operation\": \"training\", \"Algorithm\": \"Linear Learner\", \"epoch\": 0}, \"StartTime\": 1558981058.824799}\n",
      "\u001b[0m\n",
      "\u001b[31m#metrics {\"Metrics\": {\"train_binary_classification_cross_entropy_objective\": {\"count\": 1, \"max\": 0.040180134130427134, \"sum\": 0.040180134130427134, \"min\": 0.040180134130427134}}, \"EndTime\": 1558981058.824864, \"Dimensions\": {\"model\": 24, \"Host\": \"algo-1\", \"Operation\": \"training\", \"Algorithm\": \"Linear Learner\", \"epoch\": 0}, \"StartTime\": 1558981058.824849}\n",
      "\u001b[0m\n",
      "\u001b[31m#metrics {\"Metrics\": {\"train_binary_classification_cross_entropy_objective\": {\"count\": 1, \"max\": 0.038627823330502874, \"sum\": 0.038627823330502874, \"min\": 0.038627823330502874}}, \"EndTime\": 1558981058.82493, \"Dimensions\": {\"model\": 25, \"Host\": \"algo-1\", \"Operation\": \"training\", \"Algorithm\": \"Linear Learner\", \"epoch\": 0}, \"StartTime\": 1558981058.824914}\n",
      "\u001b[0m\n",
      "\u001b[31m#metrics {\"Metrics\": {\"train_binary_classification_cross_entropy_objective\": {\"count\": 1, \"max\": 0.040170867566088814, \"sum\": 0.040170867566088814, \"min\": 0.040170867566088814}}, \"EndTime\": 1558981058.825002, \"Dimensions\": {\"model\": 26, \"Host\": \"algo-1\", \"Operation\": \"training\", \"Algorithm\": \"Linear Learner\", \"epoch\": 0}, \"StartTime\": 1558981058.824985}\n",
      "\u001b[0m\n",
      "\u001b[31m#metrics {\"Metrics\": {\"train_binary_classification_cross_entropy_objective\": {\"count\": 1, \"max\": 0.03867515799602745, \"sum\": 0.03867515799602745, \"min\": 0.03867515799602745}}, \"EndTime\": 1558981058.825071, \"Dimensions\": {\"model\": 27, \"Host\": \"algo-1\", \"Operation\": \"training\", \"Algorithm\": \"Linear Learner\", \"epoch\": 0}, \"StartTime\": 1558981058.825053}\n",
      "\u001b[0m\n",
      "\u001b[31m#metrics {\"Metrics\": {\"train_binary_classification_cross_entropy_objective\": {\"count\": 1, \"max\": 0.014229479587328151, \"sum\": 0.014229479587328151, \"min\": 0.014229479587328151}}, \"EndTime\": 1558981058.825136, \"Dimensions\": {\"model\": 28, \"Host\": \"algo-1\", \"Operation\": \"training\", \"Algorithm\": \"Linear Learner\", \"epoch\": 0}, \"StartTime\": 1558981058.825121}\n",
      "\u001b[0m\n",
      "\u001b[31m#metrics {\"Metrics\": {\"train_binary_classification_cross_entropy_objective\": {\"count\": 1, \"max\": 0.014235581824879042, \"sum\": 0.014235581824879042, \"min\": 0.014235581824879042}}, \"EndTime\": 1558981058.825201, \"Dimensions\": {\"model\": 29, \"Host\": \"algo-1\", \"Operation\": \"training\", \"Algorithm\": \"Linear Learner\", \"epoch\": 0}, \"StartTime\": 1558981058.825185}\n",
      "\u001b[0m\n",
      "\u001b[31m#metrics {\"Metrics\": {\"train_binary_classification_cross_entropy_objective\": {\"count\": 1, \"max\": 0.01425661707889395, \"sum\": 0.01425661707889395, \"min\": 0.01425661707889395}}, \"EndTime\": 1558981058.825266, \"Dimensions\": {\"model\": 30, \"Host\": \"algo-1\", \"Operation\": \"training\", \"Algorithm\": \"Linear Learner\", \"epoch\": 0}, \"StartTime\": 1558981058.825249}\n",
      "\u001b[0m\n",
      "\u001b[31m#metrics {\"Metrics\": {\"train_binary_classification_cross_entropy_objective\": {\"count\": 1, \"max\": 0.014245745974473254, \"sum\": 0.014245745974473254, \"min\": 0.014245745974473254}}, \"EndTime\": 1558981058.825341, \"Dimensions\": {\"model\": 31, \"Host\": \"algo-1\", \"Operation\": \"training\", \"Algorithm\": \"Linear Learner\", \"epoch\": 0}, \"StartTime\": 1558981058.825324}\n",
      "\u001b[0m\n",
      "\u001b[31m[05/27/2019 18:17:38 INFO 139622264776512] #quality_metric: host=algo-1, epoch=0, train binary_classification_cross_entropy_objective <loss>=0.0350421827338\u001b[0m\n",
      "\u001b[31m[2019-05-27 18:17:38.843] [tensorio] [info] data_pipeline_stats={\"name\": \"/opt/ml/input/data/validation\", \"epoch\": 0, \"duration\": 26039, \"num_examples\": 1}\u001b[0m\n",
      "\u001b[31m#metrics {\"Metrics\": {\"validation_binary_classification_cross_entropy_objective\": {\"count\": 1, \"max\": 0.007045744974493996, \"sum\": 0.007045744974493996, \"min\": 0.007045744974493996}}, \"EndTime\": 1558981064.2169, \"Dimensions\": {\"model\": 0, \"Host\": \"algo-1\", \"Operation\": \"training\", \"Algorithm\": \"Linear Learner\", \"epoch\": 0}, \"StartTime\": 1558981064.216822}\n",
      "\u001b[0m\n",
      "\u001b[31m#metrics {\"Metrics\": {\"validation_binary_classification_cross_entropy_objective\": {\"count\": 1, \"max\": 0.005825152562708232, \"sum\": 0.005825152562708232, \"min\": 0.005825152562708232}}, \"EndTime\": 1558981064.216996, \"Dimensions\": {\"model\": 1, \"Host\": \"algo-1\", \"Operation\": \"training\", \"Algorithm\": \"Linear Learner\", \"epoch\": 0}, \"StartTime\": 1558981064.216977}\n",
      "\u001b[0m\n",
      "\u001b[31m#metrics {\"Metrics\": {\"validation_binary_classification_cross_entropy_objective\": {\"count\": 1, \"max\": 0.007042545376075966, \"sum\": 0.007042545376075966, \"min\": 0.007042545376075966}}, \"EndTime\": 1558981064.217058, \"Dimensions\": {\"model\": 2, \"Host\": \"algo-1\", \"Operation\": \"training\", \"Algorithm\": \"Linear Learner\", \"epoch\": 0}, \"StartTime\": 1558981064.217042}\n",
      "\u001b[0m\n",
      "\u001b[31m#metrics {\"Metrics\": {\"validation_binary_classification_cross_entropy_objective\": {\"count\": 1, \"max\": 0.0058395957004164275, \"sum\": 0.0058395957004164275, \"min\": 0.0058395957004164275}}, \"EndTime\": 1558981064.217117, \"Dimensions\": {\"model\": 3, \"Host\": \"algo-1\", \"Operation\": \"training\", \"Algorithm\": \"Linear Learner\", \"epoch\": 0}, \"StartTime\": 1558981064.217101}\n",
      "\u001b[0m\n",
      "\u001b[31m#metrics {\"Metrics\": {\"validation_binary_classification_cross_entropy_objective\": {\"count\": 1, \"max\": 0.006911862187173543, \"sum\": 0.006911862187173543, \"min\": 0.006911862187173543}}, \"EndTime\": 1558981064.21718, \"Dimensions\": {\"model\": 4, \"Host\": \"algo-1\", \"Operation\": \"training\", \"Algorithm\": \"Linear Learner\", \"epoch\": 0}, \"StartTime\": 1558981064.217164}\n",
      "\u001b[0m\n",
      "\u001b[31m#metrics {\"Metrics\": {\"validation_binary_classification_cross_entropy_objective\": {\"count\": 1, \"max\": 0.007718543033895313, \"sum\": 0.007718543033895313, \"min\": 0.007718543033895313}}, \"EndTime\": 1558981064.217236, \"Dimensions\": {\"model\": 5, \"Host\": \"algo-1\", \"Operation\": \"training\", \"Algorithm\": \"Linear Learner\", \"epoch\": 0}, \"StartTime\": 1558981064.217221}\n",
      "\u001b[0m\n",
      "\u001b[31m#metrics {\"Metrics\": {\"validation_binary_classification_cross_entropy_objective\": {\"count\": 1, \"max\": 0.0071611659631498695, \"sum\": 0.0071611659631498695, \"min\": 0.0071611659631498695}}, \"EndTime\": 1558981064.217298, \"Dimensions\": {\"model\": 6, \"Host\": \"algo-1\", \"Operation\": \"training\", \"Algorithm\": \"Linear Learner\", \"epoch\": 0}, \"StartTime\": 1558981064.217284}\n",
      "\u001b[0m\n",
      "\u001b[31m#metrics {\"Metrics\": {\"validation_binary_classification_cross_entropy_objective\": {\"count\": 1, \"max\": 0.00671519308041902, \"sum\": 0.00671519308041902, \"min\": 0.00671519308041902}}, \"EndTime\": 1558981064.217358, \"Dimensions\": {\"model\": 7, \"Host\": \"algo-1\", \"Operation\": \"training\", \"Algorithm\": \"Linear Learner\", \"epoch\": 0}, \"StartTime\": 1558981064.217343}\n",
      "\u001b[0m\n",
      "\u001b[31m#metrics {\"Metrics\": {\"validation_binary_classification_cross_entropy_objective\": {\"count\": 1, \"max\": 0.007167728313083044, \"sum\": 0.007167728313083044, \"min\": 0.007167728313083044}}, \"EndTime\": 1558981064.217413, \"Dimensions\": {\"model\": 8, \"Host\": \"algo-1\", \"Operation\": \"training\", \"Algorithm\": \"Linear Learner\", \"epoch\": 0}, \"StartTime\": 1558981064.217399}\n",
      "\u001b[0m\n",
      "\u001b[31m#metrics {\"Metrics\": {\"validation_binary_classification_cross_entropy_objective\": {\"count\": 1, \"max\": 0.006057004841757538, \"sum\": 0.006057004841757538, \"min\": 0.006057004841757538}}, \"EndTime\": 1558981064.217475, \"Dimensions\": {\"model\": 9, \"Host\": \"algo-1\", \"Operation\": \"training\", \"Algorithm\": \"Linear Learner\", \"epoch\": 0}, \"StartTime\": 1558981064.217459}\n",
      "\u001b[0m\n",
      "\u001b[31m#metrics {\"Metrics\": {\"validation_binary_classification_cross_entropy_objective\": {\"count\": 1, \"max\": 0.007165089534121506, \"sum\": 0.007165089534121506, \"min\": 0.007165089534121506}}, \"EndTime\": 1558981064.217531, \"Dimensions\": {\"model\": 10, \"Host\": \"algo-1\", \"Operation\": \"training\", \"Algorithm\": \"Linear Learner\", \"epoch\": 0}, \"StartTime\": 1558981064.217516}\n",
      "\u001b[0m\n",
      "\u001b[31m#metrics {\"Metrics\": {\"validation_binary_classification_cross_entropy_objective\": {\"count\": 1, \"max\": 0.0060580575774343125, \"sum\": 0.0060580575774343125, \"min\": 0.0060580575774343125}}, \"EndTime\": 1558981064.217595, \"Dimensions\": {\"model\": 11, \"Host\": \"algo-1\", \"Operation\": \"training\", \"Algorithm\": \"Linear Learner\", \"epoch\": 0}, \"StartTime\": 1558981064.21758}\n",
      "\u001b[0m\n",
      "\u001b[31m#metrics {\"Metrics\": {\"validation_binary_classification_cross_entropy_objective\": {\"count\": 1, \"max\": 0.005178696999120078, \"sum\": 0.005178696999120078, \"min\": 0.005178696999120078}}, \"EndTime\": 1558981064.217652, \"Dimensions\": {\"model\": 12, \"Host\": \"algo-1\", \"Operation\": \"training\", \"Algorithm\": \"Linear Learner\", \"epoch\": 0}, \"StartTime\": 1558981064.217638}\n",
      "\u001b[0m\n",
      "\u001b[31m#metrics {\"Metrics\": {\"validation_binary_classification_cross_entropy_objective\": {\"count\": 1, \"max\": 0.005060791081757037, \"sum\": 0.005060791081757037, \"min\": 0.005060791081757037}}, \"EndTime\": 1558981064.217708, \"Dimensions\": {\"model\": 13, \"Host\": \"algo-1\", \"Operation\": \"training\", \"Algorithm\": \"Linear Learner\", \"epoch\": 0}, \"StartTime\": 1558981064.217694}\n",
      "\u001b[0m\n",
      "\u001b[31m#metrics {\"Metrics\": {\"validation_binary_classification_cross_entropy_objective\": {\"count\": 1, \"max\": 0.005189063159373407, \"sum\": 0.005189063159373407, \"min\": 0.005189063159373407}}, \"EndTime\": 1558981064.217763, \"Dimensions\": {\"model\": 14, \"Host\": \"algo-1\", \"Operation\": \"training\", \"Algorithm\": \"Linear Learner\", \"epoch\": 0}, \"StartTime\": 1558981064.217748}\n",
      "\u001b[0m\n",
      "\u001b[31m#metrics {\"Metrics\": {\"validation_binary_classification_cross_entropy_objective\": {\"count\": 1, \"max\": 0.005061176592646075, \"sum\": 0.005061176592646075, \"min\": 0.005061176592646075}}, \"EndTime\": 1558981064.217818, \"Dimensions\": {\"model\": 15, \"Host\": \"algo-1\", \"Operation\": \"training\", \"Algorithm\": \"Linear Learner\", \"epoch\": 0}, \"StartTime\": 1558981064.217804}\n",
      "\u001b[0m\n",
      "\u001b[31m#metrics {\"Metrics\": {\"validation_binary_classification_cross_entropy_objective\": {\"count\": 1, \"max\": 0.012508722075889428, \"sum\": 0.012508722075889428, \"min\": 0.012508722075889428}}, \"EndTime\": 1558981064.217879, \"Dimensions\": {\"model\": 16, \"Host\": \"algo-1\", \"Operation\": \"training\", \"Algorithm\": \"Linear Learner\", \"epoch\": 0}, \"StartTime\": 1558981064.217865}\n",
      "\u001b[0m\n",
      "\u001b[31m#metrics {\"Metrics\": {\"validation_binary_classification_cross_entropy_objective\": {\"count\": 1, \"max\": 0.012525428007543022, \"sum\": 0.012525428007543022, \"min\": 0.012525428007543022}}, \"EndTime\": 1558981064.217942, \"Dimensions\": {\"model\": 17, \"Host\": \"algo-1\", \"Operation\": \"training\", \"Algorithm\": \"Linear Learner\", \"epoch\": 0}, \"StartTime\": 1558981064.217928}\n",
      "\u001b[0m\n",
      "\u001b[31m#metrics {\"Metrics\": {\"validation_binary_classification_cross_entropy_objective\": {\"count\": 1, \"max\": 0.012500121812136458, \"sum\": 0.012500121812136458, \"min\": 0.012500121812136458}}, \"EndTime\": 1558981064.218007, \"Dimensions\": {\"model\": 18, \"Host\": \"algo-1\", \"Operation\": \"training\", \"Algorithm\": \"Linear Learner\", \"epoch\": 0}, \"StartTime\": 1558981064.217992}\n",
      "\u001b[0m\n",
      "\u001b[31m#metrics {\"Metrics\": {\"validation_binary_classification_cross_entropy_objective\": {\"count\": 1, \"max\": 0.012518782692682239, \"sum\": 0.012518782692682239, \"min\": 0.012518782692682239}}, \"EndTime\": 1558981064.218071, \"Dimensions\": {\"model\": 19, \"Host\": \"algo-1\", \"Operation\": \"training\", \"Algorithm\": \"Linear Learner\", \"epoch\": 0}, \"StartTime\": 1558981064.218056}\n",
      "\u001b[0m\n",
      "\u001b[31m#metrics {\"Metrics\": {\"validation_binary_classification_cross_entropy_objective\": {\"count\": 1, \"max\": 0.012189638430605611, \"sum\": 0.012189638430605611, \"min\": 0.012189638430605611}}, \"EndTime\": 1558981064.218128, \"Dimensions\": {\"model\": 20, \"Host\": \"algo-1\", \"Operation\": \"training\", \"Algorithm\": \"Linear Learner\", \"epoch\": 0}, \"StartTime\": 1558981064.218114}\n",
      "\u001b[0m\n",
      "\u001b[31m#metrics {\"Metrics\": {\"validation_binary_classification_cross_entropy_objective\": {\"count\": 1, \"max\": 0.011754476501625331, \"sum\": 0.011754476501625331, \"min\": 0.011754476501625331}}, \"EndTime\": 1558981064.218189, \"Dimensions\": {\"model\": 21, \"Host\": \"algo-1\", \"Operation\": \"training\", \"Algorithm\": \"Linear Learner\", \"epoch\": 0}, \"StartTime\": 1558981064.218178}\n",
      "\u001b[0m\n",
      "\u001b[31m#metrics {\"Metrics\": {\"validation_binary_classification_cross_entropy_objective\": {\"count\": 1, \"max\": 0.01218579194990812, \"sum\": 0.01218579194990812, \"min\": 0.01218579194990812}}, \"EndTime\": 1558981064.218223, \"Dimensions\": {\"model\": 22, \"Host\": \"algo-1\", \"Operation\": \"training\", \"Algorithm\": \"Linear Learner\", \"epoch\": 0}, \"StartTime\": 1558981064.218215}\n",
      "\u001b[0m\n",
      "\u001b[31m#metrics {\"Metrics\": {\"validation_binary_classification_cross_entropy_objective\": {\"count\": 1, \"max\": 0.011776030584250856, \"sum\": 0.011776030584250856, \"min\": 0.011776030584250856}}, \"EndTime\": 1558981064.218253, \"Dimensions\": {\"model\": 23, \"Host\": \"algo-1\", \"Operation\": \"training\", \"Algorithm\": \"Linear Learner\", \"epoch\": 0}, \"StartTime\": 1558981064.218245}\n",
      "\u001b[0m\n",
      "\u001b[31m#metrics {\"Metrics\": {\"validation_binary_classification_cross_entropy_objective\": {\"count\": 1, \"max\": 0.013643288619691054, \"sum\": 0.013643288619691054, \"min\": 0.013643288619691054}}, \"EndTime\": 1558981064.21829, \"Dimensions\": {\"model\": 24, \"Host\": \"algo-1\", \"Operation\": \"training\", \"Algorithm\": \"Linear Learner\", \"epoch\": 0}, \"StartTime\": 1558981064.218281}\n",
      "\u001b[0m\n",
      "\u001b[31m#metrics {\"Metrics\": {\"validation_binary_classification_cross_entropy_objective\": {\"count\": 1, \"max\": 0.012982985548541307, \"sum\": 0.012982985548541307, \"min\": 0.012982985548541307}}, \"EndTime\": 1558981064.218334, \"Dimensions\": {\"model\": 25, \"Host\": \"algo-1\", \"Operation\": \"training\", \"Algorithm\": \"Linear Learner\", \"epoch\": 0}, \"StartTime\": 1558981064.21832}\n",
      "\u001b[0m\n",
      "\u001b[31m#metrics {\"Metrics\": {\"validation_binary_classification_cross_entropy_objective\": {\"count\": 1, \"max\": 0.013637774265226351, \"sum\": 0.013637774265226351, \"min\": 0.013637774265226351}}, \"EndTime\": 1558981064.218379, \"Dimensions\": {\"model\": 26, \"Host\": \"algo-1\", \"Operation\": \"training\", \"Algorithm\": \"Linear Learner\", \"epoch\": 0}, \"StartTime\": 1558981064.21837}\n",
      "\u001b[0m\n",
      "\u001b[31m#metrics {\"Metrics\": {\"validation_binary_classification_cross_entropy_objective\": {\"count\": 1, \"max\": 0.012990236410541917, \"sum\": 0.012990236410541917, \"min\": 0.012990236410541917}}, \"EndTime\": 1558981064.218427, \"Dimensions\": {\"model\": 27, \"Host\": \"algo-1\", \"Operation\": \"training\", \"Algorithm\": \"Linear Learner\", \"epoch\": 0}, \"StartTime\": 1558981064.218413}\n",
      "\u001b[0m\n",
      "\u001b[31m#metrics {\"Metrics\": {\"validation_binary_classification_cross_entropy_objective\": {\"count\": 1, \"max\": 0.01270223405634515, \"sum\": 0.01270223405634515, \"min\": 0.01270223405634515}}, \"EndTime\": 1558981064.218468, \"Dimensions\": {\"model\": 28, \"Host\": \"algo-1\", \"Operation\": \"training\", \"Algorithm\": \"Linear Learner\", \"epoch\": 0}, \"StartTime\": 1558981064.218459}\n",
      "\u001b[0m\n",
      "\u001b[31m#metrics {\"Metrics\": {\"validation_binary_classification_cross_entropy_objective\": {\"count\": 1, \"max\": 0.012708713806309148, \"sum\": 0.012708713806309148, \"min\": 0.012708713806309148}}, \"EndTime\": 1558981064.218503, \"Dimensions\": {\"model\": 29, \"Host\": \"algo-1\", \"Operation\": \"training\", \"Algorithm\": \"Linear Learner\", \"epoch\": 0}, \"StartTime\": 1558981064.218495}\n",
      "\u001b[0m\n",
      "\u001b[31m#metrics {\"Metrics\": {\"validation_binary_classification_cross_entropy_objective\": {\"count\": 1, \"max\": 0.01264909588371813, \"sum\": 0.01264909588371813, \"min\": 0.01264909588371813}}, \"EndTime\": 1558981064.218534, \"Dimensions\": {\"model\": 30, \"Host\": \"algo-1\", \"Operation\": \"training\", \"Algorithm\": \"Linear Learner\", \"epoch\": 0}, \"StartTime\": 1558981064.218526}\n",
      "\u001b[0m\n",
      "\u001b[31m#metrics {\"Metrics\": {\"validation_binary_classification_cross_entropy_objective\": {\"count\": 1, \"max\": 0.012727893353612577, \"sum\": 0.012727893353612577, \"min\": 0.012727893353612577}}, \"EndTime\": 1558981064.218566, \"Dimensions\": {\"model\": 31, \"Host\": \"algo-1\", \"Operation\": \"training\", \"Algorithm\": \"Linear Learner\", \"epoch\": 0}, \"StartTime\": 1558981064.218557}\n",
      "\u001b[0m\n",
      "\u001b[31m[05/27/2019 18:17:44 INFO 139622264776512] #quality_metric: host=algo-1, epoch=0, validation binary_classification_cross_entropy_objective <loss>=0.00704574497449\u001b[0m\n",
      "\u001b[31m[05/27/2019 18:17:44 INFO 139622264776512] #early_stopping_criteria_metric: host=algo-1, epoch=0, criteria=sampled_accuracy, value=0.999517183865\u001b[0m\n",
      "\u001b[31m[05/27/2019 18:17:44 INFO 139622264776512] Epoch 0: Loss improved. Updating best model\u001b[0m\n",
      "\u001b[31m[05/27/2019 18:17:44 INFO 139622264776512] #progress_metric: host=algo-1, completed 100 % of epochs\u001b[0m\n",
      "\u001b[31m#metrics {\"Metrics\": {\"Max Batches Seen Between Resets\": {\"count\": 1, \"max\": 912, \"sum\": 912.0, \"min\": 912}, \"Number of Batches Since Last Reset\": {\"count\": 1, \"max\": 912, \"sum\": 912.0, \"min\": 912}, \"Number of Records Since Last Reset\": {\"count\": 1, \"max\": 182261, \"sum\": 182261.0, \"min\": 182261}, \"Total Batches Seen\": {\"count\": 1, \"max\": 964, \"sum\": 964.0, \"min\": 964}, \"Total Records Seen\": {\"count\": 1, \"max\": 192661, \"sum\": 192661.0, \"min\": 192661}, \"Max Records Seen Between Resets\": {\"count\": 1, \"max\": 182261, \"sum\": 182261.0, \"min\": 182261}, \"Reset Count\": {\"count\": 1, \"max\": 3, \"sum\": 3.0, \"min\": 3}}, \"EndTime\": 1558981064.220127, \"Dimensions\": {\"Host\": \"algo-1\", \"Meta\": \"training_data_iter\", \"Operation\": \"training\", \"Algorithm\": \"Linear Learner\", \"epoch\": 0}, \"StartTime\": 1558981033.042621}\n",
      "\u001b[0m\n",
      "\u001b[31m[05/27/2019 18:17:44 INFO 139622264776512] #throughput_metric: host=algo-1, train throughput=5845.89409002 records/second\u001b[0m\n",
      "\u001b[31m[05/27/2019 18:17:44 WARNING 139622264776512] wait_for_all_workers will not sync workers since the kv store is not running distributed\u001b[0m\n",
      "\u001b[31m[05/27/2019 18:17:44 WARNING 139622264776512] wait_for_all_workers will not sync workers since the kv store is not running distributed\u001b[0m\n",
      "\u001b[31m[2019-05-27 18:17:44.235] [tensorio] [info] data_pipeline_stats={\"name\": \"/opt/ml/input/data/validation\", \"epoch\": 1, \"duration\": 5392, \"num_examples\": 228}\u001b[0m\n",
      "\n",
      "2019-05-27 18:17:57 Uploading - Uploading generated training model\n",
      "2019-05-27 18:17:57 Completed - Training job completed\n",
      "\u001b[31m[05/27/2019 18:17:49 INFO 139622264776512] #early_stopping_criteria_metric: host=algo-1, epoch=0, criteria=sampled_accuracy, value=0.999517183865\u001b[0m\n",
      "\u001b[31m[05/27/2019 18:17:49 INFO 139622264776512] Epoch 0: Loss improved. Updating best model\u001b[0m\n",
      "\u001b[31m[2019-05-27 18:17:49.188] [tensorio] [info] data_pipeline_stats={\"name\": \"/opt/ml/input/data/validation\", \"epoch\": 2, \"duration\": 4952, \"num_examples\": 228}\u001b[0m\n",
      "\u001b[31m[05/27/2019 18:17:49 INFO 139622264776512] #validation_score (algo-1) : ('binary_classification_cross_entropy_objective', 0.0070457449744939964)\u001b[0m\n",
      "\u001b[31m[05/27/2019 18:17:49 INFO 139622264776512] #validation_score (algo-1) : ('binary_classification_accuracy', 0.99949523767721549)\u001b[0m\n",
      "\u001b[31m[05/27/2019 18:17:49 INFO 139622264776512] #validation_score (algo-1) : ('binary_f_1.000', 0.8535031847133758)\u001b[0m\n",
      "\u001b[31m[05/27/2019 18:17:49 INFO 139622264776512] #validation_score (algo-1) : ('precision', 0.8481012658227848)\u001b[0m\n",
      "\u001b[31m[05/27/2019 18:17:49 INFO 139622264776512] #validation_score (algo-1) : ('recall', 0.8589743589743589)\u001b[0m\n",
      "\u001b[31m[05/27/2019 18:17:49 INFO 139622264776512] #quality_metric: host=algo-1, validation binary_classification_cross_entropy_objective <loss>=0.00704574497449\u001b[0m\n",
      "\u001b[31m[05/27/2019 18:17:49 INFO 139622264776512] #quality_metric: host=algo-1, validation binary_classification_accuracy <score>=0.999495237677\u001b[0m\n",
      "\u001b[31m[05/27/2019 18:17:49 INFO 139622264776512] #quality_metric: host=algo-1, validation binary_f_1.000 <score>=0.853503184713\u001b[0m\n",
      "\u001b[31m[05/27/2019 18:17:49 INFO 139622264776512] #quality_metric: host=algo-1, validation precision <score>=0.848101265823\u001b[0m\n",
      "\u001b[31m[05/27/2019 18:17:49 INFO 139622264776512] #quality_metric: host=algo-1, validation recall <score>=0.858974358974\u001b[0m\n",
      "\u001b[31m[05/27/2019 18:17:49 INFO 139622264776512] Best model found for hyperparameters: {\"lr_scheduler_step\": 10, \"wd\": 0.0001, \"optimizer\": \"adam\", \"lr_scheduler_factor\": 0.99, \"l1\": 0.0, \"learning_rate\": 0.005, \"lr_scheduler_minimum_lr\": 1e-05}\u001b[0m\n",
      "\u001b[31m[05/27/2019 18:17:49 INFO 139622264776512] Saved checkpoint to \"/tmp/tmps4c6pZ/mx-mod-0000.params\"\u001b[0m\n",
      "\u001b[31m[2019-05-27 18:17:49.772] [tensorio] [info] data_pipeline_stats={\"name\": \"/opt/ml/input/data/test\", \"epoch\": 0, \"duration\": 36966, \"num_examples\": 1}\u001b[0m\n",
      "\u001b[31m#metrics {\"Metrics\": {\"Max Batches Seen Between Resets\": {\"count\": 1, \"max\": 285, \"sum\": 285.0, \"min\": 285}, \"Number of Batches Since Last Reset\": {\"count\": 1, \"max\": 285, \"sum\": 285.0, \"min\": 285}, \"Number of Records Since Last Reset\": {\"count\": 1, \"max\": 56957, \"sum\": 56957.0, \"min\": 56957}, \"Total Batches Seen\": {\"count\": 1, \"max\": 285, \"sum\": 285.0, \"min\": 285}, \"Total Records Seen\": {\"count\": 1, \"max\": 56957, \"sum\": 56957.0, \"min\": 56957}, \"Max Records Seen Between Resets\": {\"count\": 1, \"max\": 56957, \"sum\": 56957.0, \"min\": 56957}, \"Reset Count\": {\"count\": 1, \"max\": 1, \"sum\": 1.0, \"min\": 1}}, \"EndTime\": 1558981070.43316, \"Dimensions\": {\"Host\": \"algo-1\", \"Meta\": \"test_data_iter\", \"Operation\": \"training\", \"Algorithm\": \"Linear Learner\"}, \"StartTime\": 1558981069.771942}\n",
      "\u001b[0m\n",
      "\u001b[31m[05/27/2019 18:17:50 INFO 139622264776512] #test_score (algo-1) : ('binary_classification_cross_entropy_objective', 0.006737853412198529)\u001b[0m\n",
      "\u001b[31m[05/27/2019 18:17:50 INFO 139622264776512] #test_score (algo-1) : ('binary_classification_accuracy', 0.99931527292518918)\u001b[0m\n",
      "\u001b[31m[05/27/2019 18:17:50 INFO 139622264776512] #test_score (algo-1) : ('binary_f_1.000', 0.7979274611398963)\u001b[0m\n",
      "\u001b[31m[05/27/2019 18:17:50 INFO 139622264776512] #test_score (algo-1) : ('precision', 0.8555555555555555)\u001b[0m\n",
      "\u001b[31m[05/27/2019 18:17:50 INFO 139622264776512] #test_score (algo-1) : ('recall', 0.7475728155339806)\u001b[0m\n",
      "\u001b[31m[05/27/2019 18:17:50 INFO 139622264776512] #quality_metric: host=algo-1, test binary_classification_cross_entropy_objective <loss>=0.0067378534122\u001b[0m\n",
      "\u001b[31m[05/27/2019 18:17:50 INFO 139622264776512] #quality_metric: host=algo-1, test binary_classification_accuracy <score>=0.999315272925\u001b[0m\n",
      "\u001b[31m[05/27/2019 18:17:50 INFO 139622264776512] #quality_metric: host=algo-1, test binary_f_1.000 <score>=0.79792746114\u001b[0m\n",
      "\u001b[31m[05/27/2019 18:17:50 INFO 139622264776512] #quality_metric: host=algo-1, test precision <score>=0.855555555556\u001b[0m\n",
      "\u001b[31m[05/27/2019 18:17:50 INFO 139622264776512] #quality_metric: host=algo-1, test recall <score>=0.747572815534\u001b[0m\n",
      "\u001b[31m[2019-05-27 18:17:50.437] [tensorio] [info] data_pipeline_stats={\"name\": \"/opt/ml/input/data/train\", \"epoch\": 2, \"duration\": 37394, \"num_examples\": 912}\u001b[0m\n",
      "\u001b[31m[2019-05-27 18:17:50.437] [tensorio] [info] data_pipeline_stats={\"name\": \"/opt/ml/input/data/train\", \"duration\": 37526, \"num_epochs\": 3, \"num_examples\": 964}\u001b[0m\n",
      "\u001b[31m[2019-05-27 18:17:50.437] [tensorio] [info] data_pipeline_stats={\"name\": \"/opt/ml/input/data/validation\", \"epoch\": 3, \"duration\": 1248, \"num_examples\": 228}\u001b[0m\n",
      "\u001b[31m[2019-05-27 18:17:50.437] [tensorio] [info] data_pipeline_stats={\"name\": \"/opt/ml/input/data/validation\", \"duration\": 37631, \"num_epochs\": 4, \"num_examples\": 685}\u001b[0m\n",
      "\u001b[31m[2019-05-27 18:17:50.437] [tensorio] [info] data_pipeline_stats={\"name\": \"/opt/ml/input/data/test\", \"epoch\": 1, \"duration\": 664, \"num_examples\": 285}\u001b[0m\n",
      "\u001b[31m[2019-05-27 18:17:50.437] [tensorio] [info] data_pipeline_stats={\"name\": \"/opt/ml/input/data/test\", \"duration\": 37630, \"num_epochs\": 2, \"num_examples\": 286}\u001b[0m\n",
      "\u001b[31m#metrics {\"Metrics\": {\"totaltime\": {\"count\": 1, \"max\": 37717.08583831787, \"sum\": 37717.08583831787, \"min\": 37717.08583831787}, \"finalize.time\": {\"count\": 1, \"max\": 5547.482013702393, \"sum\": 5547.482013702393, \"min\": 5547.482013702393}, \"initialize.time\": {\"count\": 1, \"max\": 233.42084884643555, \"sum\": 233.42084884643555, \"min\": 233.42084884643555}, \"check_early_stopping.time\": {\"count\": 2, \"max\": 0.9210109710693359, \"sum\": 1.6701221466064453, \"min\": 0.7491111755371094}, \"setuptime\": {\"count\": 1, \"max\": 14.836788177490234, \"sum\": 14.836788177490234, \"min\": 14.836788177490234}, \"update.time\": {\"count\": 1, \"max\": 31177.33407020569, \"sum\": 31177.33407020569, \"min\": 31177.33407020569}, \"epochs\": {\"count\": 1, \"max\": 1, \"sum\": 1.0, \"min\": 1}}, \"EndTime\": 1558981070.437685, \"Dimensions\": {\"Host\": \"algo-1\", \"Operation\": \"training\", \"Algorithm\": \"Linear Learner\"}, \"StartTime\": 1558981032.800938}\n",
      "\u001b[0m\n",
      "Billable seconds: 94\n"
     ]
    }
   ],
   "source": [
    "import boto3\n",
    "import sagemaker\n",
    "\n",
    "sess = sagemaker.Session()\n",
    "\n",
    "linear = sagemaker.estimator.Estimator(container,\n",
    "                                       role, \n",
    "                                       train_instance_count=1, \n",
    "                                       train_instance_type='ml.m4.2xlarge',\n",
    "                                       output_path=output_location,\n",
    "                                       sagemaker_session=sess)\n",
    "linear.set_hyperparameters(feature_dim=30,\n",
    "                           predictor_type='binary_classifier',\n",
    "                           epochs = 1,\n",
    "                           mini_batch_size=200)\n",
    "\n",
    "linear.fit({'train': s3_input_train,  'validation': s3_input_validation, 'test': s3_input_test})\n",
    "\n",
    "# train_max_run = 3600,"
   ]
  },
  {
   "cell_type": "code",
   "execution_count": 48,
   "metadata": {},
   "outputs": [
    {
     "data": {
      "text/plain": [
       "'linear-learner-2019-05-27-18-14-32-796'"
      ]
     },
     "execution_count": 48,
     "metadata": {},
     "output_type": "execute_result"
    }
   ],
   "source": [
    "linear._current_job_name"
   ]
  },
  {
   "cell_type": "code",
   "execution_count": 41,
   "metadata": {},
   "outputs": [
    {
     "data": {
      "text/plain": [
       "<sagemaker.model.Model at 0x7f702138a6a0>"
      ]
     },
     "execution_count": 41,
     "metadata": {},
     "output_type": "execute_result"
    }
   ],
   "source": [
    "linearModel = linear.create_model()\n"
   ]
  },
  {
   "cell_type": "code",
   "execution_count": 45,
   "metadata": {},
   "outputs": [],
   "source": [
    "sagemaker = boto3.client('sagemaker')\n",
    "try:\n",
    "    sagemaker.create_model(\n",
    "        ModelName='test1',\n",
    "        PrimaryContainer={\n",
    "            'Image': container,\n",
    "            'ModelDataUrl': 's3://demo-saeed/fraudcredit-local/output/linear-learner-2019-05-27-18-14-32-796/output/model.tar.gz'\n",
    "        },\n",
    "        ExecutionRoleArn=role\n",
    "    )\n",
    "except Exception as e:\n",
    "    print(e)\n",
    "    print('Unable to create model.')\n",
    "    raise(e)"
   ]
  },
  {
   "cell_type": "code",
   "execution_count": 15,
   "metadata": {},
   "outputs": [],
   "source": [
    "container_preprocess = '683313688378.dkr.ecr.us-east-1.amazonaws.com/sagemaker-scikit-learn:0.20.0-cpu-py3'\n"
   ]
  },
  {
   "cell_type": "code",
   "execution_count": 14,
   "metadata": {},
   "outputs": [
    {
     "data": {
      "text/plain": [
       "'382416733822.dkr.ecr.us-east-1.amazonaws.com/linear-learner:1'"
      ]
     },
     "execution_count": 14,
     "metadata": {},
     "output_type": "execute_result"
    }
   ],
   "source": [
    "container"
   ]
  },
  {
   "cell_type": "code",
   "execution_count": 17,
   "metadata": {},
   "outputs": [],
   "source": [
    "sagemaker = boto3.client('sagemaker')\n",
    "response = sagemaker.create_model(\n",
    "    ModelName='pipline3',\n",
    "    Containers=[\n",
    "         {\n",
    "            'Image': container_preprocess,\n",
    "            'ModelDataUrl': 's3://sagemaker-us-east-1-079329190341/sagemaker-scikit-learn-2019-05-24-21-46-34-041/output/model.tar.gz',\n",
    "             'Environment': {\n",
    "                'SAGEMAKER_PROGRAM': 'sklearn_fd_featurizer.py',\n",
    "                'SAGEMAKER_REGION':'us-east-1',\n",
    "                'SAGEMAKER_SUBMIT_DIRECTORY': 's3://sagemaker-us-east-1-079329190341/sagemaker-scikit-learn-2019-05-24-21-46-34-041/source/sourcedir.tar.gz'\n",
    "    \n",
    "            },\n",
    "        },\n",
    "        {\n",
    "            'Image': container,\n",
    "            'ModelDataUrl': 's3://demo-saeed/fraudcredit-local/output/linear-learner-2019-05-27-18-14-32-796/output/model.tar.gz'\n",
    "        }\n",
    "    ],\n",
    "    ExecutionRoleArn=role\n",
    ")"
   ]
  },
  {
   "cell_type": "code",
   "execution_count": 18,
   "metadata": {},
   "outputs": [
    {
     "data": {
      "text/plain": [
       "{'ModelArn': 'arn:aws:sagemaker:us-east-1:079329190341:model/pipline3',\n",
       " 'ResponseMetadata': {'RequestId': '1915559c-7a29-4ca5-ab6e-a7ab7ed2d6d6',\n",
       "  'HTTPStatusCode': 200,\n",
       "  'HTTPHeaders': {'x-amzn-requestid': '1915559c-7a29-4ca5-ab6e-a7ab7ed2d6d6',\n",
       "   'content-type': 'application/x-amz-json-1.1',\n",
       "   'content-length': '70',\n",
       "   'date': 'Tue, 28 May 2019 16:33:16 GMT'},\n",
       "  'RetryAttempts': 0}}"
      ]
     },
     "execution_count": 18,
     "metadata": {},
     "output_type": "execute_result"
    }
   ],
   "source": [
    "response"
   ]
  },
  {
   "cell_type": "code",
   "execution_count": 19,
   "metadata": {},
   "outputs": [],
   "source": [
    "try:\n",
    "        sagemaker.create_endpoint_config(\n",
    "            EndpointConfigName='scikit-est-model-pipline-3',\n",
    "            ProductionVariants=[\n",
    "                {\n",
    "                    'VariantName': 'prod',\n",
    "                    'ModelName': 'pipline3',\n",
    "                    'InitialInstanceCount': 1,\n",
    "                    'InstanceType': 'ml.c4.xlarge'\n",
    "                }\n",
    "            ]\n",
    "        )\n",
    "except Exception as e:\n",
    "        print(e)\n",
    "        print('Unable to create endpoint configuration.')\n",
    "        raise(e)"
   ]
  },
  {
   "cell_type": "code",
   "execution_count": 21,
   "metadata": {},
   "outputs": [],
   "source": [
    "try:\n",
    "        sagemaker.create_endpoint(\n",
    "            EndpointName='scikit-est-model-pipe-inference-1',\n",
    "            EndpointConfigName='scikit-est-model-pipline-3'\n",
    "        )\n",
    "except Exception as e:\n",
    "        print(e)\n",
    "        print('Unable to create endpoint.')\n",
    "        raise(e)"
   ]
  },
  {
   "cell_type": "code",
   "execution_count": 294,
   "metadata": {},
   "outputs": [
    {
     "data": {
      "image/png": "[encoded data removed]",
      "text/plain": [
       "<Figure size 864x360 with 1 Axes>"
      ]
     },
     "metadata": {},
     "output_type": "display_data"
    }
   ],
   "source": []
  },
  {
   "cell_type": "code",
   "execution_count": 201,
   "metadata": {},
   "outputs": [
    {
     "data": {
      "text/plain": [
       "'s3://demo-saeed/fraudcredit-local/output'"
      ]
     },
     "execution_count": 201,
     "metadata": {},
     "output_type": "execute_result"
    }
   ],
   "source": [
    "linear.output_path"
   ]
  },
  {
   "cell_type": "code",
   "execution_count": 203,
   "metadata": {},
   "outputs": [],
   "source": [
    "#linear.deploy(initial_instance_count=1, instance_type='ml.m4.xlarge')\n",
    "linear_predictor = linear.deploy(initial_instance_count=1, instance_type='ml.t2.medium', endpoint_name='aws-linear-learner', update_endpoint=True)\n",
    "\n",
    "\n"
   ]
  },
  {
   "cell_type": "code",
   "execution_count": 9,
   "metadata": {},
   "outputs": [
    {
     "ename": "NameError",
     "evalue": "name 'X_test' is not defined",
     "output_type": "error",
     "traceback": [
      "\u001b[0;31m---------------------------------------------------------------------------\u001b[0m",
      "\u001b[0;31mNameError\u001b[0m                                 Traceback (most recent call last)",
      "\u001b[0;32m<ipython-input-9-5025caa541a0>\u001b[0m in \u001b[0;36m<module>\u001b[0;34m()\u001b[0m\n\u001b[0;32m----> 1\u001b[0;31m \u001b[0mxx\u001b[0m \u001b[0;34m=\u001b[0m\u001b[0mX_test\u001b[0m\u001b[0;34m.\u001b[0m\u001b[0mloc\u001b[0m\u001b[0;34m[\u001b[0m\u001b[0;36m83053\u001b[0m\u001b[0;34m]\u001b[0m\u001b[0;34m\u001b[0m\u001b[0m\n\u001b[0m",
      "\u001b[0;31mNameError\u001b[0m: name 'X_test' is not defined"
     ]
    }
   ],
   "source": [
    "xx =X_test.loc[83053]"
   ]
  },
  {
   "cell_type": "code",
   "execution_count": 8,
   "metadata": {},
   "outputs": [
    {
     "ename": "NameError",
     "evalue": "name 'X_test' is not defined",
     "output_type": "error",
     "traceback": [
      "\u001b[0;31m---------------------------------------------------------------------------\u001b[0m",
      "\u001b[0;31mNameError\u001b[0m                                 Traceback (most recent call last)",
      "\u001b[0;32m<ipython-input-8-0c1cdefd54ea>\u001b[0m in \u001b[0;36m<module>\u001b[0;34m()\u001b[0m\n\u001b[0;32m----> 1\u001b[0;31m \u001b[0mX_test\u001b[0m\u001b[0;34m\u001b[0m\u001b[0m\n\u001b[0m",
      "\u001b[0;31mNameError\u001b[0m: name 'X_test' is not defined"
     ]
    }
   ],
   "source": [
    "X_test"
   ]
  },
  {
   "cell_type": "code",
   "execution_count": 10,
   "metadata": {},
   "outputs": [
    {
     "ename": "NameError",
     "evalue": "name 'X_test' is not defined",
     "output_type": "error",
     "traceback": [
      "\u001b[0;31m---------------------------------------------------------------------------\u001b[0m",
      "\u001b[0;31mNameError\u001b[0m                                 Traceback (most recent call last)",
      "\u001b[0;32m<ipython-input-10-c124e42f15fc>\u001b[0m in \u001b[0;36m<module>\u001b[0;34m()\u001b[0m\n\u001b[0;32m----> 1\u001b[0;31m \u001b[0mX_test\u001b[0m\u001b[0;34m.\u001b[0m\u001b[0mloc\u001b[0m\u001b[0;34m[\u001b[0m\u001b[0;36m83053\u001b[0m\u001b[0;34m]\u001b[0m\u001b[0;34m.\u001b[0m\u001b[0mvalues\u001b[0m\u001b[0;34m\u001b[0m\u001b[0m\n\u001b[0m",
      "\u001b[0;31mNameError\u001b[0m: name 'X_test' is not defined"
     ]
    }
   ],
   "source": [
    "X_test.loc[83053].values"
   ]
  },
  {
   "cell_type": "code",
   "execution_count": 231,
   "metadata": {},
   "outputs": [
    {
     "data": {
      "text/plain": [
       "{'predictions': [{'score': 0.9563339948654175, 'predicted_label': 1.0}]}"
      ]
     },
     "execution_count": 231,
     "metadata": {},
     "output_type": "execute_result"
    }
   ],
   "source": [
    "from sagemaker.predictor import csv_serializer, json_deserializer\n",
    "\n",
    "linear_predictor.content_type = 'text/csv'\n",
    "linear_predictor.serializer = csv_serializer\n",
    "linear_predictor.deserializer = json_deserializer\n",
    "#linear_predictor.predict(X_test.iloc[0])\n",
    "\n",
    "linear_predictor.predict(X_test.loc[83053])"
   ]
  },
  {
   "cell_type": "code",
   "execution_count": 208,
   "metadata": {},
   "outputs": [
    {
     "data": {
      "text/plain": [
       "'aws-linear-learner'"
      ]
     },
     "execution_count": 208,
     "metadata": {},
     "output_type": "execute_result"
    }
   ],
   "source": []
  },
  {
   "cell_type": "code",
   "execution_count": null,
   "metadata": {},
   "outputs": [],
   "source": []
  },
  {
   "cell_type": "code",
   "execution_count": 209,
   "metadata": {},
   "outputs": [
    {
     "name": "stdout",
     "output_type": "stream",
     "text": [
      "{'ResponseMetadata': {'RequestId': 'c4f995d6-db76-4473-bbb3-02254f7a4491', 'HTTPStatusCode': 200, 'HTTPHeaders': {'x-amzn-requestid': 'c4f995d6-db76-4473-bbb3-02254f7a4491', 'x-amzn-invoked-production-variant': 'AllTraffic', 'date': 'Wed, 22 May 2019 13:47:03 GMT', 'content-type': 'application/json', 'content-length': '73'}, 'RetryAttempts': 0}, 'ContentType': 'application/json', 'InvokedProductionVariant': 'AllTraffic', 'Body': <botocore.response.StreamingBody object at 0x7ff5d6227908>}\n",
      "{'predictions': [{'score': 0.11748139560222626, 'predicted_label': 0.0}]}\n"
     ]
    }
   ],
   "source": [
    "input_Data = \",\".join( map( str, X_test.iloc[0] ) )\n",
    "input_Data\n",
    "\n",
    "import io\n",
    "import boto3\n",
    "import json\n",
    "import csv\n",
    "\n",
    "# grab environment variables\n",
    "ENDPOINT_NAME = 'aws-linear-learner'\n",
    "runtime= boto3.client('runtime.sagemaker')\n",
    "\n",
    "input_Data = \",\".join( map( str, X_test.iloc[0] ) )\n",
    "response = runtime.invoke_endpoint(EndpointName=ENDPOINT_NAME,\n",
    "                                   ContentType='text/csv',\n",
    "                                   Body=input_Data)\n",
    "print(response)\n",
    "result = json.loads(response['Body'].read().decode())\n",
    "print(result)\n"
   ]
  },
  {
   "cell_type": "code",
   "execution_count": null,
   "metadata": {},
   "outputs": [],
   "source": []
  }
 ],
 "metadata": {
  "kernelspec": {
   "display_name": "conda_python3",
   "language": "python",
   "name": "conda_python3"
  },
  "language_info": {
   "codemirror_mode": {
    "name": "ipython",
    "version": 3
   },
   "file_extension": ".py",
   "mimetype": "text/x-python",
   "name": "python",
   "nbconvert_exporter": "python",
   "pygments_lexer": "ipython3",
   "version": "3.6.5"
  }
 },
 "nbformat": 4,
 "nbformat_minor": 2
}
