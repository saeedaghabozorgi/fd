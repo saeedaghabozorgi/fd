{
 "cells": [
  {
   "cell_type": "markdown",
   "metadata": {},
   "source": [
    "# Inference Pipeline with Scikit-learn and Linear Learner\n",
    "Typically a Machine Learning (ML) process consists of few steps: data gathering with various ETL jobs, pre-processing the data, featurizing the dataset by incorporating standard techniques or prior knowledge, and finally training an ML model using an algorithm. \n",
    "In many cases, when the trained model is used for processing real time or batch prediction requests, the model receives data in a format which needs to pre-processed (e.g. featurized) before it can be passed to the algorithm. In the following notebook, we will demonstrate how you can build your ML Pipeline leveraging the Sagemaker Scikit-learn container and SageMaker Linear Learner algorithm & after the model is trained, deploy the Pipeline (Data preprocessing and Lineara Learner) as an Inference Pipeline behind a single Endpoint for real time inference and for batch inferences using Amazon SageMaker Batch Transform.\n",
    "\n",
    "We will demonstrate this using the Abalone Dataset to guess the age of Abalone with physical features. The dataset is available from [UCI Machine Learning](https://archive.ics.uci.edu/ml/datasets/abalone); the aim for this task is to determine age of an Abalone (a kind of shellfish) from its physical measurements. We'll use Sagemaker's Scikit-learn container to featurize the dataset so that it can be used for training with Linear Learner.\n",
    "\n",
    "### Table of contents\n",
    "* [Preprocessing data and training the model](#training)\n",
    " * [Upload the data for training](#upload_data)\n",
    " * [Create a Scikit-learn script to train with](#create_sklearn_script)\n",
    " * [Create SageMaker Scikit Estimator](#create_sklearn_estimator)\n",
    " * [Batch transform our training data](#preprocess_train_data)\n",
    " * [Fit a LinearLearner Model with the preprocessed data](#training_model)\n",
    "* [Inference Pipeline with Scikit preprocessor and Linear Learner](#inference_pipeline)\n",
    " * [Set up the inference pipeline](#pipeline_setup)\n",
    " * [Make a request to our pipeline endpoint](#pipeline_inference_request)\n",
    " * [Delete Endpoint](#delete_endpoint)"
   ]
  },
  {
   "cell_type": "markdown",
   "metadata": {},
   "source": [
    "Let's first create our Sagemaker session and role, and create a S3 prefix to use for the notebook example."
   ]
  },
  {
   "cell_type": "code",
   "execution_count": 260,
   "metadata": {},
   "outputs": [],
   "source": [
    "import boto3, re, sys, math, json, os, sagemaker, urllib.request\n",
    "from sagemaker import get_execution_role\n",
    "import numpy as np                                \n",
    "import pandas as pd                               \n",
    "import matplotlib.pyplot as plt                   \n",
    "from IPython.display import Image                 \n",
    "from IPython.display import display               \n",
    "from time import gmtime, strftime                 \n",
    "from sagemaker.predictor import csv_serializer   \n",
    "import io\n",
    "import time\n",
    "import json\n",
    "import sagemaker.amazon.common as smac\n",
    "%matplotlib inline"
   ]
  },
  {
   "cell_type": "code",
   "execution_count": 261,
   "metadata": {},
   "outputs": [],
   "source": [
    "# S3 prefix\n",
    "bucket_name = 'demo-saeed'\n",
    "prefix = 'fraudcredit-pipeline'\n",
    "\n",
    "import sagemaker\n",
    "from sagemaker import get_execution_role\n",
    "\n",
    "sagemaker_session = sagemaker.Session()\n",
    "\n",
    "# Get a SageMaker-compatible role used by this Notebook Instance.\n",
    "role = get_execution_role()"
   ]
  },
  {
   "cell_type": "markdown",
   "metadata": {},
   "source": [
    "# Preprocessing data and training the model <a class=\"anchor\" id=\"training\"></a>\n"
   ]
  },
  {
   "cell_type": "code",
   "execution_count": 262,
   "metadata": {},
   "outputs": [
    {
     "data": {
      "text/plain": [
       "{'DataSource': {'S3DataSource': {'S3DataDistributionType': 'FullyReplicated',\n",
       "   'S3DataType': 'S3Prefix',\n",
       "   'S3Uri': 's3://demo-saeed/fraudcredit-pipeline/raw'}}}"
      ]
     },
     "execution_count": 262,
     "metadata": {},
     "output_type": "execute_result"
    }
   ],
   "source": [
    "s3_input_train = sagemaker.s3_input(s3_data='s3://{}/{}/raw'.format(bucket_name, prefix))\n",
    "s3_input_train.config"
   ]
  },
  {
   "cell_type": "markdown",
   "metadata": {},
   "source": [
    "## Create SageMaker Scikit Estimator <a class=\"anchor\" id=\"create_sklearn_estimator\"></a>\n",
    "\n",
    "To run our Scikit-learn training script on SageMaker, we construct a `sagemaker.sklearn.estimator.sklearn` estimator, which accepts several constructor arguments:\n",
    "\n",
    "* __entry_point__: The path to the Python script SageMaker runs for training and prediction.\n",
    "* __role__: Role ARN\n",
    "* __train_instance_type__ *(optional)*: The type of SageMaker instances for training. __Note__: Because Scikit-learn does not natively support GPU training, Sagemaker Scikit-learn does not currently support training on GPU instance types.\n",
    "* __sagemaker_session__ *(optional)*: The session used to train on Sagemaker.\n",
    "\n",
    "To see the code for the SKLearn Estimator, see here: https://github.com/aws/sagemaker-python-sdk/tree/master/src/sagemaker/sklearn"
   ]
  },
  {
   "cell_type": "code",
   "execution_count": 263,
   "metadata": {},
   "outputs": [],
   "source": [
    "from sagemaker.sklearn.estimator import SKLearn\n",
    "\n",
    "script_path = 'sklearn_fd_featurizer.py'\n",
    "\n",
    "sklearn_preprocessor = SKLearn(\n",
    "    entry_point=script_path,\n",
    "    role=role,\n",
    "    train_instance_type=\"ml.c4.xlarge\",\n",
    "    output_path='s3://{}/{}/output/'.format(bucket_name, prefix),\n",
    "    #code_location='s3://<path-to-code_location>', read locally from notebook\n",
    "    sagemaker_session=sagemaker_session)\n",
    "\n",
    "\n"
   ]
  },
  {
   "cell_type": "code",
   "execution_count": 264,
   "metadata": {},
   "outputs": [
    {
     "name": "stdout",
     "output_type": "stream",
     "text": [
      "2019-05-29 17:51:24 Starting - Starting the training job...\n",
      "2019-05-29 17:51:27 Starting - Launching requested ML instances......\n",
      "2019-05-29 17:52:36 Starting - Preparing the instances for training...\n",
      "2019-05-29 17:53:20 Downloading - Downloading input data...\n",
      "2019-05-29 17:53:35 Training - Downloading the training image..\n",
      "\u001b[31m2019-05-29 17:54:00,208 sagemaker-containers INFO     Imported framework sagemaker_sklearn_container.training\u001b[0m\n",
      "\u001b[31m2019-05-29 17:54:00,211 sagemaker-containers INFO     No GPUs detected (normal if no gpus installed)\u001b[0m\n",
      "\u001b[31m2019-05-29 17:54:00,222 sagemaker_sklearn_container.training INFO     Invoking user training script.\u001b[0m\n",
      "\u001b[31m2019-05-29 17:54:00,479 sagemaker-containers INFO     Module sklearn_fd_featurizer does not provide a setup.py. \u001b[0m\n",
      "\u001b[31mGenerating setup.py\u001b[0m\n",
      "\u001b[31m2019-05-29 17:54:00,479 sagemaker-containers INFO     Generating setup.cfg\u001b[0m\n",
      "\u001b[31m2019-05-29 17:54:00,479 sagemaker-containers INFO     Generating MANIFEST.in\u001b[0m\n",
      "\u001b[31m2019-05-29 17:54:00,480 sagemaker-containers INFO     Installing module with the following command:\u001b[0m\n",
      "\u001b[31m/usr/bin/python3 -m pip install -U . \u001b[0m\n",
      "\u001b[31mProcessing /opt/ml/code\u001b[0m\n",
      "\u001b[31mBuilding wheels for collected packages: sklearn-fd-featurizer\n",
      "  Running setup.py bdist_wheel for sklearn-fd-featurizer: started\n",
      "  Running setup.py bdist_wheel for sklearn-fd-featurizer: finished with status 'done'\n",
      "  Stored in directory: /tmp/pip-ephem-wheel-cache-t9nuza2b/wheels/35/24/16/37574d11bf9bde50616c67372a334f94fa8356bc7164af8ca3\u001b[0m\n",
      "\u001b[31mSuccessfully built sklearn-fd-featurizer\u001b[0m\n",
      "\u001b[31mInstalling collected packages: sklearn-fd-featurizer\u001b[0m\n",
      "\u001b[31mSuccessfully installed sklearn-fd-featurizer-1.0.0\u001b[0m\n",
      "\u001b[31mYou are using pip version 18.1, however version 19.1.1 is available.\u001b[0m\n",
      "\u001b[31mYou should consider upgrading via the 'pip install --upgrade pip' command.\u001b[0m\n",
      "\u001b[31m2019-05-29 17:54:01,779 sagemaker-containers INFO     No GPUs detected (normal if no gpus installed)\u001b[0m\n",
      "\u001b[31m2019-05-29 17:54:01,791 sagemaker-containers INFO     Invoking user script\n",
      "\u001b[0m\n",
      "\u001b[31mTraining Env:\n",
      "\u001b[0m\n",
      "\u001b[31m{\n",
      "    \"input_data_config\": {\n",
      "        \"train\": {\n",
      "            \"RecordWrapperType\": \"None\",\n",
      "            \"S3DistributionType\": \"FullyReplicated\",\n",
      "            \"TrainingInputMode\": \"File\"\n",
      "        }\n",
      "    },\n",
      "    \"hyperparameters\": {},\n",
      "    \"num_cpus\": 4,\n",
      "    \"log_level\": 20,\n",
      "    \"input_config_dir\": \"/opt/ml/input/config\",\n",
      "    \"output_data_dir\": \"/opt/ml/output/data\",\n",
      "    \"user_entry_point\": \"sklearn_fd_featurizer.py\",\n",
      "    \"output_intermediate_dir\": \"/opt/ml/output/intermediate\",\n",
      "    \"framework_module\": \"sagemaker_sklearn_container.training:main\",\n",
      "    \"network_interface_name\": \"ethwe\",\n",
      "    \"current_host\": \"algo-1\",\n",
      "    \"channel_input_dirs\": {\n",
      "        \"train\": \"/opt/ml/input/data/train\"\n",
      "    },\n",
      "    \"input_dir\": \"/opt/ml/input\",\n",
      "    \"resource_config\": {\n",
      "        \"network_interface_name\": \"ethwe\",\n",
      "        \"hosts\": [\n",
      "            \"algo-1\"\n",
      "        ],\n",
      "        \"current_host\": \"algo-1\"\n",
      "    },\n",
      "    \"job_name\": \"sagemaker-scikit-learn-2019-05-29-17-51-23-865\",\n",
      "    \"output_dir\": \"/opt/ml/output\",\n",
      "    \"num_gpus\": 0,\n",
      "    \"model_dir\": \"/opt/ml/model\",\n",
      "    \"module_dir\": \"s3://demo-saeed/sagemaker-scikit-learn-2019-05-29-17-51-23-865/source/sourcedir.tar.gz\",\n",
      "    \"module_name\": \"sklearn_fd_featurizer\",\n",
      "    \"hosts\": [\n",
      "        \"algo-1\"\n",
      "    ],\n",
      "    \"additional_framework_parameters\": {}\u001b[0m\n",
      "\u001b[31m}\n",
      "\u001b[0m\n",
      "\u001b[31mEnvironment variables:\n",
      "\u001b[0m\n",
      "\u001b[31mSM_OUTPUT_DATA_DIR=/opt/ml/output/data\u001b[0m\n",
      "\u001b[31mSM_MODULE_DIR=s3://demo-saeed/sagemaker-scikit-learn-2019-05-29-17-51-23-865/source/sourcedir.tar.gz\u001b[0m\n",
      "\u001b[31mSM_OUTPUT_INTERMEDIATE_DIR=/opt/ml/output/intermediate\u001b[0m\n",
      "\u001b[31mSM_USER_ENTRY_POINT=sklearn_fd_featurizer.py\u001b[0m\n",
      "\u001b[31mSM_USER_ARGS=[]\u001b[0m\n",
      "\u001b[31mSM_OUTPUT_DIR=/opt/ml/output\u001b[0m\n",
      "\u001b[31mSM_MODEL_DIR=/opt/ml/model\u001b[0m\n",
      "\u001b[31mSM_NUM_CPUS=4\u001b[0m\n",
      "\u001b[31mSM_INPUT_CONFIG_DIR=/opt/ml/input/config\u001b[0m\n",
      "\u001b[31mSM_INPUT_DIR=/opt/ml/input\u001b[0m\n",
      "\u001b[31mSM_FRAMEWORK_MODULE=sagemaker_sklearn_container.training:main\u001b[0m\n",
      "\u001b[31mSM_TRAINING_ENV={\"additional_framework_parameters\":{},\"channel_input_dirs\":{\"train\":\"/opt/ml/input/data/train\"},\"current_host\":\"algo-1\",\"framework_module\":\"sagemaker_sklearn_container.training:main\",\"hosts\":[\"algo-1\"],\"hyperparameters\":{},\"input_config_dir\":\"/opt/ml/input/config\",\"input_data_config\":{\"train\":{\"RecordWrapperType\":\"None\",\"S3DistributionType\":\"FullyReplicated\",\"TrainingInputMode\":\"File\"}},\"input_dir\":\"/opt/ml/input\",\"job_name\":\"sagemaker-scikit-learn-2019-05-29-17-51-23-865\",\"log_level\":20,\"model_dir\":\"/opt/ml/model\",\"module_dir\":\"s3://demo-saeed/sagemaker-scikit-learn-2019-05-29-17-51-23-865/source/sourcedir.tar.gz\",\"module_name\":\"sklearn_fd_featurizer\",\"network_interface_name\":\"ethwe\",\"num_cpus\":4,\"num_gpus\":0,\"output_data_dir\":\"/opt/ml/output/data\",\"output_dir\":\"/opt/ml/output\",\"output_intermediate_dir\":\"/opt/ml/output/intermediate\",\"resource_config\":{\"current_host\":\"algo-1\",\"hosts\":[\"algo-1\"],\"network_interface_name\":\"ethwe\"},\"user_entry_point\":\"sklearn_fd_featurizer.py\"}\u001b[0m\n",
      "\u001b[31mPYTHONPATH=/usr/local/bin:/usr/lib/python35.zip:/usr/lib/python3.5:/usr/lib/python3.5/plat-x86_64-linux-gnu:/usr/lib/python3.5/lib-dynload:/usr/local/lib/python3.5/dist-packages:/usr/lib/python3/dist-packages\u001b[0m\n",
      "\u001b[31mSM_CHANNELS=[\"train\"]\u001b[0m\n",
      "\u001b[31mSM_RESOURCE_CONFIG={\"current_host\":\"algo-1\",\"hosts\":[\"algo-1\"],\"network_interface_name\":\"ethwe\"}\u001b[0m\n",
      "\u001b[31mSM_CURRENT_HOST=algo-1\u001b[0m\n",
      "\u001b[31mSM_HOSTS=[\"algo-1\"]\u001b[0m\n",
      "\u001b[31mSM_HPS={}\u001b[0m\n",
      "\u001b[31mSM_CHANNEL_TRAIN=/opt/ml/input/data/train\u001b[0m\n",
      "\u001b[31mSM_NETWORK_INTERFACE_NAME=ethwe\u001b[0m\n",
      "\u001b[31mSM_NUM_GPUS=0\u001b[0m\n",
      "\u001b[31mSM_FRAMEWORK_PARAMS={}\u001b[0m\n",
      "\u001b[31mSM_LOG_LEVEL=20\u001b[0m\n",
      "\u001b[31mSM_MODULE_NAME=sklearn_fd_featurizer\u001b[0m\n",
      "\u001b[31mSM_INPUT_DATA_CONFIG={\"train\":{\"RecordWrapperType\":\"None\",\"S3DistributionType\":\"FullyReplicated\",\"TrainingInputMode\":\"File\"}}\n",
      "\u001b[0m\n",
      "\u001b[31mInvoking script with the following command:\n",
      "\u001b[0m\n",
      "\u001b[31m/usr/bin/python3 -m sklearn_fd_featurizer\n",
      "\n",
      "\u001b[0m\n",
      "\u001b[31msaved model!\u001b[0m\n",
      "\u001b[31m2019-05-29 17:54:07,651 sagemaker-containers INFO     Reporting training SUCCESS\u001b[0m\n",
      "\n",
      "2019-05-29 17:54:15 Uploading - Uploading generated training model\n",
      "2019-05-29 17:54:15 Completed - Training job completed\n",
      "Billable seconds: 55\n"
     ]
    }
   ],
   "source": [
    "sklearn_preprocessor.fit({'train': s3_input_train})"
   ]
  },
  {
   "cell_type": "code",
   "execution_count": 265,
   "metadata": {},
   "outputs": [
    {
     "data": {
      "text/plain": [
       "'s3://demo-saeed/fraudcredit-pipeline/output/sagemaker-scikit-learn-2019-05-29-17-51-23-865/output/model.tar.gz'"
      ]
     },
     "execution_count": 265,
     "metadata": {},
     "output_type": "execute_result"
    }
   ],
   "source": [
    "sklearn_preprocessor.model_data"
   ]
  },
  {
   "cell_type": "code",
   "execution_count": 266,
   "metadata": {},
   "outputs": [
    {
     "data": {
      "text/plain": [
       "UserCode(s3_prefix='s3://demo-saeed/sagemaker-scikit-learn-2019-05-29-17-51-23-865/source/sourcedir.tar.gz', script_name='sklearn_fd_featurizer.py')"
      ]
     },
     "execution_count": 266,
     "metadata": {},
     "output_type": "execute_result"
    }
   ],
   "source": [
    "sklearn_preprocessor.uploaded_code"
   ]
  },
  {
   "cell_type": "markdown",
   "metadata": {},
   "source": [
    "## Batch transform our training data <a class=\"anchor\" id=\"preprocess_train_data\"></a>\n",
    "Now that our proprocessor is properly fitted, let's go ahead and preprocess our training data. Let's use batch transform to directly preprocess the raw data and store right back into s3."
   ]
  },
  {
   "cell_type": "code",
   "execution_count": 267,
   "metadata": {},
   "outputs": [],
   "source": [
    "# Define a SKLearn Transformer from the trained SKLearn Estimator\n",
    "transformer = sklearn_preprocessor.transformer(\n",
    "    instance_count=1, \n",
    "    instance_type='ml.m4.xlarge',\n",
    "    assemble_with = 'Line',\n",
    "    output_path = 's3://{}/{}/transformer_output/'.format(bucket_name, prefix),\n",
    "    accept = 'text/csv')"
   ]
  },
  {
   "cell_type": "code",
   "execution_count": 268,
   "metadata": {},
   "outputs": [
    {
     "data": {
      "text/plain": [
       "'s3://demo-saeed/fraudcredit-pipeline/raw'"
      ]
     },
     "execution_count": 268,
     "metadata": {},
     "output_type": "execute_result"
    }
   ],
   "source": [
    "s3_input_train.config['DataSource']['S3DataSource']['S3Uri']"
   ]
  },
  {
   "cell_type": "code",
   "execution_count": 269,
   "metadata": {},
   "outputs": [
    {
     "data": {
      "text/plain": [
       "'s3://demo-saeed/fraudcredit-pipeline/transformer_output/'"
      ]
     },
     "execution_count": 269,
     "metadata": {},
     "output_type": "execute_result"
    }
   ],
   "source": [
    "transformer.output_path"
   ]
  },
  {
   "cell_type": "code",
   "execution_count": 270,
   "metadata": {},
   "outputs": [
    {
     "name": "stdout",
     "output_type": "stream",
     "text": [
      "Waiting for transform job: sagemaker-scikit-learn-2019-05-29-17-54-36-543\n",
      ".............................................!\n"
     ]
    },
    {
     "data": {
      "text/plain": [
       "'s3://demo-saeed/fraudcredit-pipeline/transformer_output/'"
      ]
     },
     "execution_count": 270,
     "metadata": {},
     "output_type": "execute_result"
    }
   ],
   "source": [
    "# Preprocess training input\n",
    "transformer.transform(s3_input_train.config['DataSource']['S3DataSource']['S3Uri'], content_type='text/csv', split_type='Line')\n",
    "print('Waiting for transform job: ' + transformer.latest_transform_job.job_name)\n",
    "transformer.wait()\n",
    "preprocessed_train = transformer.output_path\n",
    "preprocessed_train"
   ]
  },
  {
   "cell_type": "markdown",
   "metadata": {},
   "source": [
    "## Fit a LinearLearner Model with the preprocessed data <a class=\"anchor\" id=\"training_model\"></a>\n",
    "Let's take the preprocessed training data and fit a LinearLearner Model. Sagemaker provides prebuilt algorithm containers that can be used with the Python SDK. The previous Scikit-learn job preprocessed the raw Titanic dataset into labeled, useable data that we can now use to fit a binary classifier Linear Learner model.\n",
    "\n",
    "For more on Linear Learner see: https://docs.aws.amazon.com/sagemaker/latest/dg/linear-learner.html"
   ]
  },
  {
   "cell_type": "code",
   "execution_count": 271,
   "metadata": {},
   "outputs": [
    {
     "data": {
      "text/html": [
       "<div>\n",
       "<style scoped>\n",
       "    .dataframe tbody tr th:only-of-type {\n",
       "        vertical-align: middle;\n",
       "    }\n",
       "\n",
       "    .dataframe tbody tr th {\n",
       "        vertical-align: top;\n",
       "    }\n",
       "\n",
       "    .dataframe thead th {\n",
       "        text-align: right;\n",
       "    }\n",
       "</style>\n",
       "<table border=\"1\" class=\"dataframe\">\n",
       "  <thead>\n",
       "    <tr style=\"text-align: right;\">\n",
       "      <th></th>\n",
       "      <th>0</th>\n",
       "      <th>1</th>\n",
       "      <th>2</th>\n",
       "      <th>3</th>\n",
       "      <th>4</th>\n",
       "      <th>5</th>\n",
       "      <th>6</th>\n",
       "      <th>7</th>\n",
       "      <th>8</th>\n",
       "      <th>9</th>\n",
       "      <th>...</th>\n",
       "      <th>21</th>\n",
       "      <th>22</th>\n",
       "      <th>23</th>\n",
       "      <th>24</th>\n",
       "      <th>25</th>\n",
       "      <th>26</th>\n",
       "      <th>27</th>\n",
       "      <th>28</th>\n",
       "      <th>29</th>\n",
       "      <th>30</th>\n",
       "    </tr>\n",
       "  </thead>\n",
       "  <tbody>\n",
       "    <tr>\n",
       "      <th>0</th>\n",
       "      <td>0.0</td>\n",
       "      <td>-1.996583</td>\n",
       "      <td>-0.694242</td>\n",
       "      <td>-0.044075</td>\n",
       "      <td>1.672773</td>\n",
       "      <td>0.973366</td>\n",
       "      <td>-0.245117</td>\n",
       "      <td>0.347068</td>\n",
       "      <td>0.193679</td>\n",
       "      <td>0.082637</td>\n",
       "      <td>...</td>\n",
       "      <td>0.326118</td>\n",
       "      <td>-0.024923</td>\n",
       "      <td>0.382854</td>\n",
       "      <td>-0.176911</td>\n",
       "      <td>0.110507</td>\n",
       "      <td>0.246585</td>\n",
       "      <td>-0.392170</td>\n",
       "      <td>0.330892</td>\n",
       "      <td>-0.063781</td>\n",
       "      <td>0.244964</td>\n",
       "    </tr>\n",
       "    <tr>\n",
       "      <th>1</th>\n",
       "      <td>0.0</td>\n",
       "      <td>-1.996583</td>\n",
       "      <td>0.608496</td>\n",
       "      <td>0.161176</td>\n",
       "      <td>0.109797</td>\n",
       "      <td>0.316523</td>\n",
       "      <td>0.043483</td>\n",
       "      <td>-0.061820</td>\n",
       "      <td>-0.063700</td>\n",
       "      <td>0.071253</td>\n",
       "      <td>...</td>\n",
       "      <td>-0.089611</td>\n",
       "      <td>-0.307377</td>\n",
       "      <td>-0.880077</td>\n",
       "      <td>0.162201</td>\n",
       "      <td>-0.561131</td>\n",
       "      <td>0.320694</td>\n",
       "      <td>0.261069</td>\n",
       "      <td>-0.022256</td>\n",
       "      <td>0.044608</td>\n",
       "      <td>-0.342475</td>\n",
       "    </tr>\n",
       "    <tr>\n",
       "      <th>2</th>\n",
       "      <td>0.0</td>\n",
       "      <td>-1.996562</td>\n",
       "      <td>-0.693500</td>\n",
       "      <td>-0.811578</td>\n",
       "      <td>1.169468</td>\n",
       "      <td>0.268231</td>\n",
       "      <td>-0.364572</td>\n",
       "      <td>1.351454</td>\n",
       "      <td>0.639776</td>\n",
       "      <td>0.207373</td>\n",
       "      <td>...</td>\n",
       "      <td>0.680975</td>\n",
       "      <td>0.337632</td>\n",
       "      <td>1.063358</td>\n",
       "      <td>1.456320</td>\n",
       "      <td>-1.138092</td>\n",
       "      <td>-0.628537</td>\n",
       "      <td>-0.288447</td>\n",
       "      <td>-0.137137</td>\n",
       "      <td>-0.181021</td>\n",
       "      <td>1.160686</td>\n",
       "    </tr>\n",
       "    <tr>\n",
       "      <th>3</th>\n",
       "      <td>0.0</td>\n",
       "      <td>-1.996562</td>\n",
       "      <td>-0.493325</td>\n",
       "      <td>-0.112169</td>\n",
       "      <td>1.182516</td>\n",
       "      <td>-0.609727</td>\n",
       "      <td>-0.007469</td>\n",
       "      <td>0.936150</td>\n",
       "      <td>0.192071</td>\n",
       "      <td>0.316018</td>\n",
       "      <td>...</td>\n",
       "      <td>-0.269855</td>\n",
       "      <td>-0.147443</td>\n",
       "      <td>0.007267</td>\n",
       "      <td>-0.304777</td>\n",
       "      <td>-1.941027</td>\n",
       "      <td>1.241904</td>\n",
       "      <td>-0.460217</td>\n",
       "      <td>0.155396</td>\n",
       "      <td>0.186189</td>\n",
       "      <td>0.140534</td>\n",
       "    </tr>\n",
       "    <tr>\n",
       "      <th>4</th>\n",
       "      <td>0.0</td>\n",
       "      <td>-1.996541</td>\n",
       "      <td>-0.591330</td>\n",
       "      <td>0.531541</td>\n",
       "      <td>1.021412</td>\n",
       "      <td>0.284655</td>\n",
       "      <td>-0.295015</td>\n",
       "      <td>0.071999</td>\n",
       "      <td>0.479302</td>\n",
       "      <td>-0.226510</td>\n",
       "      <td>...</td>\n",
       "      <td>0.529939</td>\n",
       "      <td>-0.012839</td>\n",
       "      <td>1.100011</td>\n",
       "      <td>-0.220123</td>\n",
       "      <td>0.233250</td>\n",
       "      <td>-0.395202</td>\n",
       "      <td>1.041611</td>\n",
       "      <td>0.543620</td>\n",
       "      <td>0.651816</td>\n",
       "      <td>-0.073403</td>\n",
       "    </tr>\n",
       "  </tbody>\n",
       "</table>\n",
       "<p>5 rows × 31 columns</p>\n",
       "</div>"
      ],
      "text/plain": [
       "    0         1         2         3         4         5         6         7   \\\n",
       "0  0.0 -1.996583 -0.694242 -0.044075  1.672773  0.973366 -0.245117  0.347068   \n",
       "1  0.0 -1.996583  0.608496  0.161176  0.109797  0.316523  0.043483 -0.061820   \n",
       "2  0.0 -1.996562 -0.693500 -0.811578  1.169468  0.268231 -0.364572  1.351454   \n",
       "3  0.0 -1.996562 -0.493325 -0.112169  1.182516 -0.609727 -0.007469  0.936150   \n",
       "4  0.0 -1.996541 -0.591330  0.531541  1.021412  0.284655 -0.295015  0.071999   \n",
       "\n",
       "         8         9     ...           21        22        23        24  \\\n",
       "0  0.193679  0.082637    ...     0.326118 -0.024923  0.382854 -0.176911   \n",
       "1 -0.063700  0.071253    ...    -0.089611 -0.307377 -0.880077  0.162201   \n",
       "2  0.639776  0.207373    ...     0.680975  0.337632  1.063358  1.456320   \n",
       "3  0.192071  0.316018    ...    -0.269855 -0.147443  0.007267 -0.304777   \n",
       "4  0.479302 -0.226510    ...     0.529939 -0.012839  1.100011 -0.220123   \n",
       "\n",
       "         25        26        27        28        29        30  \n",
       "0  0.110507  0.246585 -0.392170  0.330892 -0.063781  0.244964  \n",
       "1 -0.561131  0.320694  0.261069 -0.022256  0.044608 -0.342475  \n",
       "2 -1.138092 -0.628537 -0.288447 -0.137137 -0.181021  1.160686  \n",
       "3 -1.941027  1.241904 -0.460217  0.155396  0.186189  0.140534  \n",
       "4  0.233250 -0.395202  1.041611  0.543620  0.651816 -0.073403  \n",
       "\n",
       "[5 rows x 31 columns]"
      ]
     },
     "execution_count": 271,
     "metadata": {},
     "output_type": "execute_result"
    }
   ],
   "source": [
    "import pandas as pd\n",
    "data_location = 's3://demo-saeed/fraudcredit-pipeline/transformer_output/creditcard.csv.out'\n",
    "\n",
    "data = pd.read_csv(data_location, header=None)\n",
    "data.head()"
   ]
  },
  {
   "cell_type": "code",
   "execution_count": 272,
   "metadata": {},
   "outputs": [],
   "source": [
    "X = data.iloc[:, 1:]\n",
    "y = data.loc[:, 0]"
   ]
  },
  {
   "cell_type": "code",
   "execution_count": 273,
   "metadata": {},
   "outputs": [
    {
     "name": "stdout",
     "output_type": "stream",
     "text": [
      "Number transactions train dataset:  182261\n",
      "Number transactions Validation dataset:  45566\n",
      "Number transactions test dataset:  56957\n",
      "Total number of transactions:  284784\n"
     ]
    }
   ],
   "source": [
    "from sklearn.model_selection import train_test_split\n",
    "\n",
    "# Whole dataset\n",
    "X_train, X_test, y_train, y_test = train_test_split(X,y,test_size = 0.2, random_state = 0)\n",
    "\n",
    "X_train, X_val, y_train, y_val = train_test_split(X_train,y_train,test_size = 0.2 ,random_state = 0)\n",
    "\n",
    "print(\"Number transactions train dataset: \", len(X_train))\n",
    "print(\"Number transactions Validation dataset: \", len(X_val))\n",
    "print(\"Number transactions test dataset: \", len(X_test))\n",
    "print(\"Total number of transactions: \", len(X_train)+len(X_val)+len(X_test))\n",
    "\n",
    "\n"
   ]
  },
  {
   "cell_type": "markdown",
   "metadata": {},
   "source": [
    "### Upload training set"
   ]
  },
  {
   "cell_type": "code",
   "execution_count": 274,
   "metadata": {},
   "outputs": [
    {
     "data": {
      "text/plain": [
       "{'DataSource': {'S3DataSource': {'S3DataDistributionType': 'FullyReplicated',\n",
       "   'S3DataType': 'S3Prefix',\n",
       "   'S3Uri': 's3://demo-saeed/fraudcredit-pipeline/model_train'}}}"
      ]
     },
     "execution_count": 274,
     "metadata": {},
     "output_type": "execute_result"
    }
   ],
   "source": [
    "f = io.BytesIO()\n",
    "smac.write_numpy_to_dense_tensor(f, X_train.values.astype('float32'), y_train.values.reshape(-1).astype('float32'))\n",
    "f.seek(0)\n",
    "boto3.Session().resource('s3').Bucket(bucket_name).Object(os.path.join(prefix, 'model_train','linear_train.data')).upload_fileobj(f)\n",
    "s3_input_train = sagemaker.s3_input(s3_data='s3://{}/{}/model_train'.format(bucket_name, prefix))\n",
    "s3_input_train.config"
   ]
  },
  {
   "cell_type": "markdown",
   "metadata": {},
   "source": [
    "### Upload validation set"
   ]
  },
  {
   "cell_type": "code",
   "execution_count": 275,
   "metadata": {},
   "outputs": [
    {
     "data": {
      "text/plain": [
       "{'DataSource': {'S3DataSource': {'S3DataDistributionType': 'FullyReplicated',\n",
       "   'S3DataType': 'S3Prefix',\n",
       "   'S3Uri': 's3://demo-saeed/fraudcredit-pipeline/model_validation'}}}"
      ]
     },
     "execution_count": 275,
     "metadata": {},
     "output_type": "execute_result"
    }
   ],
   "source": [
    "f = io.BytesIO()\n",
    "smac.write_numpy_to_dense_tensor(f, X_val.values.astype('float32'), y_val.values.reshape(-1).astype('float32'))\n",
    "f.seek(0)\n",
    "boto3.Session().resource('s3').Bucket(bucket_name).Object(os.path.join(prefix, 'model_validation','linear_val.data')).upload_fileobj(f)\n",
    "s3_input_validation = sagemaker.s3_input(s3_data='s3://{}/{}/model_validation'.format(bucket_name, prefix))\n",
    "s3_input_validation.config\n"
   ]
  },
  {
   "cell_type": "markdown",
   "metadata": {},
   "source": [
    "### Upload test set\n"
   ]
  },
  {
   "cell_type": "code",
   "execution_count": 276,
   "metadata": {},
   "outputs": [
    {
     "data": {
      "text/plain": [
       "{'DataSource': {'S3DataSource': {'S3DataDistributionType': 'FullyReplicated',\n",
       "   'S3DataType': 'S3Prefix',\n",
       "   'S3Uri': 's3://demo-saeed/fraudcredit-pipeline/model_test'}}}"
      ]
     },
     "execution_count": 276,
     "metadata": {},
     "output_type": "execute_result"
    }
   ],
   "source": [
    "test_file = 'linear_test.data'\n",
    "\n",
    "f = io.BytesIO()\n",
    "smac.write_numpy_to_dense_tensor(f, X_test.values.astype('float32'), y_test.values.reshape(-1).astype('float32'))\n",
    "f.seek(0)\n",
    "\n",
    "boto3.Session().resource('s3').Bucket(bucket_name).Object(os.path.join(prefix, 'model_test',test_file)).upload_fileobj(f)\n",
    "s3_input_test = sagemaker.s3_input(s3_data='s3://{}/{}/model_test'.format(bucket_name, prefix))\n",
    "s3_input_test.config"
   ]
  },
  {
   "cell_type": "markdown",
   "metadata": {},
   "source": [
    "# training"
   ]
  },
  {
   "cell_type": "code",
   "execution_count": 277,
   "metadata": {},
   "outputs": [
    {
     "data": {
      "text/plain": [
       "'382416733822.dkr.ecr.us-east-1.amazonaws.com/linear-learner:1'"
      ]
     },
     "execution_count": 277,
     "metadata": {},
     "output_type": "execute_result"
    }
   ],
   "source": [
    "from sagemaker.amazon.amazon_estimator import get_image_uri\n",
    "container = get_image_uri(boto3.Session().region_name, 'linear-learner')\n",
    "container"
   ]
  },
  {
   "cell_type": "code",
   "execution_count": 278,
   "metadata": {},
   "outputs": [
    {
     "name": "stdout",
     "output_type": "stream",
     "text": [
      "training artifacts will be uploaded to: s3://demo-saeed/fraudcredit-pipeline/model_output\n"
     ]
    }
   ],
   "source": [
    "output_location = 's3://{}/{}/model_output'.format(bucket_name, prefix)\n",
    "print('training artifacts will be uploaded to: {}'.format(output_location))"
   ]
  },
  {
   "cell_type": "code",
   "execution_count": 279,
   "metadata": {},
   "outputs": [
    {
     "data": {
      "text/plain": [
       "(182261, 30)"
      ]
     },
     "execution_count": 279,
     "metadata": {},
     "output_type": "execute_result"
    }
   ],
   "source": [
    "X_train.shape"
   ]
  },
  {
   "cell_type": "code",
   "execution_count": 280,
   "metadata": {},
   "outputs": [
    {
     "name": "stdout",
     "output_type": "stream",
     "text": [
      "2019-05-29 17:59:34 Starting - Starting the training job...\n",
      "2019-05-29 17:59:38 Starting - Launching requested ML instances......\n",
      "2019-05-29 18:00:51 Starting - Preparing the instances for training......\n",
      "2019-05-29 18:01:40 Downloading - Downloading input data...\n",
      "2019-05-29 18:02:22 Training - Training image download completed. Training in progress.\n",
      "\u001b[31mDocker entrypoint called with argument(s): train\u001b[0m\n",
      "\u001b[31m[05/29/2019 18:02:24 INFO 139624350349120] Reading default configuration from /opt/amazon/lib/python2.7/site-packages/algorithm/default-input.json: {u'loss_insensitivity': u'0.01', u'epochs': u'15', u'init_bias': u'0.0', u'lr_scheduler_factor': u'auto', u'num_calibration_samples': u'10000000', u'accuracy_top_k': u'3', u'_num_kv_servers': u'auto', u'use_bias': u'true', u'num_point_for_scaler': u'10000', u'_log_level': u'info', u'quantile': u'0.5', u'bias_lr_mult': u'auto', u'lr_scheduler_step': u'auto', u'init_method': u'uniform', u'init_sigma': u'0.01', u'lr_scheduler_minimum_lr': u'auto', u'target_recall': u'0.8', u'num_models': u'auto', u'early_stopping_patience': u'3', u'momentum': u'auto', u'unbias_label': u'auto', u'wd': u'auto', u'optimizer': u'auto', u'_tuning_objective_metric': u'', u'early_stopping_tolerance': u'0.001', u'learning_rate': u'auto', u'_kvstore': u'auto', u'normalize_data': u'true', u'binary_classifier_model_selection_criteria': u'accuracy', u'use_lr_scheduler': u'true', u'target_precision': u'0.8', u'unbias_data': u'auto', u'init_scale': u'0.07', u'bias_wd_mult': u'auto', u'f_beta': u'1.0', u'mini_batch_size': u'1000', u'huber_delta': u'1.0', u'num_classes': u'1', u'beta_1': u'auto', u'loss': u'auto', u'beta_2': u'auto', u'_enable_profiler': u'false', u'normalize_label': u'auto', u'_num_gpus': u'auto', u'balance_multiclass_weights': u'false', u'positive_example_weight_mult': u'1.0', u'l1': u'auto', u'margin': u'1.0'}\u001b[0m\n",
      "\u001b[31m[05/29/2019 18:02:24 INFO 139624350349120] Reading provided configuration from /opt/ml/input/config/hyperparameters.json: {u'epochs': u'1', u'feature_dim': u'30', u'mini_batch_size': u'200', u'predictor_type': u'binary_classifier'}\u001b[0m\n",
      "\u001b[31m[05/29/2019 18:02:24 INFO 139624350349120] Final configuration: {u'loss_insensitivity': u'0.01', u'epochs': u'1', u'feature_dim': u'30', u'init_bias': u'0.0', u'lr_scheduler_factor': u'auto', u'num_calibration_samples': u'10000000', u'accuracy_top_k': u'3', u'_num_kv_servers': u'auto', u'use_bias': u'true', u'num_point_for_scaler': u'10000', u'_log_level': u'info', u'quantile': u'0.5', u'bias_lr_mult': u'auto', u'lr_scheduler_step': u'auto', u'init_method': u'uniform', u'init_sigma': u'0.01', u'lr_scheduler_minimum_lr': u'auto', u'target_recall': u'0.8', u'num_models': u'auto', u'early_stopping_patience': u'3', u'momentum': u'auto', u'unbias_label': u'auto', u'wd': u'auto', u'optimizer': u'auto', u'_tuning_objective_metric': u'', u'early_stopping_tolerance': u'0.001', u'learning_rate': u'auto', u'_kvstore': u'auto', u'normalize_data': u'true', u'binary_classifier_model_selection_criteria': u'accuracy', u'use_lr_scheduler': u'true', u'target_precision': u'0.8', u'unbias_data': u'auto', u'init_scale': u'0.07', u'bias_wd_mult': u'auto', u'f_beta': u'1.0', u'mini_batch_size': u'200', u'huber_delta': u'1.0', u'num_classes': u'1', u'predictor_type': u'binary_classifier', u'beta_1': u'auto', u'loss': u'auto', u'beta_2': u'auto', u'_enable_profiler': u'false', u'normalize_label': u'auto', u'_num_gpus': u'auto', u'balance_multiclass_weights': u'false', u'positive_example_weight_mult': u'1.0', u'l1': u'auto', u'margin': u'1.0'}\u001b[0m\n",
      "\u001b[31m[05/29/2019 18:02:24 WARNING 139624350349120] Loggers have already been setup.\u001b[0m\n",
      "\u001b[31mProcess 1 is a worker.\u001b[0m\n",
      "\u001b[31m[05/29/2019 18:02:24 INFO 139624350349120] Using default worker.\u001b[0m\n",
      "\u001b[31m[2019-05-29 18:02:25.016] [tensorio] [info] batch={\"data_pipeline\": \"/opt/ml/input/data/train\", \"num_examples\": 200, \"features\": [{\"name\": \"label_values\", \"shape\": [1], \"storage_type\": \"dense\"}, {\"name\": \"values\", \"shape\": [30], \"storage_type\": \"dense\"}]}\u001b[0m\n",
      "\u001b[31m[2019-05-29 18:02:25.017] [tensorio] [warning] TensorIO is already initialized; ignoring the initialization routine.\u001b[0m\n",
      "\u001b[31m[2019-05-29 18:02:25.018] [tensorio] [info] batch={\"data_pipeline\": \"/opt/ml/input/data/validation\", \"num_examples\": 200, \"features\": [{\"name\": \"label_values\", \"shape\": [1], \"storage_type\": \"dense\"}, {\"name\": \"values\", \"shape\": [30], \"storage_type\": \"dense\"}]}\u001b[0m\n",
      "\u001b[31m[2019-05-29 18:02:25.019] [tensorio] [warning] TensorIO is already initialized; ignoring the initialization routine.\u001b[0m\n",
      "\u001b[31m[2019-05-29 18:02:25.021] [tensorio] [info] batch={\"data_pipeline\": \"/opt/ml/input/data/test\", \"num_examples\": 200, \"features\": [{\"name\": \"label_values\", \"shape\": [1], \"storage_type\": \"dense\"}, {\"name\": \"values\", \"shape\": [30], \"storage_type\": \"dense\"}]}\u001b[0m\n",
      "\u001b[31m[2019-05-29 18:02:25.046] [tensorio] [info] data_pipeline_stats={\"name\": \"/opt/ml/input/data/train\", \"epoch\": 0, \"duration\": 30, \"num_examples\": 1}\u001b[0m\n",
      "\u001b[31m[05/29/2019 18:02:25 INFO 139624350349120] Create Store: local\u001b[0m\n",
      "\u001b[31m[2019-05-29 18:02:25.153] [tensorio] [info] data_pipeline_stats={\"name\": \"/opt/ml/input/data/train\", \"epoch\": 1, \"duration\": 106, \"num_examples\": 51}\u001b[0m\n",
      "\u001b[31m[05/29/2019 18:02:25 INFO 139624350349120] Scaler algorithm parameters\n",
      " <algorithm.scaler.ScalerAlgorithmStable object at 0x7efc72a0ee10>\u001b[0m\n",
      "\u001b[31m[05/29/2019 18:02:25 INFO 139624350349120] Scaling model computed with parameters:\n",
      " {'stdev_weight': \u001b[0m\n",
      "\u001b[31m[ 1.00626385  1.01757693  1.03272784  1.01732874  1.01208103  1.00311601\n",
      "  0.98983431  0.9985137   1.02789021  1.01608527  1.03995633  1.00825548\n",
      "  1.02762902  0.99862647  1.0398854   0.99489808  1.01289761  1.04396105\n",
      "  1.0030781   1.00848842  1.01703393  0.9667992   0.99581301  1.169222\n",
      "  0.99231899  1.01478517  0.99358577  0.93916613  1.02039027  1.05604947]\u001b[0m\n",
      "\u001b[31m<NDArray 30 @cpu(0)>, 'stdev_label': None, 'mean_label': None, 'mean_weight': \u001b[0m\n",
      "\u001b[31m[ 0.00932577 -0.00775839 -0.0095481  -0.00766723  0.00590128 -0.00878337\n",
      " -0.02078074  0.00162163 -0.01129518  0.00012705  0.00221739 -0.00495674\n",
      " -0.00560154 -0.00270091 -0.0184757  -0.00448371  0.00654276 -0.01250902\n",
      "  0.01649304 -0.00313725  0.0191473  -0.02255552 -0.00188227 -0.01037293\n",
      " -0.00577901  0.00044157  0.00528072  0.00733894  0.01015423  0.0157109 ]\u001b[0m\n",
      "\u001b[31m<NDArray 30 @cpu(0)>}\u001b[0m\n",
      "\u001b[31m[05/29/2019 18:02:25 INFO 139624350349120] nvidia-smi took: 0.025171995163 secs to identify 0 gpus\u001b[0m\n",
      "\u001b[31m[05/29/2019 18:02:25 INFO 139624350349120] Number of GPUs being used: 0\u001b[0m\n",
      "\u001b[31m#metrics {\"Metrics\": {\"Max Batches Seen Between Resets\": {\"count\": 1, \"max\": 51, \"sum\": 51.0, \"min\": 51}, \"Number of Batches Since Last Reset\": {\"count\": 1, \"max\": 0, \"sum\": 0.0, \"min\": 0}, \"Number of Records Since Last Reset\": {\"count\": 1, \"max\": 0, \"sum\": 0.0, \"min\": 0}, \"Total Batches Seen\": {\"count\": 1, \"max\": 52, \"sum\": 52.0, \"min\": 52}, \"Total Records Seen\": {\"count\": 1, \"max\": 10400, \"sum\": 10400.0, \"min\": 10400}, \"Max Records Seen Between Resets\": {\"count\": 1, \"max\": 10200, \"sum\": 10200.0, \"min\": 10200}, \"Reset Count\": {\"count\": 1, \"max\": 2, \"sum\": 2.0, \"min\": 2}}, \"EndTime\": 1559152945.255038, \"Dimensions\": {\"Host\": \"algo-1\", \"Meta\": \"init_train_data_iter\", \"Operation\": \"training\", \"Algorithm\": \"Linear Learner\"}, \"StartTime\": 1559152945.254999}\n",
      "\u001b[0m\n",
      "\n",
      "2019-05-29 18:03:03 Uploading - Uploading generated training model\u001b[31m#metrics {\"Metrics\": {\"train_binary_classification_cross_entropy_objective\": {\"count\": 1, \"max\": 0.035042182733800616, \"sum\": 0.035042182733800616, \"min\": 0.035042182733800616}}, \"EndTime\": 1559152970.906888, \"Dimensions\": {\"model\": 0, \"Host\": \"algo-1\", \"Operation\": \"training\", \"Algorithm\": \"Linear Learner\", \"epoch\": 0}, \"StartTime\": 1559152970.906818}\n",
      "\u001b[0m\n",
      "\u001b[31m#metrics {\"Metrics\": {\"train_binary_classification_cross_entropy_objective\": {\"count\": 1, \"max\": 0.03324377503928971, \"sum\": 0.03324377503928971, \"min\": 0.03324377503928971}}, \"EndTime\": 1559152970.906982, \"Dimensions\": {\"model\": 1, \"Host\": \"algo-1\", \"Operation\": \"training\", \"Algorithm\": \"Linear Learner\", \"epoch\": 0}, \"StartTime\": 1559152970.906966}\n",
      "\u001b[0m\n",
      "\u001b[31m#metrics {\"Metrics\": {\"train_binary_classification_cross_entropy_objective\": {\"count\": 1, \"max\": 0.03497480110822473, \"sum\": 0.03497480110822473, \"min\": 0.03497480110822473}}, \"EndTime\": 1559152970.907032, \"Dimensions\": {\"model\": 2, \"Host\": \"algo-1\", \"Operation\": \"training\", \"Algorithm\": \"Linear Learner\", \"epoch\": 0}, \"StartTime\": 1559152970.907017}\n",
      "\u001b[0m\n",
      "\u001b[31m#metrics {\"Metrics\": {\"train_binary_classification_cross_entropy_objective\": {\"count\": 1, \"max\": 0.03337097215927262, \"sum\": 0.03337097215927262, \"min\": 0.03337097215927262}}, \"EndTime\": 1559152970.907099, \"Dimensions\": {\"model\": 3, \"Host\": \"algo-1\", \"Operation\": \"training\", \"Algorithm\": \"Linear Learner\", \"epoch\": 0}, \"StartTime\": 1559152970.907083}\n",
      "\u001b[0m\n",
      "\u001b[31m#metrics {\"Metrics\": {\"train_binary_classification_cross_entropy_objective\": {\"count\": 1, \"max\": 0.008904869080547747, \"sum\": 0.008904869080547747, \"min\": 0.008904869080547747}}, \"EndTime\": 1559152970.907162, \"Dimensions\": {\"model\": 4, \"Host\": \"algo-1\", \"Operation\": \"training\", \"Algorithm\": \"Linear Learner\", \"epoch\": 0}, \"StartTime\": 1559152970.907147}\n",
      "\u001b[0m\n",
      "\u001b[31m#metrics {\"Metrics\": {\"train_binary_classification_cross_entropy_objective\": {\"count\": 1, \"max\": 0.009999344446755125, \"sum\": 0.009999344446755125, \"min\": 0.009999344446755125}}, \"EndTime\": 1559152970.907224, \"Dimensions\": {\"model\": 5, \"Host\": \"algo-1\", \"Operation\": \"training\", \"Algorithm\": \"Linear Learner\", \"epoch\": 0}, \"StartTime\": 1559152970.907207}\n",
      "\u001b[0m\n",
      "\u001b[31m#metrics {\"Metrics\": {\"train_binary_classification_cross_entropy_objective\": {\"count\": 1, \"max\": 0.008724145068348468, \"sum\": 0.008724145068348468, \"min\": 0.008724145068348468}}, \"EndTime\": 1559152970.907295, \"Dimensions\": {\"model\": 6, \"Host\": \"algo-1\", \"Operation\": \"training\", \"Algorithm\": \"Linear Learner\", \"epoch\": 0}, \"StartTime\": 1559152970.907277}\n",
      "\u001b[0m\n",
      "\u001b[31m#metrics {\"Metrics\": {\"train_binary_classification_cross_entropy_objective\": {\"count\": 1, \"max\": 0.009780231009743, \"sum\": 0.009780231009743, \"min\": 0.009780231009743}}, \"EndTime\": 1559152970.907363, \"Dimensions\": {\"model\": 7, \"Host\": \"algo-1\", \"Operation\": \"training\", \"Algorithm\": \"Linear Learner\", \"epoch\": 0}, \"StartTime\": 1559152970.907346}\n",
      "\u001b[0m\n",
      "\u001b[31m#metrics {\"Metrics\": {\"train_binary_classification_cross_entropy_objective\": {\"count\": 1, \"max\": 0.03523858478773308, \"sum\": 0.03523858478773308, \"min\": 0.03523858478773308}}, \"EndTime\": 1559152970.907427, \"Dimensions\": {\"model\": 8, \"Host\": \"algo-1\", \"Operation\": \"training\", \"Algorithm\": \"Linear Learner\", \"epoch\": 0}, \"StartTime\": 1559152970.90741}\n",
      "\u001b[0m\n",
      "\u001b[31m#metrics {\"Metrics\": {\"train_binary_classification_cross_entropy_objective\": {\"count\": 1, \"max\": 0.03358502932882466, \"sum\": 0.03358502932882466, \"min\": 0.03358502932882466}}, \"EndTime\": 1559152970.907496, \"Dimensions\": {\"model\": 9, \"Host\": \"algo-1\", \"Operation\": \"training\", \"Algorithm\": \"Linear Learner\", \"epoch\": 0}, \"StartTime\": 1559152970.907479}\n",
      "\u001b[0m\n",
      "\u001b[31m#metrics {\"Metrics\": {\"train_binary_classification_cross_entropy_objective\": {\"count\": 1, \"max\": 0.03525163798379322, \"sum\": 0.03525163798379322, \"min\": 0.03525163798379322}}, \"EndTime\": 1559152970.907557, \"Dimensions\": {\"model\": 10, \"Host\": \"algo-1\", \"Operation\": \"training\", \"Algorithm\": \"Linear Learner\", \"epoch\": 0}, \"StartTime\": 1559152970.907541}\n",
      "\u001b[0m\n",
      "\u001b[31m#metrics {\"Metrics\": {\"train_binary_classification_cross_entropy_objective\": {\"count\": 1, \"max\": 0.03361195614714785, \"sum\": 0.03361195614714785, \"min\": 0.03361195614714785}}, \"EndTime\": 1559152970.907625, \"Dimensions\": {\"model\": 11, \"Host\": \"algo-1\", \"Operation\": \"training\", \"Algorithm\": \"Linear Learner\", \"epoch\": 0}, \"StartTime\": 1559152970.907608}\n",
      "\u001b[0m\n",
      "\u001b[31m#metrics {\"Metrics\": {\"train_binary_classification_cross_entropy_objective\": {\"count\": 1, \"max\": 0.008099969816041453, \"sum\": 0.008099969816041453, \"min\": 0.008099969816041453}}, \"EndTime\": 1559152970.907693, \"Dimensions\": {\"model\": 12, \"Host\": \"algo-1\", \"Operation\": \"training\", \"Algorithm\": \"Linear Learner\", \"epoch\": 0}, \"StartTime\": 1559152970.907676}\n",
      "\u001b[0m\n",
      "\u001b[31m#metrics {\"Metrics\": {\"train_binary_classification_cross_entropy_objective\": {\"count\": 1, \"max\": 0.00897961814188563, \"sum\": 0.00897961814188563, \"min\": 0.00897961814188563}}, \"EndTime\": 1559152970.907755, \"Dimensions\": {\"model\": 13, \"Host\": \"algo-1\", \"Operation\": \"training\", \"Algorithm\": \"Linear Learner\", \"epoch\": 0}, \"StartTime\": 1559152970.907738}\n",
      "\u001b[0m\n",
      "\u001b[31m#metrics {\"Metrics\": {\"train_binary_classification_cross_entropy_objective\": {\"count\": 1, \"max\": 0.008095943544460736, \"sum\": 0.008095943544460736, \"min\": 0.008095943544460736}}, \"EndTime\": 1559152970.907791, \"Dimensions\": {\"model\": 14, \"Host\": \"algo-1\", \"Operation\": \"training\", \"Algorithm\": \"Linear Learner\", \"epoch\": 0}, \"StartTime\": 1559152970.907782}\n",
      "\u001b[0m\n",
      "\u001b[31m#metrics {\"Metrics\": {\"train_binary_classification_cross_entropy_objective\": {\"count\": 1, \"max\": 0.008987637826080029, \"sum\": 0.008987637826080029, \"min\": 0.008987637826080029}}, \"EndTime\": 1559152970.907842, \"Dimensions\": {\"model\": 15, \"Host\": \"algo-1\", \"Operation\": \"training\", \"Algorithm\": \"Linear Learner\", \"epoch\": 0}, \"StartTime\": 1559152970.907828}\n",
      "\u001b[0m\n",
      "\u001b[31m#metrics {\"Metrics\": {\"train_binary_classification_cross_entropy_objective\": {\"count\": 1, \"max\": 0.0393923131141783, \"sum\": 0.0393923131141783, \"min\": 0.0393923131141783}}, \"EndTime\": 1559152970.907875, \"Dimensions\": {\"model\": 16, \"Host\": \"algo-1\", \"Operation\": \"training\", \"Algorithm\": \"Linear Learner\", \"epoch\": 0}, \"StartTime\": 1559152970.907866}\n",
      "\u001b[0m\n",
      "\u001b[31m#metrics {\"Metrics\": {\"train_binary_classification_cross_entropy_objective\": {\"count\": 1, \"max\": 0.03780380631840975, \"sum\": 0.03780380631840975, \"min\": 0.03780380631840975}}, \"EndTime\": 1559152970.907903, \"Dimensions\": {\"model\": 17, \"Host\": \"algo-1\", \"Operation\": \"training\", \"Algorithm\": \"Linear Learner\", \"epoch\": 0}, \"StartTime\": 1559152970.907896}\n",
      "\u001b[0m\n",
      "\u001b[31m#metrics {\"Metrics\": {\"train_binary_classification_cross_entropy_objective\": {\"count\": 1, \"max\": 0.039315209585016046, \"sum\": 0.039315209585016046, \"min\": 0.039315209585016046}}, \"EndTime\": 1559152970.907932, \"Dimensions\": {\"model\": 18, \"Host\": \"algo-1\", \"Operation\": \"training\", \"Algorithm\": \"Linear Learner\", \"epoch\": 0}, \"StartTime\": 1559152970.907924}\n",
      "\u001b[0m\n",
      "\u001b[31m#metrics {\"Metrics\": {\"train_binary_classification_cross_entropy_objective\": {\"count\": 1, \"max\": 0.037864711892788026, \"sum\": 0.037864711892788026, \"min\": 0.037864711892788026}}, \"EndTime\": 1559152970.907961, \"Dimensions\": {\"model\": 19, \"Host\": \"algo-1\", \"Operation\": \"training\", \"Algorithm\": \"Linear Learner\", \"epoch\": 0}, \"StartTime\": 1559152970.907953}\n",
      "\u001b[0m\n",
      "\u001b[31m#metrics {\"Metrics\": {\"train_binary_classification_cross_entropy_objective\": {\"count\": 1, \"max\": 0.013484113431248392, \"sum\": 0.013484113431248392, \"min\": 0.013484113431248392}}, \"EndTime\": 1559152970.908012, \"Dimensions\": {\"model\": 20, \"Host\": \"algo-1\", \"Operation\": \"training\", \"Algorithm\": \"Linear Learner\", \"epoch\": 0}, \"StartTime\": 1559152970.907997}\n",
      "\u001b[0m\n",
      "\u001b[31m#metrics {\"Metrics\": {\"train_binary_classification_cross_entropy_objective\": {\"count\": 1, \"max\": 0.013421555350291308, \"sum\": 0.013421555350291308, \"min\": 0.013421555350291308}}, \"EndTime\": 1559152970.908045, \"Dimensions\": {\"model\": 21, \"Host\": \"algo-1\", \"Operation\": \"training\", \"Algorithm\": \"Linear Learner\", \"epoch\": 0}, \"StartTime\": 1559152970.908037}\n",
      "\u001b[0m\n",
      "\u001b[31m#metrics {\"Metrics\": {\"train_binary_classification_cross_entropy_objective\": {\"count\": 1, \"max\": 0.013468130315376935, \"sum\": 0.013468130315376935, \"min\": 0.013468130315376935}}, \"EndTime\": 1559152970.908091, \"Dimensions\": {\"model\": 22, \"Host\": \"algo-1\", \"Operation\": \"training\", \"Algorithm\": \"Linear Learner\", \"epoch\": 0}, \"StartTime\": 1559152970.908082}\n",
      "\u001b[0m\n",
      "\u001b[31m#metrics {\"Metrics\": {\"train_binary_classification_cross_entropy_objective\": {\"count\": 1, \"max\": 0.013429803097698301, \"sum\": 0.013429803097698301, \"min\": 0.013429803097698301}}, \"EndTime\": 1559152970.908121, \"Dimensions\": {\"model\": 23, \"Host\": \"algo-1\", \"Operation\": \"training\", \"Algorithm\": \"Linear Learner\", \"epoch\": 0}, \"StartTime\": 1559152970.908113}\n",
      "\u001b[0m\n",
      "\u001b[31m#metrics {\"Metrics\": {\"train_binary_classification_cross_entropy_objective\": {\"count\": 1, \"max\": 0.040180134130427134, \"sum\": 0.040180134130427134, \"min\": 0.040180134130427134}}, \"EndTime\": 1559152970.90816, \"Dimensions\": {\"model\": 24, \"Host\": \"algo-1\", \"Operation\": \"training\", \"Algorithm\": \"Linear Learner\", \"epoch\": 0}, \"StartTime\": 1559152970.908147}\n",
      "\u001b[0m\n",
      "\u001b[31m#metrics {\"Metrics\": {\"train_binary_classification_cross_entropy_objective\": {\"count\": 1, \"max\": 0.038627823330502874, \"sum\": 0.038627823330502874, \"min\": 0.038627823330502874}}, \"EndTime\": 1559152970.908197, \"Dimensions\": {\"model\": 25, \"Host\": \"algo-1\", \"Operation\": \"training\", \"Algorithm\": \"Linear Learner\", \"epoch\": 0}, \"StartTime\": 1559152970.908188}\n",
      "\u001b[0m\n",
      "\u001b[31m#metrics {\"Metrics\": {\"train_binary_classification_cross_entropy_objective\": {\"count\": 1, \"max\": 0.040170867566088814, \"sum\": 0.040170867566088814, \"min\": 0.040170867566088814}}, \"EndTime\": 1559152970.908226, \"Dimensions\": {\"model\": 26, \"Host\": \"algo-1\", \"Operation\": \"training\", \"Algorithm\": \"Linear Learner\", \"epoch\": 0}, \"StartTime\": 1559152970.908218}\n",
      "\u001b[0m\n",
      "\u001b[31m#metrics {\"Metrics\": {\"train_binary_classification_cross_entropy_objective\": {\"count\": 1, \"max\": 0.03867515799602745, \"sum\": 0.03867515799602745, \"min\": 0.03867515799602745}}, \"EndTime\": 1559152970.908255, \"Dimensions\": {\"model\": 27, \"Host\": \"algo-1\", \"Operation\": \"training\", \"Algorithm\": \"Linear Learner\", \"epoch\": 0}, \"StartTime\": 1559152970.908247}\n",
      "\u001b[0m\n",
      "\u001b[31m#metrics {\"Metrics\": {\"train_binary_classification_cross_entropy_objective\": {\"count\": 1, \"max\": 0.014229479587328151, \"sum\": 0.014229479587328151, \"min\": 0.014229479587328151}}, \"EndTime\": 1559152970.908283, \"Dimensions\": {\"model\": 28, \"Host\": \"algo-1\", \"Operation\": \"training\", \"Algorithm\": \"Linear Learner\", \"epoch\": 0}, \"StartTime\": 1559152970.908276}\n",
      "\u001b[0m\n",
      "\u001b[31m#metrics {\"Metrics\": {\"train_binary_classification_cross_entropy_objective\": {\"count\": 1, \"max\": 0.014235581824879042, \"sum\": 0.014235581824879042, \"min\": 0.014235581824879042}}, \"EndTime\": 1559152970.908318, \"Dimensions\": {\"model\": 29, \"Host\": \"algo-1\", \"Operation\": \"training\", \"Algorithm\": \"Linear Learner\", \"epoch\": 0}, \"StartTime\": 1559152970.908304}\n",
      "\u001b[0m\n",
      "\u001b[31m#metrics {\"Metrics\": {\"train_binary_classification_cross_entropy_objective\": {\"count\": 1, \"max\": 0.01425661707889395, \"sum\": 0.01425661707889395, \"min\": 0.01425661707889395}}, \"EndTime\": 1559152970.908362, \"Dimensions\": {\"model\": 30, \"Host\": \"algo-1\", \"Operation\": \"training\", \"Algorithm\": \"Linear Learner\", \"epoch\": 0}, \"StartTime\": 1559152970.908352}\n",
      "\u001b[0m\n",
      "\u001b[31m#metrics {\"Metrics\": {\"train_binary_classification_cross_entropy_objective\": {\"count\": 1, \"max\": 0.014245745974473254, \"sum\": 0.014245745974473254, \"min\": 0.014245745974473254}}, \"EndTime\": 1559152970.908392, \"Dimensions\": {\"model\": 31, \"Host\": \"algo-1\", \"Operation\": \"training\", \"Algorithm\": \"Linear Learner\", \"epoch\": 0}, \"StartTime\": 1559152970.908384}\n",
      "\u001b[0m\n",
      "\u001b[31m[05/29/2019 18:02:50 INFO 139624350349120] #quality_metric: host=algo-1, epoch=0, train binary_classification_cross_entropy_objective <loss>=0.0350421827338\u001b[0m\n",
      "\u001b[31m[2019-05-29 18:02:50.926] [tensorio] [info] data_pipeline_stats={\"name\": \"/opt/ml/input/data/validation\", \"epoch\": 0, \"duration\": 25909, \"num_examples\": 1}\u001b[0m\n",
      "\u001b[31m#metrics {\"Metrics\": {\"validation_binary_classification_cross_entropy_objective\": {\"count\": 1, \"max\": 0.007045744974493996, \"sum\": 0.007045744974493996, \"min\": 0.007045744974493996}}, \"EndTime\": 1559152976.313757, \"Dimensions\": {\"model\": 0, \"Host\": \"algo-1\", \"Operation\": \"training\", \"Algorithm\": \"Linear Learner\", \"epoch\": 0}, \"StartTime\": 1559152976.313677}\n",
      "\u001b[0m\n",
      "\u001b[31m#metrics {\"Metrics\": {\"validation_binary_classification_cross_entropy_objective\": {\"count\": 1, \"max\": 0.005825152562708232, \"sum\": 0.005825152562708232, \"min\": 0.005825152562708232}}, \"EndTime\": 1559152976.313845, \"Dimensions\": {\"model\": 1, \"Host\": \"algo-1\", \"Operation\": \"training\", \"Algorithm\": \"Linear Learner\", \"epoch\": 0}, \"StartTime\": 1559152976.31383}\n",
      "\u001b[0m\n",
      "\u001b[31m#metrics {\"Metrics\": {\"validation_binary_classification_cross_entropy_objective\": {\"count\": 1, \"max\": 0.007042545376075966, \"sum\": 0.007042545376075966, \"min\": 0.007042545376075966}}, \"EndTime\": 1559152976.313884, \"Dimensions\": {\"model\": 2, \"Host\": \"algo-1\", \"Operation\": \"training\", \"Algorithm\": \"Linear Learner\", \"epoch\": 0}, \"StartTime\": 1559152976.313875}\n",
      "\u001b[0m\n",
      "\u001b[31m#metrics {\"Metrics\": {\"validation_binary_classification_cross_entropy_objective\": {\"count\": 1, \"max\": 0.0058395957004164275, \"sum\": 0.0058395957004164275, \"min\": 0.0058395957004164275}}, \"EndTime\": 1559152976.313941, \"Dimensions\": {\"model\": 3, \"Host\": \"algo-1\", \"Operation\": \"training\", \"Algorithm\": \"Linear Learner\", \"epoch\": 0}, \"StartTime\": 1559152976.313931}\n",
      "\u001b[0m\n",
      "\u001b[31m#metrics {\"Metrics\": {\"validation_binary_classification_cross_entropy_objective\": {\"count\": 1, \"max\": 0.006911862187173543, \"sum\": 0.006911862187173543, \"min\": 0.006911862187173543}}, \"EndTime\": 1559152976.313974, \"Dimensions\": {\"model\": 4, \"Host\": \"algo-1\", \"Operation\": \"training\", \"Algorithm\": \"Linear Learner\", \"epoch\": 0}, \"StartTime\": 1559152976.313966}\n",
      "\u001b[0m\n",
      "\u001b[31m#metrics {\"Metrics\": {\"validation_binary_classification_cross_entropy_objective\": {\"count\": 1, \"max\": 0.007718543033895313, \"sum\": 0.007718543033895313, \"min\": 0.007718543033895313}}, \"EndTime\": 1559152976.314004, \"Dimensions\": {\"model\": 5, \"Host\": \"algo-1\", \"Operation\": \"training\", \"Algorithm\": \"Linear Learner\", \"epoch\": 0}, \"StartTime\": 1559152976.313996}\n",
      "\u001b[0m\n",
      "\u001b[31m#metrics {\"Metrics\": {\"validation_binary_classification_cross_entropy_objective\": {\"count\": 1, \"max\": 0.0071611659631498695, \"sum\": 0.0071611659631498695, \"min\": 0.0071611659631498695}}, \"EndTime\": 1559152976.314033, \"Dimensions\": {\"model\": 6, \"Host\": \"algo-1\", \"Operation\": \"training\", \"Algorithm\": \"Linear Learner\", \"epoch\": 0}, \"StartTime\": 1559152976.314026}\n",
      "\u001b[0m\n",
      "\u001b[31m#metrics {\"Metrics\": {\"validation_binary_classification_cross_entropy_objective\": {\"count\": 1, \"max\": 0.00671519308041902, \"sum\": 0.00671519308041902, \"min\": 0.00671519308041902}}, \"EndTime\": 1559152976.314095, \"Dimensions\": {\"model\": 7, \"Host\": \"algo-1\", \"Operation\": \"training\", \"Algorithm\": \"Linear Learner\", \"epoch\": 0}, \"StartTime\": 1559152976.31408}\n",
      "\u001b[0m\n",
      "\u001b[31m#metrics {\"Metrics\": {\"validation_binary_classification_cross_entropy_objective\": {\"count\": 1, \"max\": 0.007167728313083044, \"sum\": 0.007167728313083044, \"min\": 0.007167728313083044}}, \"EndTime\": 1559152976.314132, \"Dimensions\": {\"model\": 8, \"Host\": \"algo-1\", \"Operation\": \"training\", \"Algorithm\": \"Linear Learner\", \"epoch\": 0}, \"StartTime\": 1559152976.314124}\n",
      "\u001b[0m\n",
      "\u001b[31m#metrics {\"Metrics\": {\"validation_binary_classification_cross_entropy_objective\": {\"count\": 1, \"max\": 0.006057004841757538, \"sum\": 0.006057004841757538, \"min\": 0.006057004841757538}}, \"EndTime\": 1559152976.314169, \"Dimensions\": {\"model\": 9, \"Host\": \"algo-1\", \"Operation\": \"training\", \"Algorithm\": \"Linear Learner\", \"epoch\": 0}, \"StartTime\": 1559152976.31416}\n",
      "\u001b[0m\n",
      "\u001b[31m#metrics {\"Metrics\": {\"validation_binary_classification_cross_entropy_objective\": {\"count\": 1, \"max\": 0.007165089534121506, \"sum\": 0.007165089534121506, \"min\": 0.007165089534121506}}, \"EndTime\": 1559152976.314203, \"Dimensions\": {\"model\": 10, \"Host\": \"algo-1\", \"Operation\": \"training\", \"Algorithm\": \"Linear Learner\", \"epoch\": 0}, \"StartTime\": 1559152976.314195}\n",
      "\u001b[0m\n",
      "\u001b[31m#metrics {\"Metrics\": {\"validation_binary_classification_cross_entropy_objective\": {\"count\": 1, \"max\": 0.0060580575774343125, \"sum\": 0.0060580575774343125, \"min\": 0.0060580575774343125}}, \"EndTime\": 1559152976.314238, \"Dimensions\": {\"model\": 11, \"Host\": \"algo-1\", \"Operation\": \"training\", \"Algorithm\": \"Linear Learner\", \"epoch\": 0}, \"StartTime\": 1559152976.31423}\n",
      "\u001b[0m\n",
      "\u001b[31m#metrics {\"Metrics\": {\"validation_binary_classification_cross_entropy_objective\": {\"count\": 1, \"max\": 0.005178696999120078, \"sum\": 0.005178696999120078, \"min\": 0.005178696999120078}}, \"EndTime\": 1559152976.31428, \"Dimensions\": {\"model\": 12, \"Host\": \"algo-1\", \"Operation\": \"training\", \"Algorithm\": \"Linear Learner\", \"epoch\": 0}, \"StartTime\": 1559152976.314267}\n",
      "\u001b[0m\n",
      "\u001b[31m#metrics {\"Metrics\": {\"validation_binary_classification_cross_entropy_objective\": {\"count\": 1, \"max\": 0.005060791081757037, \"sum\": 0.005060791081757037, \"min\": 0.005060791081757037}}, \"EndTime\": 1559152976.314328, \"Dimensions\": {\"model\": 13, \"Host\": \"algo-1\", \"Operation\": \"training\", \"Algorithm\": \"Linear Learner\", \"epoch\": 0}, \"StartTime\": 1559152976.314319}\n",
      "\u001b[0m\n",
      "\u001b[31m#metrics {\"Metrics\": {\"validation_binary_classification_cross_entropy_objective\": {\"count\": 1, \"max\": 0.005189063159373407, \"sum\": 0.005189063159373407, \"min\": 0.005189063159373407}}, \"EndTime\": 1559152976.31436, \"Dimensions\": {\"model\": 14, \"Host\": \"algo-1\", \"Operation\": \"training\", \"Algorithm\": \"Linear Learner\", \"epoch\": 0}, \"StartTime\": 1559152976.314352}\n",
      "\u001b[0m\n",
      "\u001b[31m#metrics {\"Metrics\": {\"validation_binary_classification_cross_entropy_objective\": {\"count\": 1, \"max\": 0.005061176592646075, \"sum\": 0.005061176592646075, \"min\": 0.005061176592646075}}, \"EndTime\": 1559152976.314391, \"Dimensions\": {\"model\": 15, \"Host\": \"algo-1\", \"Operation\": \"training\", \"Algorithm\": \"Linear Learner\", \"epoch\": 0}, \"StartTime\": 1559152976.314384}\n",
      "\u001b[0m\n",
      "\u001b[31m#metrics {\"Metrics\": {\"validation_binary_classification_cross_entropy_objective\": {\"count\": 1, \"max\": 0.012508722075889428, \"sum\": 0.012508722075889428, \"min\": 0.012508722075889428}}, \"EndTime\": 1559152976.314424, \"Dimensions\": {\"model\": 16, \"Host\": \"algo-1\", \"Operation\": \"training\", \"Algorithm\": \"Linear Learner\", \"epoch\": 0}, \"StartTime\": 1559152976.314417}\n",
      "\u001b[0m\n",
      "\u001b[31m#metrics {\"Metrics\": {\"validation_binary_classification_cross_entropy_objective\": {\"count\": 1, \"max\": 0.012525428007543022, \"sum\": 0.012525428007543022, \"min\": 0.012525428007543022}}, \"EndTime\": 1559152976.314473, \"Dimensions\": {\"model\": 17, \"Host\": \"algo-1\", \"Operation\": \"training\", \"Algorithm\": \"Linear Learner\", \"epoch\": 0}, \"StartTime\": 1559152976.314458}\n",
      "\u001b[0m\n",
      "\u001b[31m#metrics {\"Metrics\": {\"validation_binary_classification_cross_entropy_objective\": {\"count\": 1, \"max\": 0.012500121812136458, \"sum\": 0.012500121812136458, \"min\": 0.012500121812136458}}, \"EndTime\": 1559152976.314514, \"Dimensions\": {\"model\": 18, \"Host\": \"algo-1\", \"Operation\": \"training\", \"Algorithm\": \"Linear Learner\", \"epoch\": 0}, \"StartTime\": 1559152976.314505}\n",
      "\u001b[0m\n",
      "\u001b[31m#metrics {\"Metrics\": {\"validation_binary_classification_cross_entropy_objective\": {\"count\": 1, \"max\": 0.012518782692682239, \"sum\": 0.012518782692682239, \"min\": 0.012518782692682239}}, \"EndTime\": 1559152976.314544, \"Dimensions\": {\"model\": 19, \"Host\": \"algo-1\", \"Operation\": \"training\", \"Algorithm\": \"Linear Learner\", \"epoch\": 0}, \"StartTime\": 1559152976.314537}\n",
      "\u001b[0m\n",
      "\u001b[31m#metrics {\"Metrics\": {\"validation_binary_classification_cross_entropy_objective\": {\"count\": 1, \"max\": 0.012189638430605611, \"sum\": 0.012189638430605611, \"min\": 0.012189638430605611}}, \"EndTime\": 1559152976.314577, \"Dimensions\": {\"model\": 20, \"Host\": \"algo-1\", \"Operation\": \"training\", \"Algorithm\": \"Linear Learner\", \"epoch\": 0}, \"StartTime\": 1559152976.31457}\n",
      "\u001b[0m\n",
      "\u001b[31m#metrics {\"Metrics\": {\"validation_binary_classification_cross_entropy_objective\": {\"count\": 1, \"max\": 0.011754476501625331, \"sum\": 0.011754476501625331, \"min\": 0.011754476501625331}}, \"EndTime\": 1559152976.314614, \"Dimensions\": {\"model\": 21, \"Host\": \"algo-1\", \"Operation\": \"training\", \"Algorithm\": \"Linear Learner\", \"epoch\": 0}, \"StartTime\": 1559152976.314606}\n",
      "\u001b[0m\n",
      "\u001b[31m#metrics {\"Metrics\": {\"validation_binary_classification_cross_entropy_objective\": {\"count\": 1, \"max\": 0.01218579194990812, \"sum\": 0.01218579194990812, \"min\": 0.01218579194990812}}, \"EndTime\": 1559152976.314668, \"Dimensions\": {\"model\": 22, \"Host\": \"algo-1\", \"Operation\": \"training\", \"Algorithm\": \"Linear Learner\", \"epoch\": 0}, \"StartTime\": 1559152976.314653}\n",
      "\u001b[0m\n",
      "\u001b[31m#metrics {\"Metrics\": {\"validation_binary_classification_cross_entropy_objective\": {\"count\": 1, \"max\": 0.011776030584250856, \"sum\": 0.011776030584250856, \"min\": 0.011776030584250856}}, \"EndTime\": 1559152976.314717, \"Dimensions\": {\"model\": 23, \"Host\": \"algo-1\", \"Operation\": \"training\", \"Algorithm\": \"Linear Learner\", \"epoch\": 0}, \"StartTime\": 1559152976.314708}\n",
      "\u001b[0m\n",
      "\u001b[31m#metrics {\"Metrics\": {\"validation_binary_classification_cross_entropy_objective\": {\"count\": 1, \"max\": 0.013643288619691054, \"sum\": 0.013643288619691054, \"min\": 0.013643288619691054}}, \"EndTime\": 1559152976.314748, \"Dimensions\": {\"model\": 24, \"Host\": \"algo-1\", \"Operation\": \"training\", \"Algorithm\": \"Linear Learner\", \"epoch\": 0}, \"StartTime\": 1559152976.31474}\n",
      "\u001b[0m\n",
      "\u001b[31m#metrics {\"Metrics\": {\"validation_binary_classification_cross_entropy_objective\": {\"count\": 1, \"max\": 0.012982985548541307, \"sum\": 0.012982985548541307, \"min\": 0.012982985548541307}}, \"EndTime\": 1559152976.314779, \"Dimensions\": {\"model\": 25, \"Host\": \"algo-1\", \"Operation\": \"training\", \"Algorithm\": \"Linear Learner\", \"epoch\": 0}, \"StartTime\": 1559152976.314771}\n",
      "\u001b[0m\n",
      "\u001b[31m#metrics {\"Metrics\": {\"validation_binary_classification_cross_entropy_objective\": {\"count\": 1, \"max\": 0.013637774265226351, \"sum\": 0.013637774265226351, \"min\": 0.013637774265226351}}, \"EndTime\": 1559152976.314814, \"Dimensions\": {\"model\": 26, \"Host\": \"algo-1\", \"Operation\": \"training\", \"Algorithm\": \"Linear Learner\", \"epoch\": 0}, \"StartTime\": 1559152976.314806}\n",
      "\u001b[0m\n",
      "\u001b[31m#metrics {\"Metrics\": {\"validation_binary_classification_cross_entropy_objective\": {\"count\": 1, \"max\": 0.012990236410541917, \"sum\": 0.012990236410541917, \"min\": 0.012990236410541917}}, \"EndTime\": 1559152976.314856, \"Dimensions\": {\"model\": 27, \"Host\": \"algo-1\", \"Operation\": \"training\", \"Algorithm\": \"Linear Learner\", \"epoch\": 0}, \"StartTime\": 1559152976.314843}\n",
      "\u001b[0m\n",
      "\u001b[31m#metrics {\"Metrics\": {\"validation_binary_classification_cross_entropy_objective\": {\"count\": 1, \"max\": 0.01270223405634515, \"sum\": 0.01270223405634515, \"min\": 0.01270223405634515}}, \"EndTime\": 1559152976.314902, \"Dimensions\": {\"model\": 28, \"Host\": \"algo-1\", \"Operation\": \"training\", \"Algorithm\": \"Linear Learner\", \"epoch\": 0}, \"StartTime\": 1559152976.314893}\n",
      "\u001b[0m\n",
      "\u001b[31m#metrics {\"Metrics\": {\"validation_binary_classification_cross_entropy_objective\": {\"count\": 1, \"max\": 0.012708713806309148, \"sum\": 0.012708713806309148, \"min\": 0.012708713806309148}}, \"EndTime\": 1559152976.314932, \"Dimensions\": {\"model\": 29, \"Host\": \"algo-1\", \"Operation\": \"training\", \"Algorithm\": \"Linear Learner\", \"epoch\": 0}, \"StartTime\": 1559152976.314924}\n",
      "\u001b[0m\n",
      "\u001b[31m#metrics {\"Metrics\": {\"validation_binary_classification_cross_entropy_objective\": {\"count\": 1, \"max\": 0.01264909588371813, \"sum\": 0.01264909588371813, \"min\": 0.01264909588371813}}, \"EndTime\": 1559152976.314967, \"Dimensions\": {\"model\": 30, \"Host\": \"algo-1\", \"Operation\": \"training\", \"Algorithm\": \"Linear Learner\", \"epoch\": 0}, \"StartTime\": 1559152976.314959}\n",
      "\u001b[0m\n",
      "\u001b[31m#metrics {\"Metrics\": {\"validation_binary_classification_cross_entropy_objective\": {\"count\": 1, \"max\": 0.012727893353612577, \"sum\": 0.012727893353612577, \"min\": 0.012727893353612577}}, \"EndTime\": 1559152976.314998, \"Dimensions\": {\"model\": 31, \"Host\": \"algo-1\", \"Operation\": \"training\", \"Algorithm\": \"Linear Learner\", \"epoch\": 0}, \"StartTime\": 1559152976.31499}\n",
      "\u001b[0m\n",
      "\u001b[31m[05/29/2019 18:02:56 INFO 139624350349120] #quality_metric: host=algo-1, epoch=0, validation binary_classification_cross_entropy_objective <loss>=0.00704574497449\u001b[0m\n",
      "\u001b[31m[05/29/2019 18:02:56 INFO 139624350349120] #early_stopping_criteria_metric: host=algo-1, epoch=0, criteria=sampled_accuracy, value=0.999517183865\u001b[0m\n",
      "\u001b[31m[05/29/2019 18:02:56 INFO 139624350349120] Epoch 0: Loss improved. Updating best model\u001b[0m\n",
      "\u001b[31m[05/29/2019 18:02:56 INFO 139624350349120] #progress_metric: host=algo-1, completed 100 % of epochs\u001b[0m\n",
      "\u001b[31m#metrics {\"Metrics\": {\"Max Batches Seen Between Resets\": {\"count\": 1, \"max\": 912, \"sum\": 912.0, \"min\": 912}, \"Number of Batches Since Last Reset\": {\"count\": 1, \"max\": 912, \"sum\": 912.0, \"min\": 912}, \"Number of Records Since Last Reset\": {\"count\": 1, \"max\": 182261, \"sum\": 182261.0, \"min\": 182261}, \"Total Batches Seen\": {\"count\": 1, \"max\": 964, \"sum\": 964.0, \"min\": 964}, \"Total Records Seen\": {\"count\": 1, \"max\": 192661, \"sum\": 192661.0, \"min\": 192661}, \"Max Records Seen Between Resets\": {\"count\": 1, \"max\": 182261, \"sum\": 182261.0, \"min\": 182261}, \"Reset Count\": {\"count\": 1, \"max\": 3, \"sum\": 3.0, \"min\": 3}}, \"EndTime\": 1559152976.316507, \"Dimensions\": {\"Host\": \"algo-1\", \"Meta\": \"training_data_iter\", \"Operation\": \"training\", \"Algorithm\": \"Linear Learner\", \"epoch\": 0}, \"StartTime\": 1559152945.255236}\n",
      "\u001b[0m\n",
      "\u001b[31m[05/29/2019 18:02:56 INFO 139624350349120] #throughput_metric: host=algo-1, train throughput=5867.77041772 records/second\u001b[0m\n",
      "\u001b[31m[05/29/2019 18:02:56 WARNING 139624350349120] wait_for_all_workers will not sync workers since the kv store is not running distributed\u001b[0m\n",
      "\u001b[31m[05/29/2019 18:02:56 WARNING 139624350349120] wait_for_all_workers will not sync workers since the kv store is not running distributed\u001b[0m\n",
      "\u001b[31m[2019-05-29 18:02:56.332] [tensorio] [info] data_pipeline_stats={\"name\": \"/opt/ml/input/data/validation\", \"epoch\": 1, \"duration\": 5404, \"num_examples\": 228}\u001b[0m\n",
      "\u001b[31m[05/29/2019 18:03:01 INFO 139624350349120] #early_stopping_criteria_metric: host=algo-1, epoch=0, criteria=sampled_accuracy, value=0.999517183865\u001b[0m\n",
      "\u001b[31m[05/29/2019 18:03:01 INFO 139624350349120] Epoch 0: Loss improved. Updating best model\u001b[0m\n",
      "\u001b[31m[2019-05-29 18:03:01.602] [tensorio] [info] data_pipeline_stats={\"name\": \"/opt/ml/input/data/validation\", \"epoch\": 2, \"duration\": 5269, \"num_examples\": 228}\u001b[0m\n",
      "\u001b[31m[05/29/2019 18:03:02 INFO 139624350349120] #validation_score (algo-1) : ('binary_classification_cross_entropy_objective', 0.0070457449744939964)\u001b[0m\n",
      "\u001b[31m[05/29/2019 18:03:02 INFO 139624350349120] #validation_score (algo-1) : ('binary_classification_accuracy', 0.99949523767721549)\u001b[0m\n",
      "\u001b[31m[05/29/2019 18:03:02 INFO 139624350349120] #validation_score (algo-1) : ('binary_f_1.000', 0.8535031847133758)\u001b[0m\n",
      "\u001b[31m[05/29/2019 18:03:02 INFO 139624350349120] #validation_score (algo-1) : ('precision', 0.8481012658227848)\u001b[0m\n",
      "\u001b[31m[05/29/2019 18:03:02 INFO 139624350349120] #validation_score (algo-1) : ('recall', 0.8589743589743589)\u001b[0m\n",
      "\u001b[31m[05/29/2019 18:03:02 INFO 139624350349120] #quality_metric: host=algo-1, validation binary_classification_cross_entropy_objective <loss>=0.00704574497449\u001b[0m\n",
      "\u001b[31m[05/29/2019 18:03:02 INFO 139624350349120] #quality_metric: host=algo-1, validation binary_classification_accuracy <score>=0.999495237677\u001b[0m\n",
      "\u001b[31m[05/29/2019 18:03:02 INFO 139624350349120] #quality_metric: host=algo-1, validation binary_f_1.000 <score>=0.853503184713\u001b[0m\n",
      "\u001b[31m[05/29/2019 18:03:02 INFO 139624350349120] #quality_metric: host=algo-1, validation precision <score>=0.848101265823\u001b[0m\n",
      "\u001b[31m[05/29/2019 18:03:02 INFO 139624350349120] #quality_metric: host=algo-1, validation recall <score>=0.858974358974\u001b[0m\n",
      "\u001b[31m[05/29/2019 18:03:02 INFO 139624350349120] Best model found for hyperparameters: {\"lr_scheduler_step\": 10, \"wd\": 0.0001, \"optimizer\": \"adam\", \"lr_scheduler_factor\": 0.99, \"l1\": 0.0, \"learning_rate\": 0.005, \"lr_scheduler_minimum_lr\": 1e-05}\u001b[0m\n",
      "\u001b[31m[05/29/2019 18:03:02 INFO 139624350349120] Saved checkpoint to \"/tmp/tmpCUad8a/mx-mod-0000.params\"\u001b[0m\n",
      "\u001b[31m[2019-05-29 18:03:02.190] [tensorio] [info] data_pipeline_stats={\"name\": \"/opt/ml/input/data/test\", \"epoch\": 0, \"duration\": 37170, \"num_examples\": 1}\u001b[0m\n",
      "\u001b[31m#metrics {\"Metrics\": {\"Max Batches Seen Between Resets\": {\"count\": 1, \"max\": 285, \"sum\": 285.0, \"min\": 285}, \"Number of Batches Since Last Reset\": {\"count\": 1, \"max\": 285, \"sum\": 285.0, \"min\": 285}, \"Number of Records Since Last Reset\": {\"count\": 1, \"max\": 56957, \"sum\": 56957.0, \"min\": 56957}, \"Total Batches Seen\": {\"count\": 1, \"max\": 285, \"sum\": 285.0, \"min\": 285}, \"Total Records Seen\": {\"count\": 1, \"max\": 56957, \"sum\": 56957.0, \"min\": 56957}, \"Max Records Seen Between Resets\": {\"count\": 1, \"max\": 56957, \"sum\": 56957.0, \"min\": 56957}, \"Reset Count\": {\"count\": 1, \"max\": 1, \"sum\": 1.0, \"min\": 1}}, \"EndTime\": 1559152982.884839, \"Dimensions\": {\"Host\": \"algo-1\", \"Meta\": \"test_data_iter\", \"Operation\": \"training\", \"Algorithm\": \"Linear Learner\"}, \"StartTime\": 1559152982.189519}\n",
      "\u001b[0m\n",
      "\u001b[31m[05/29/2019 18:03:02 INFO 139624350349120] #test_score (algo-1) : ('binary_classification_cross_entropy_objective', 0.006737853412198529)\u001b[0m\n",
      "\u001b[31m[05/29/2019 18:03:02 INFO 139624350349120] #test_score (algo-1) : ('binary_classification_accuracy', 0.99931527292518918)\u001b[0m\n",
      "\u001b[31m[05/29/2019 18:03:02 INFO 139624350349120] #test_score (algo-1) : ('binary_f_1.000', 0.7979274611398963)\u001b[0m\n",
      "\u001b[31m[05/29/2019 18:03:02 INFO 139624350349120] #test_score (algo-1) : ('precision', 0.8555555555555555)\u001b[0m\n",
      "\u001b[31m[05/29/2019 18:03:02 INFO 139624350349120] #test_score (algo-1) : ('recall', 0.7475728155339806)\u001b[0m\n",
      "\u001b[31m[05/29/2019 18:03:02 INFO 139624350349120] #quality_metric: host=algo-1, test binary_classification_cross_entropy_objective <loss>=0.0067378534122\u001b[0m\n",
      "\u001b[31m[05/29/2019 18:03:02 INFO 139624350349120] #quality_metric: host=algo-1, test binary_classification_accuracy <score>=0.999315272925\u001b[0m\n",
      "\u001b[31m[05/29/2019 18:03:02 INFO 139624350349120] #quality_metric: host=algo-1, test binary_f_1.000 <score>=0.79792746114\u001b[0m\n",
      "\u001b[31m[05/29/2019 18:03:02 INFO 139624350349120] #quality_metric: host=algo-1, test precision <score>=0.855555555556\u001b[0m\n",
      "\u001b[31m[05/29/2019 18:03:02 INFO 139624350349120] #quality_metric: host=algo-1, test recall <score>=0.747572815534\u001b[0m\n",
      "\u001b[31m[2019-05-29 18:03:02.889] [tensorio] [info] data_pipeline_stats={\"name\": \"/opt/ml/input/data/train\", \"epoch\": 2, \"duration\": 37633, \"num_examples\": 912}\u001b[0m\n",
      "\u001b[31m[2019-05-29 18:03:02.889] [tensorio] [info] data_pipeline_stats={\"name\": \"/opt/ml/input/data/train\", \"duration\": 37769, \"num_epochs\": 3, \"num_examples\": 964}\u001b[0m\n",
      "\u001b[31m[2019-05-29 18:03:02.889] [tensorio] [info] data_pipeline_stats={\"name\": \"/opt/ml/input/data/validation\", \"epoch\": 3, \"duration\": 1286, \"num_examples\": 228}\u001b[0m\n",
      "\u001b[31m[2019-05-29 18:03:02.889] [tensorio] [info] data_pipeline_stats={\"name\": \"/opt/ml/input/data/validation\", \"duration\": 37868, \"num_epochs\": 4, \"num_examples\": 685}\u001b[0m\n",
      "\u001b[31m[2019-05-29 18:03:02.889] [tensorio] [info] data_pipeline_stats={\"name\": \"/opt/ml/input/data/test\", \"epoch\": 1, \"duration\": 698, \"num_examples\": 285}\u001b[0m\n",
      "\u001b[31m[2019-05-29 18:03:02.889] [tensorio] [info] data_pipeline_stats={\"name\": \"/opt/ml/input/data/test\", \"duration\": 37868, \"num_epochs\": 2, \"num_examples\": 286}\u001b[0m\n",
      "\u001b[31m#metrics {\"Metrics\": {\"totaltime\": {\"count\": 1, \"max\": 37957.321882247925, \"sum\": 37957.321882247925, \"min\": 37957.321882247925}, \"finalize.time\": {\"count\": 1, \"max\": 5867.636919021606, \"sum\": 5867.636919021606, \"min\": 5867.636919021606}, \"initialize.time\": {\"count\": 1, \"max\": 232.96403884887695, \"sum\": 232.96403884887695, \"min\": 232.96403884887695}, \"check_early_stopping.time\": {\"count\": 2, \"max\": 0.9241104125976562, \"sum\": 1.6431808471679688, \"min\": 0.7190704345703125}, \"setuptime\": {\"count\": 1, \"max\": 15.146970748901367, \"sum\": 15.146970748901367, \"min\": 15.146970748901367}, \"update.time\": {\"count\": 1, \"max\": 31061.092853546143, \"sum\": 31061.092853546143, \"min\": 31061.092853546143}, \"epochs\": {\"count\": 1, \"max\": 1, \"sum\": 1.0, \"min\": 1}}, \"EndTime\": 1559152982.889432, \"Dimensions\": {\"Host\": \"algo-1\", \"Operation\": \"training\", \"Algorithm\": \"Linear Learner\"}, \"StartTime\": 1559152945.014364}\n",
      "\u001b[0m\n",
      "\n",
      "2019-05-29 18:03:10 Completed - Training job completed\n",
      "Billable seconds: 90\n"
     ]
    }
   ],
   "source": [
    "import boto3\n",
    "import sagemaker\n",
    "\n",
    "sess = sagemaker.Session()\n",
    "\n",
    "linear = sagemaker.estimator.Estimator(container,\n",
    "                                       role, \n",
    "                                       train_instance_count=1, \n",
    "                                       train_instance_type='ml.m4.2xlarge',\n",
    "                                       output_path=output_location,\n",
    "                                       sagemaker_session=sess)\n",
    "linear.set_hyperparameters(feature_dim=30,\n",
    "                           predictor_type='binary_classifier',\n",
    "                           epochs = 1,\n",
    "                           mini_batch_size=200)\n",
    "\n",
    "linear.fit({'train': s3_input_train,  'validation': s3_input_validation, 'test': s3_input_test})\n",
    "\n",
    "# train_max_run = 3600,"
   ]
  },
  {
   "cell_type": "code",
   "execution_count": 281,
   "metadata": {},
   "outputs": [
    {
     "data": {
      "text/plain": [
       "'s3://demo-saeed/fraudcredit-pipeline/model_output'"
      ]
     },
     "execution_count": 281,
     "metadata": {},
     "output_type": "execute_result"
    }
   ],
   "source": [
    "linear.output_path"
   ]
  },
  {
   "cell_type": "code",
   "execution_count": 282,
   "metadata": {},
   "outputs": [
    {
     "data": {
      "image/png": "[encoded data removed]",
      "text/plain": [
       "<Figure size 864x360 with 1 Axes>"
      ]
     },
     "metadata": {},
     "output_type": "display_data"
    }
   ],
   "source": [
    "%matplotlib inline\n",
    "from sagemaker.analytics import TrainingJobAnalytics\n",
    "\n",
    "training_job_name = linear._current_job_name\n",
    "metric_name = 'validation:binary_f_beta'\n",
    "\n",
    "metrics_dataframe = TrainingJobAnalytics(training_job_name=training_job_name,metric_names=[metric_name]).dataframe()\n",
    "plt = metrics_dataframe.plot(kind='line', figsize=(12,5), x='timestamp', y='value', style='b.', legend=False)\n",
    "plt.set_ylabel(metric_name);"
   ]
  },
  {
   "cell_type": "code",
   "execution_count": 283,
   "metadata": {},
   "outputs": [],
   "source": [
    "#linear.deploy(initial_instance_count=1, instance_type='ml.m4.xlarge')\n",
    "linear_predictor = linear.deploy(initial_instance_count=1, instance_type='ml.c5.xlarge', endpoint_name='pip-model-aws-linear-learner', update_endpoint=True)\n"
   ]
  },
  {
   "cell_type": "code",
   "execution_count": 284,
   "metadata": {},
   "outputs": [],
   "source": [
    "linear_predictor.content_type"
   ]
  },
  {
   "cell_type": "code",
   "execution_count": 285,
   "metadata": {},
   "outputs": [
    {
     "data": {
      "text/plain": [
       "'pip-model-aws-linear-learner'"
      ]
     },
     "execution_count": 285,
     "metadata": {},
     "output_type": "execute_result"
    }
   ],
   "source": [
    "linear_predictor.endpoint"
   ]
  },
  {
   "cell_type": "code",
   "execution_count": 286,
   "metadata": {},
   "outputs": [],
   "source": [
    "X_test.columns =['Time', 'V1', 'V2', 'V3', 'V4', 'V5', 'V6', 'V7', 'V8', 'V9', 'V10',\n",
    "       'V11', 'V12', 'V13', 'V14', 'V15', 'V16', 'V17', 'V18', 'V19', 'V20',\n",
    "       'V21', 'V22', 'V23', 'V24', 'V25', 'V26', 'V27', 'V28', 'Amount']"
   ]
  },
  {
   "cell_type": "code",
   "execution_count": 287,
   "metadata": {},
   "outputs": [
    {
     "data": {
      "text/plain": [
       "{'predictions': [{'score': 0.0032706407364457846, 'predicted_label': 0.0}]}"
      ]
     },
     "execution_count": 287,
     "metadata": {},
     "output_type": "execute_result"
    }
   ],
   "source": [
    "from sagemaker.predictor import csv_serializer, json_deserializer\n",
    "\n",
    "linear_predictor.content_type = 'text/csv'\n",
    "linear_predictor.serializer = csv_serializer\n",
    "linear_predictor.deserializer = json_deserializer\n",
    "#linear_predictor.predict(X_test.iloc[0])\n",
    "\n",
    "linear_predictor.predict(X_test.loc[83053])\n"
   ]
  },
  {
   "cell_type": "markdown",
   "metadata": {},
   "source": [
    "# Serial Inference Pipeline with Scikit preprocessor and Linear Learner <a class=\"anchor\" id=\"serial_inference\"></a>\n"
   ]
  },
  {
   "cell_type": "markdown",
   "metadata": {},
   "source": [
    "## Set up the inference pipeline <a class=\"anchor\" id=\"pipeline_setup\"></a>\n",
    "Setting up a Machine Learning pipeline can be done with the Pipeline Model. This sets up a list of models in a single endpoint; in this example, we configure our pipeline model with the fitted Scikit-learn inference model and the fitted Linear Learner model. Deploying the model follows the same ```deploy``` pattern in the SDK."
   ]
  },
  {
   "cell_type": "code",
   "execution_count": 288,
   "metadata": {},
   "outputs": [
    {
     "name": "stdout",
     "output_type": "stream",
     "text": [
      "---------------------------------------------------------------------------------------------------!"
     ]
    }
   ],
   "source": [
    "from sagemaker.model import Model\n",
    "from sagemaker.pipeline import PipelineModel\n",
    "import boto3\n",
    "from time import gmtime, strftime\n",
    "\n",
    "timestamp_prefix = strftime(\"%Y-%m-%d-%H-%M-%S\", gmtime())\n",
    "\n",
    "scikit_learn_inferencee_model = sklearn_preprocessor.create_model()\n",
    "linear_learner_model = linear.create_model()\n",
    "\n",
    "model_name = 'inference-pipeline-' + timestamp_prefix\n",
    "endpoint_name = 'inference-pipeline-ep-' + timestamp_prefix\n",
    "sm_model = PipelineModel(\n",
    "    name=model_name, \n",
    "    role=role, \n",
    "    models=[\n",
    "        scikit_learn_inferencee_model, \n",
    "        linear_learner_model])\n",
    "\n",
    "sm_model.deploy(initial_instance_count=1, instance_type='ml.c4.xlarge', endpoint_name=endpoint_name)"
   ]
  },
  {
   "cell_type": "code",
   "execution_count": 289,
   "metadata": {},
   "outputs": [
    {
     "data": {
      "text/plain": [
       "'inference-pipeline-ep-2019-05-29-18-04-38'"
      ]
     },
     "execution_count": 289,
     "metadata": {},
     "output_type": "execute_result"
    }
   ],
   "source": [
    "sm_model.endpoint_name"
   ]
  },
  {
   "cell_type": "markdown",
   "metadata": {},
   "source": [
    "## Make a request to our pipeline endpoint <a class=\"anchor\" id=\"pipeline_inference_request\"></a>\n",
    "\n",
    "Here we just grab the first line from the test data (you'll notice that the inference python script is very particular about the ordering of the inference request data). The ```ContentType``` field configures the first container, while the ```Accept``` field configures the last container. You can also specify each container's ```Accept``` and ```ContentType``` values using environment variables.\n",
    "\n",
    "We make our request with the payload in ```'text/csv'``` format, since that is what our script currently supports. If other formats need to be supported, this would have to be added to the ```output_fn()``` method in our entry point. Note that we set the ```Accept``` to ```application/json```, since Linear Learner does not support ```text/csv``` ```Accept```. The prediction output in this case is trying to guess the number of rings the abalone specimen would have given its other physical features; the actual number of rings is 10."
   ]
  },
  {
   "cell_type": "code",
   "execution_count": 290,
   "metadata": {},
   "outputs": [
    {
     "data": {
      "text/plain": [
       "'-0.24786986316588436,0.6219285089696768,-0.40766669389149396,-0.3509218261955573,-0.8233977719261477,0.19649077448261495,0.7957025664635167,-0.3106965608154121,0.1893144439369641,-1.3452420342811608,0.6716650083446972,1.3077588367812916,0.8142580498465056,1.0119520742476555,0.2651733617318809,0.3013157742844578,-1.0654016616682236,-0.4894835126703879,1.1260764727702786,-0.20233190321945185,-0.11313468325002365,-1.0829134003296332,-3.1805931958920532,0.6657326387824644,5.848977361387145,-0.21185041492735887,0.6963500086716471,-0.2664339150607643,0.15947289316968447,0.06984808807569087'"
      ]
     },
     "execution_count": 290,
     "metadata": {},
     "output_type": "execute_result"
    }
   ],
   "source": [
    "input_Data = \",\".join( map( str, X_test.iloc[0] ) )\n",
    "input_Data "
   ]
  },
  {
   "cell_type": "code",
   "execution_count": 291,
   "metadata": {},
   "outputs": [
    {
     "name": "stdout",
     "output_type": "stream",
     "text": [
      "b'{\"predictions\": [{\"score\": 0.0022159225773066282, \"predicted_label\": 0.0}]}'\n"
     ]
    }
   ],
   "source": [
    "from sagemaker.predictor import json_serializer, csv_serializer, json_deserializer, RealTimePredictor\n",
    "from sagemaker.content_types import CONTENT_TYPE_CSV, CONTENT_TYPE_JSON\n",
    "payload = input_Data\n",
    "actual_rings = 10\n",
    "predictor = RealTimePredictor(\n",
    "    endpoint=endpoint_name,\n",
    "    sagemaker_session=sagemaker_session,\n",
    "    serializer=csv_serializer,\n",
    "    content_type=CONTENT_TYPE_CSV,\n",
    "    accept=CONTENT_TYPE_JSON)\n",
    "\n",
    "print(predictor.predict(payload))\n"
   ]
  },
  {
   "cell_type": "markdown",
   "metadata": {},
   "source": [
    "## Delete Endpoint <a class=\"anchor\" id=\"delete_endpoint\"></a>\n",
    "Once we are finished with the endpoint, we clean up the resources!"
   ]
  },
  {
   "cell_type": "code",
   "execution_count": null,
   "metadata": {},
   "outputs": [],
   "source": [
    "# sm_client = sagemaker_session.boto_session.client('sagemaker')\n",
    "# sm_client.delete_endpoint(EndpointName=endpoint_name)"
   ]
  }
 ],
 "metadata": {
  "kernelspec": {
   "display_name": "conda_python3",
   "language": "python",
   "name": "conda_python3"
  },
  "language_info": {
   "codemirror_mode": {
    "name": "ipython",
    "version": 3
   },
   "file_extension": ".py",
   "mimetype": "text/x-python",
   "name": "python",
   "nbconvert_exporter": "python",
   "pygments_lexer": "ipython3",
   "version": "3.6.5"
  }
 },
 "nbformat": 4,
 "nbformat_minor": 2
}
